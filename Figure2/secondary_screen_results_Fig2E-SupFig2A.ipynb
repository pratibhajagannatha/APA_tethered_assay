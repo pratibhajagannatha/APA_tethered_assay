{
 "cells": [
  {
   "cell_type": "code",
   "execution_count": 1,
   "id": "02df1957-61f5-4464-aa82-fbb68756df12",
   "metadata": {},
   "outputs": [],
   "source": [
    "import os\n",
    "import glob\n",
    "import pandas as pd\n",
    "import numpy as np\n",
    "import seaborn as sns\n",
    "import matplotlib.pyplot as plt\n",
    "import tqdm"
   ]
  },
  {
   "cell_type": "code",
   "execution_count": 2,
   "id": "e975d1c2-e460-49f6-8177-79cf9d9ad452",
   "metadata": {},
   "outputs": [],
   "source": [
    "data_dir = '/tscc/nfs/home/pjaganna1/projects/apa_screen_yongsheng/activator_redo/analyzed_data'"
   ]
  },
  {
   "cell_type": "code",
   "execution_count": 3,
   "id": "9e38b9b0-92a1-4ade-baaa-e067dadcf19d",
   "metadata": {},
   "outputs": [],
   "source": [
    "upstream_files = glob.glob(os.path.join(data_dir, '*Upstream.txt'))"
   ]
  },
  {
   "cell_type": "code",
   "execution_count": 4,
   "id": "42f668a3-e9ca-491e-96c6-68608a63f509",
   "metadata": {},
   "outputs": [],
   "source": [
    "downstream_files = glob.glob(os.path.join(data_dir, '*Downstream.txt'))"
   ]
  },
  {
   "cell_type": "code",
   "execution_count": 5,
   "id": "1575657f-ac51-49eb-a4af-23bbdcbd5cd5",
   "metadata": {},
   "outputs": [
    {
     "data": {
      "text/plain": [
       "['/tscc/nfs/home/pjaganna1/projects/apa_screen_yongsheng/activator_redo/analyzed_data/Plate02_A_Upstream.txt',\n",
       " '/tscc/nfs/home/pjaganna1/projects/apa_screen_yongsheng/activator_redo/analyzed_data/Plate02_H_Upstream.txt',\n",
       " '/tscc/nfs/home/pjaganna1/projects/apa_screen_yongsheng/activator_redo/analyzed_data/Plate01_D_Upstream.txt',\n",
       " '/tscc/nfs/home/pjaganna1/projects/apa_screen_yongsheng/activator_redo/analyzed_data/Plate02_G_Upstream.txt',\n",
       " '/tscc/nfs/home/pjaganna1/projects/apa_screen_yongsheng/activator_redo/analyzed_data/Plate02_B_Upstream.txt']"
      ]
     },
     "execution_count": 5,
     "metadata": {},
     "output_type": "execute_result"
    }
   ],
   "source": [
    "upstream_files[:5]"
   ]
  },
  {
   "cell_type": "code",
   "execution_count": 6,
   "id": "144dbc04-5191-45bf-953b-b8c852433a99",
   "metadata": {},
   "outputs": [
    {
     "data": {
      "text/plain": [
       "'Plate02_A_Upstream'"
      ]
     },
     "execution_count": 6,
     "metadata": {},
     "output_type": "execute_result"
    }
   ],
   "source": [
    "upstream_files[0].split('/')[-1].split('.txt')[0]"
   ]
  },
  {
   "cell_type": "code",
   "execution_count": 7,
   "id": "8a561b24-cc54-4d66-b89b-560a317b2e83",
   "metadata": {},
   "outputs": [],
   "source": [
    "def make_table(file_list, r):\n",
    "    all_table = pd.DataFrame()\n",
    "    for f in tqdm.tqdm(file_list):\n",
    "        if os.stat(f).st_size != 0:\n",
    "            #print('True')\n",
    "            t = pd.read_csv(f, sep='\\t', index_col=0)\n",
    "            t['rep1_mn'] = t['rep1']/t.loc['NEG','rep1']\n",
    "            t['rep2_mn'] = t['rep2']/t.loc['NEG','rep2']\n",
    "            t['rep3_mn'] = t['rep3']/t.loc['NEG','rep3']\n",
    "            t['RBPmean-NEGmean'] = t['mean']-t.loc['NEG','mean']\n",
    "            t['|RBPmean-NEGmean|'] = abs(t['RBPmean-NEGmean'])\n",
    "            t['mean_normalized'] = t['mean']/t.loc['NEG','mean']\n",
    "            t['Experiment'] = f.split('/')[-1].split('.txt')[0]\n",
    "            if r=='Downstream':\n",
    "                t['reporter']='Downstream'#annotating whether it is upstream or downstream\n",
    "            elif r=='Upstream':\n",
    "                t['reporter']='Upstream'#annotating whether it is upstream or downstream\n",
    "            all_table=pd.concat([all_table, t.reset_index()])\n",
    "            #print(all_table.shape[0])\n",
    "    return all_table"
   ]
  },
  {
   "cell_type": "code",
   "execution_count": 8,
   "id": "25f54f88-3311-42a0-9a69-ff63e4bbeb16",
   "metadata": {},
   "outputs": [
    {
     "name": "stderr",
     "output_type": "stream",
     "text": [
      "100%|██████████| 16/16 [00:00<00:00, 29.22it/s]\n"
     ]
    }
   ],
   "source": [
    "upstream_df = make_table(upstream_files, 'Upstream')"
   ]
  },
  {
   "cell_type": "code",
   "execution_count": 9,
   "id": "e23bb313-39fa-4d4d-9ee1-ba6b42bdc3b9",
   "metadata": {},
   "outputs": [
    {
     "data": {
      "text/html": [
       "<div>\n",
       "<style scoped>\n",
       "    .dataframe tbody tr th:only-of-type {\n",
       "        vertical-align: middle;\n",
       "    }\n",
       "\n",
       "    .dataframe tbody tr th {\n",
       "        vertical-align: top;\n",
       "    }\n",
       "\n",
       "    .dataframe thead th {\n",
       "        text-align: right;\n",
       "    }\n",
       "</style>\n",
       "<table border=\"1\" class=\"dataframe\">\n",
       "  <thead>\n",
       "    <tr style=\"text-align: right;\">\n",
       "      <th></th>\n",
       "      <th>index</th>\n",
       "      <th>rep1</th>\n",
       "      <th>rep2</th>\n",
       "      <th>rep3</th>\n",
       "      <th>mean</th>\n",
       "      <th>std</th>\n",
       "      <th>pvalue</th>\n",
       "      <th>stars</th>\n",
       "      <th>well_id</th>\n",
       "      <th>rep1_mn</th>\n",
       "      <th>rep2_mn</th>\n",
       "      <th>rep3_mn</th>\n",
       "      <th>RBPmean-NEGmean</th>\n",
       "      <th>|RBPmean-NEGmean|</th>\n",
       "      <th>mean_normalized</th>\n",
       "      <th>Experiment</th>\n",
       "      <th>reporter</th>\n",
       "    </tr>\n",
       "  </thead>\n",
       "  <tbody>\n",
       "    <tr>\n",
       "      <th>0</th>\n",
       "      <td>NEG</td>\n",
       "      <td>0.728996</td>\n",
       "      <td>0.636929</td>\n",
       "      <td>0.855790</td>\n",
       "      <td>0.740572</td>\n",
       "      <td>0.077703</td>\n",
       "      <td>NaN</td>\n",
       "      <td>NaN</td>\n",
       "      <td>controls</td>\n",
       "      <td>1.000000</td>\n",
       "      <td>1.000000</td>\n",
       "      <td>1.000000</td>\n",
       "      <td>0.000000</td>\n",
       "      <td>0.000000</td>\n",
       "      <td>1.000000</td>\n",
       "      <td>Plate02_A_Upstream</td>\n",
       "      <td>Upstream</td>\n",
       "    </tr>\n",
       "    <tr>\n",
       "      <th>1</th>\n",
       "      <td>CPSF5</td>\n",
       "      <td>7.552225</td>\n",
       "      <td>6.730881</td>\n",
       "      <td>9.208195</td>\n",
       "      <td>7.830434</td>\n",
       "      <td>1.030314</td>\n",
       "      <td>0.009967</td>\n",
       "      <td>**</td>\n",
       "      <td>controls</td>\n",
       "      <td>10.359763</td>\n",
       "      <td>10.567707</td>\n",
       "      <td>10.759874</td>\n",
       "      <td>7.089862</td>\n",
       "      <td>7.089862</td>\n",
       "      <td>10.573498</td>\n",
       "      <td>Plate02_A_Upstream</td>\n",
       "      <td>Upstream</td>\n",
       "    </tr>\n",
       "    <tr>\n",
       "      <th>2</th>\n",
       "      <td>CPSF6</td>\n",
       "      <td>3.359851</td>\n",
       "      <td>4.051399</td>\n",
       "      <td>10.816774</td>\n",
       "      <td>6.076008</td>\n",
       "      <td>3.364096</td>\n",
       "      <td>0.154012</td>\n",
       "      <td>NaN</td>\n",
       "      <td>controls</td>\n",
       "      <td>4.608875</td>\n",
       "      <td>6.360831</td>\n",
       "      <td>12.639517</td>\n",
       "      <td>5.335436</td>\n",
       "      <td>5.335436</td>\n",
       "      <td>8.204482</td>\n",
       "      <td>Plate02_A_Upstream</td>\n",
       "      <td>Upstream</td>\n",
       "    </tr>\n",
       "    <tr>\n",
       "      <th>3</th>\n",
       "      <td>HNRNPCL1</td>\n",
       "      <td>0.190025</td>\n",
       "      <td>0.190007</td>\n",
       "      <td>0.201158</td>\n",
       "      <td>0.193730</td>\n",
       "      <td>0.005253</td>\n",
       "      <td>0.012966</td>\n",
       "      <td>*</td>\n",
       "      <td>controls</td>\n",
       "      <td>0.260667</td>\n",
       "      <td>0.298317</td>\n",
       "      <td>0.235056</td>\n",
       "      <td>-0.546842</td>\n",
       "      <td>0.546842</td>\n",
       "      <td>0.261595</td>\n",
       "      <td>Plate02_A_Upstream</td>\n",
       "      <td>Upstream</td>\n",
       "    </tr>\n",
       "    <tr>\n",
       "      <th>4</th>\n",
       "      <td>TIAL1</td>\n",
       "      <td>2.018298</td>\n",
       "      <td>2.346810</td>\n",
       "      <td>2.297275</td>\n",
       "      <td>2.220794</td>\n",
       "      <td>0.177107</td>\n",
       "      <td>0.000674</td>\n",
       "      <td>***</td>\n",
       "      <td>Plate02.A01</td>\n",
       "      <td>2.768600</td>\n",
       "      <td>3.684569</td>\n",
       "      <td>2.684390</td>\n",
       "      <td>1.480222</td>\n",
       "      <td>1.480222</td>\n",
       "      <td>2.998756</td>\n",
       "      <td>Plate02_A_Upstream</td>\n",
       "      <td>Upstream</td>\n",
       "    </tr>\n",
       "  </tbody>\n",
       "</table>\n",
       "</div>"
      ],
      "text/plain": [
       "      index      rep1      rep2       rep3      mean       std    pvalue  \\\n",
       "0       NEG  0.728996  0.636929   0.855790  0.740572  0.077703       NaN   \n",
       "1     CPSF5  7.552225  6.730881   9.208195  7.830434  1.030314  0.009967   \n",
       "2     CPSF6  3.359851  4.051399  10.816774  6.076008  3.364096  0.154012   \n",
       "3  HNRNPCL1  0.190025  0.190007   0.201158  0.193730  0.005253  0.012966   \n",
       "4     TIAL1  2.018298  2.346810   2.297275  2.220794  0.177107  0.000674   \n",
       "\n",
       "  stars      well_id    rep1_mn    rep2_mn    rep3_mn  RBPmean-NEGmean  \\\n",
       "0   NaN     controls   1.000000   1.000000   1.000000         0.000000   \n",
       "1    **     controls  10.359763  10.567707  10.759874         7.089862   \n",
       "2   NaN     controls   4.608875   6.360831  12.639517         5.335436   \n",
       "3     *     controls   0.260667   0.298317   0.235056        -0.546842   \n",
       "4   ***  Plate02.A01   2.768600   3.684569   2.684390         1.480222   \n",
       "\n",
       "   |RBPmean-NEGmean|  mean_normalized          Experiment  reporter  \n",
       "0           0.000000         1.000000  Plate02_A_Upstream  Upstream  \n",
       "1           7.089862        10.573498  Plate02_A_Upstream  Upstream  \n",
       "2           5.335436         8.204482  Plate02_A_Upstream  Upstream  \n",
       "3           0.546842         0.261595  Plate02_A_Upstream  Upstream  \n",
       "4           1.480222         2.998756  Plate02_A_Upstream  Upstream  "
      ]
     },
     "execution_count": 9,
     "metadata": {},
     "output_type": "execute_result"
    }
   ],
   "source": [
    "upstream_df.head()"
   ]
  },
  {
   "cell_type": "code",
   "execution_count": 10,
   "id": "7a5fad77-de7d-4c62-be4d-21591362bf6a",
   "metadata": {},
   "outputs": [
    {
     "name": "stderr",
     "output_type": "stream",
     "text": [
      "100%|██████████| 16/16 [00:00<00:00, 43.95it/s]\n"
     ]
    }
   ],
   "source": [
    "downstream_df = make_table(downstream_files, 'Downstream')"
   ]
  },
  {
   "cell_type": "code",
   "execution_count": 11,
   "id": "1584917e-7731-4039-b286-5818d0e441ef",
   "metadata": {},
   "outputs": [],
   "source": [
    "missing_wells_df = pd.read_csv('/tscc/nfs/home/pjaganna1/projects/apa_screen_yongsheng/activator_redo/Missing_Wells.tsv', sep='\\t', header=None)"
   ]
  },
  {
   "cell_type": "code",
   "execution_count": 12,
   "id": "441818c8-341d-41d1-a668-ffa7dfa21e18",
   "metadata": {},
   "outputs": [
    {
     "data": {
      "text/html": [
       "<div>\n",
       "<style scoped>\n",
       "    .dataframe tbody tr th:only-of-type {\n",
       "        vertical-align: middle;\n",
       "    }\n",
       "\n",
       "    .dataframe tbody tr th {\n",
       "        vertical-align: top;\n",
       "    }\n",
       "\n",
       "    .dataframe thead th {\n",
       "        text-align: right;\n",
       "    }\n",
       "</style>\n",
       "<table border=\"1\" class=\"dataframe\">\n",
       "  <thead>\n",
       "    <tr style=\"text-align: right;\">\n",
       "      <th></th>\n",
       "      <th>0</th>\n",
       "      <th>1</th>\n",
       "      <th>2</th>\n",
       "      <th>3</th>\n",
       "    </tr>\n",
       "  </thead>\n",
       "  <tbody>\n",
       "    <tr>\n",
       "      <th>0</th>\n",
       "      <td>Plate01 C</td>\n",
       "      <td>RPS28</td>\n",
       "      <td>C05</td>\n",
       "      <td>Up/Down</td>\n",
       "    </tr>\n",
       "    <tr>\n",
       "      <th>1</th>\n",
       "      <td>Plate01 F</td>\n",
       "      <td>THUMPD1</td>\n",
       "      <td>F04</td>\n",
       "      <td>Up/Down</td>\n",
       "    </tr>\n",
       "    <tr>\n",
       "      <th>2</th>\n",
       "      <td>Plate01 F</td>\n",
       "      <td>NONO</td>\n",
       "      <td>F05</td>\n",
       "      <td>Up/Down</td>\n",
       "    </tr>\n",
       "    <tr>\n",
       "      <th>3</th>\n",
       "      <td>Plate01 G</td>\n",
       "      <td>RBFOX1</td>\n",
       "      <td>G08</td>\n",
       "      <td>Up/Down</td>\n",
       "    </tr>\n",
       "    <tr>\n",
       "      <th>4</th>\n",
       "      <td>Plate01 G</td>\n",
       "      <td>HNRNPH1</td>\n",
       "      <td>G12</td>\n",
       "      <td>Up/Down</td>\n",
       "    </tr>\n",
       "  </tbody>\n",
       "</table>\n",
       "</div>"
      ],
      "text/plain": [
       "           0        1    2        3\n",
       "0  Plate01 C    RPS28  C05  Up/Down\n",
       "1  Plate01 F  THUMPD1  F04  Up/Down\n",
       "2  Plate01 F     NONO  F05  Up/Down\n",
       "3  Plate01 G   RBFOX1  G08  Up/Down\n",
       "4  Plate01 G  HNRNPH1  G12  Up/Down"
      ]
     },
     "execution_count": 12,
     "metadata": {},
     "output_type": "execute_result"
    }
   ],
   "source": [
    "missing_wells_df.head()"
   ]
  },
  {
   "cell_type": "code",
   "execution_count": 14,
   "id": "ede78319-d1cd-4fda-9162-27eed7f87116",
   "metadata": {},
   "outputs": [],
   "source": [
    "missing_wells_df['well_id'] = missing_wells_df.apply(lambda x: f\"{x[0].split(' ')[0]}.{x[2]}\", axis=1)"
   ]
  },
  {
   "cell_type": "code",
   "execution_count": 15,
   "id": "8a71f6aa-ef8a-44fe-91a7-43c9b6b6dbe3",
   "metadata": {},
   "outputs": [],
   "source": [
    "missing_wells_list = missing_wells_df['well_id'].tolist()"
   ]
  },
  {
   "cell_type": "code",
   "execution_count": 16,
   "id": "8cad8242-3614-4ed9-a4a1-7d6c71239dcc",
   "metadata": {},
   "outputs": [
    {
     "data": {
      "text/plain": [
       "['Plate01.C05',\n",
       " 'Plate01.F04',\n",
       " 'Plate01.F05',\n",
       " 'Plate01.G08',\n",
       " 'Plate01.G12',\n",
       " 'Plate02.B04',\n",
       " 'Plate02.D07']"
      ]
     },
     "execution_count": 16,
     "metadata": {},
     "output_type": "execute_result"
    }
   ],
   "source": [
    "missing_wells_list"
   ]
  },
  {
   "cell_type": "code",
   "execution_count": 17,
   "id": "2c1ce1d0-2293-4331-854c-7e57bcad4295",
   "metadata": {},
   "outputs": [],
   "source": [
    "upstream_df = upstream_df[~upstream_df['well_id'].isin(missing_wells_list)]"
   ]
  },
  {
   "cell_type": "code",
   "execution_count": 18,
   "id": "ac8fac04-3771-43da-a9f0-9080f6d52d01",
   "metadata": {},
   "outputs": [],
   "source": [
    "downstream_df = downstream_df[~downstream_df['well_id'].isin(missing_wells_list)]"
   ]
  },
  {
   "cell_type": "code",
   "execution_count": 19,
   "id": "1127a8f3-33c5-45ec-b107-e524a80bab8f",
   "metadata": {},
   "outputs": [],
   "source": [
    "upstream_sig_genes = set(upstream_df[(upstream_df['well_id'] != 'controls') & (upstream_df['pvalue'] <= 0.05)].dropna(subset='index')['index'].tolist())"
   ]
  },
  {
   "cell_type": "code",
   "execution_count": 20,
   "id": "7545f4ea-359b-4d34-aff9-15a0fe40b1a5",
   "metadata": {},
   "outputs": [],
   "source": [
    "downstream_sig_genes = set(downstream_df[(downstream_df['well_id'] != 'controls') & (downstream_df['pvalue'] <= 0.05)].dropna(subset='index')['index'].tolist())"
   ]
  },
  {
   "cell_type": "code",
   "execution_count": 21,
   "id": "1d498bf4-ad2d-405c-a67d-2ac7cba21516",
   "metadata": {},
   "outputs": [],
   "source": [
    "original_dir = '/tscc/nfs/home/pjaganna1/projects/apa_screen_yongsheng/analyzed_data/output_tables_may22/candidate_lists'"
   ]
  },
  {
   "cell_type": "code",
   "execution_count": 22,
   "id": "4b84aab0-592e-4fd8-a682-8a08e4bfacd3",
   "metadata": {},
   "outputs": [],
   "source": [
    "downstream_activator_orig_list = set(pd.read_csv(os.path.join(original_dir, 'downstream_activator_may22.txt'), sep='\\t', header=None)[0])"
   ]
  },
  {
   "cell_type": "code",
   "execution_count": 23,
   "id": "fc79a9e0-d7d0-4709-9c81-c45585f0714c",
   "metadata": {},
   "outputs": [],
   "source": [
    "upstream_activator_orig_list = set(pd.read_csv(os.path.join(original_dir, 'upstream_activator_may22.txt'), sep='\\t', header=None)[0])"
   ]
  },
  {
   "cell_type": "code",
   "execution_count": 24,
   "id": "a4c627b9-475b-4c76-9a34-5a51b2db4ebf",
   "metadata": {},
   "outputs": [],
   "source": [
    "all_candidates = pd.read_csv('./candidate_list.txt', header=None)[0].tolist()"
   ]
  },
  {
   "cell_type": "code",
   "execution_count": 28,
   "id": "36d29cc9-13b2-481e-8e4e-d2f6278b6c94",
   "metadata": {},
   "outputs": [],
   "source": [
    "all_candidates.append('NUDT21')\n",
    "all_candidates.append('CPSF6')\n"
   ]
  },
  {
   "cell_type": "code",
   "execution_count": 29,
   "id": "a2c5985d-a5ff-4f94-afc7-6116f53a5258",
   "metadata": {},
   "outputs": [
    {
     "name": "stdout",
     "output_type": "stream",
     "text": [
      "(101, 6)\n"
     ]
    }
   ],
   "source": [
    "downstream_activator_ranked_df = pd.read_csv('/tscc/nfs/home/pjaganna1/projects/apa_screen_yongsheng/analyzed_data/output_tables_may22/downstream_positive_validation_mean_normalized.txt', sep='\\t')[['index', 'well_id', 'mean', 'mean_normalized', 'pvalue']].reset_index()\n",
    "print(downstream_activator_ranked_df.shape)\n",
    "downstream_activator_ranked_df['rank'] = downstream_activator_ranked_df.apply(lambda x: x['level_0'] + 1, axis=1)\n",
    "downstream_activator_ranked_df = downstream_activator_ranked_df[['rank', 'index', 'well_id']]"
   ]
  },
  {
   "cell_type": "code",
   "execution_count": 30,
   "id": "5ba8ae71-5af9-472b-bbd1-afd72f865707",
   "metadata": {},
   "outputs": [
    {
     "name": "stdout",
     "output_type": "stream",
     "text": [
      "(111, 6)\n"
     ]
    }
   ],
   "source": [
    "upstream_activator_ranked_df = pd.read_csv('/tscc/nfs/home/pjaganna1/projects/apa_screen_yongsheng/analyzed_data/output_tables_may22/upstream_positive_validation_mean_normalized.txt', sep='\\t')[['index','well_id', 'mean', 'mean_normalized', 'pvalue']].reset_index()\n",
    "print(upstream_activator_ranked_df.shape)\n",
    "upstream_activator_ranked_df['rank'] = upstream_activator_ranked_df.apply(lambda x: x['level_0'] + 1, axis=1)\n",
    "upstream_activator_ranked_df = upstream_activator_ranked_df[['rank', 'index', 'well_id']]"
   ]
  },
  {
   "cell_type": "code",
   "execution_count": 31,
   "id": "16e11151-6213-40c7-a472-5af8b3ebad2a",
   "metadata": {},
   "outputs": [
    {
     "data": {
      "text/html": [
       "<div>\n",
       "<style scoped>\n",
       "    .dataframe tbody tr th:only-of-type {\n",
       "        vertical-align: middle;\n",
       "    }\n",
       "\n",
       "    .dataframe tbody tr th {\n",
       "        vertical-align: top;\n",
       "    }\n",
       "\n",
       "    .dataframe thead th {\n",
       "        text-align: right;\n",
       "    }\n",
       "</style>\n",
       "<table border=\"1\" class=\"dataframe\">\n",
       "  <thead>\n",
       "    <tr style=\"text-align: right;\">\n",
       "      <th></th>\n",
       "      <th>rank</th>\n",
       "      <th>index</th>\n",
       "      <th>well_id</th>\n",
       "    </tr>\n",
       "  </thead>\n",
       "  <tbody>\n",
       "    <tr>\n",
       "      <th>0</th>\n",
       "      <td>1</td>\n",
       "      <td>CPSF5</td>\n",
       "      <td>DNASU001.B06</td>\n",
       "    </tr>\n",
       "    <tr>\n",
       "      <th>1</th>\n",
       "      <td>2</td>\n",
       "      <td>CPSF5</td>\n",
       "      <td>DNASU001.E06</td>\n",
       "    </tr>\n",
       "    <tr>\n",
       "      <th>2</th>\n",
       "      <td>3</td>\n",
       "      <td>RNPS1</td>\n",
       "      <td>GYRBP004.A01</td>\n",
       "    </tr>\n",
       "    <tr>\n",
       "      <th>3</th>\n",
       "      <td>4</td>\n",
       "      <td>CPSF6</td>\n",
       "      <td>GYRBP005.C12</td>\n",
       "    </tr>\n",
       "    <tr>\n",
       "      <th>4</th>\n",
       "      <td>5</td>\n",
       "      <td>CSTF1</td>\n",
       "      <td>DNASU001.H05</td>\n",
       "    </tr>\n",
       "  </tbody>\n",
       "</table>\n",
       "</div>"
      ],
      "text/plain": [
       "   rank  index       well_id\n",
       "0     1  CPSF5  DNASU001.B06\n",
       "1     2  CPSF5  DNASU001.E06\n",
       "2     3  RNPS1  GYRBP004.A01\n",
       "3     4  CPSF6  GYRBP005.C12\n",
       "4     5  CSTF1  DNASU001.H05"
      ]
     },
     "execution_count": 31,
     "metadata": {},
     "output_type": "execute_result"
    }
   ],
   "source": [
    "upstream_activator_ranked_df.head()"
   ]
  },
  {
   "cell_type": "code",
   "execution_count": 32,
   "id": "d476021c-4754-4c95-91f8-70d03725506d",
   "metadata": {},
   "outputs": [
    {
     "data": {
      "text/html": [
       "<div>\n",
       "<style scoped>\n",
       "    .dataframe tbody tr th:only-of-type {\n",
       "        vertical-align: middle;\n",
       "    }\n",
       "\n",
       "    .dataframe tbody tr th {\n",
       "        vertical-align: top;\n",
       "    }\n",
       "\n",
       "    .dataframe thead th {\n",
       "        text-align: right;\n",
       "    }\n",
       "</style>\n",
       "<table border=\"1\" class=\"dataframe\">\n",
       "  <thead>\n",
       "    <tr style=\"text-align: right;\">\n",
       "      <th></th>\n",
       "      <th>rank</th>\n",
       "      <th>index</th>\n",
       "      <th>well_id</th>\n",
       "    </tr>\n",
       "  </thead>\n",
       "  <tbody>\n",
       "    <tr>\n",
       "      <th>0</th>\n",
       "      <td>1</td>\n",
       "      <td>CSTF1</td>\n",
       "      <td>DNASU001.H05</td>\n",
       "    </tr>\n",
       "    <tr>\n",
       "      <th>1</th>\n",
       "      <td>2</td>\n",
       "      <td>TOB2</td>\n",
       "      <td>DNASU001.F07</td>\n",
       "    </tr>\n",
       "    <tr>\n",
       "      <th>2</th>\n",
       "      <td>3</td>\n",
       "      <td>PRRC2B</td>\n",
       "      <td>Missing_Wells.B01</td>\n",
       "    </tr>\n",
       "    <tr>\n",
       "      <th>3</th>\n",
       "      <td>4</td>\n",
       "      <td>PARN</td>\n",
       "      <td>GYRBP007.C07</td>\n",
       "    </tr>\n",
       "    <tr>\n",
       "      <th>4</th>\n",
       "      <td>5</td>\n",
       "      <td>RBM11</td>\n",
       "      <td>GYRBP003.H09</td>\n",
       "    </tr>\n",
       "  </tbody>\n",
       "</table>\n",
       "</div>"
      ],
      "text/plain": [
       "   rank   index            well_id\n",
       "0     1   CSTF1       DNASU001.H05\n",
       "1     2    TOB2       DNASU001.F07\n",
       "2     3  PRRC2B  Missing_Wells.B01\n",
       "3     4    PARN       GYRBP007.C07\n",
       "4     5   RBM11       GYRBP003.H09"
      ]
     },
     "execution_count": 32,
     "metadata": {},
     "output_type": "execute_result"
    }
   ],
   "source": [
    "downstream_activator_ranked_df.head()"
   ]
  },
  {
   "cell_type": "code",
   "execution_count": 33,
   "id": "c0533879-a6b1-45f7-9240-61b463e6ccfb",
   "metadata": {},
   "outputs": [],
   "source": [
    "downstream_redo_ranking_df = downstream_df[(downstream_df['well_id']!= 'controls') & (downstream_df['pvalue'] < 0.05)].sort_values(by = ['mean_normalized', 'pvalue'], ascending = [False, True]).reset_index()\n",
    "downstream_redo_ranking_df = downstream_redo_ranking_df.drop('level_0', axis=1).reset_index()\n",
    "downstream_redo_ranking_df['rank'] = downstream_redo_ranking_df.apply(lambda x: x['level_0'] + 1, axis=1)\n",
    "downstream_redo_ranking_df = downstream_redo_ranking_df[['rank', 'index', 'well_id']]"
   ]
  },
  {
   "cell_type": "code",
   "execution_count": 34,
   "id": "f3d98092-e0cf-4c01-95aa-4e47730850c4",
   "metadata": {},
   "outputs": [],
   "source": [
    "downstream_redo_ranking_df = downstream_redo_ranking_df.drop_duplicates(subset='index')"
   ]
  },
  {
   "cell_type": "code",
   "execution_count": 35,
   "id": "0e24fb58-bc56-4413-8972-5b2d350817e2",
   "metadata": {},
   "outputs": [
    {
     "data": {
      "text/html": [
       "<div>\n",
       "<style scoped>\n",
       "    .dataframe tbody tr th:only-of-type {\n",
       "        vertical-align: middle;\n",
       "    }\n",
       "\n",
       "    .dataframe tbody tr th {\n",
       "        vertical-align: top;\n",
       "    }\n",
       "\n",
       "    .dataframe thead th {\n",
       "        text-align: right;\n",
       "    }\n",
       "</style>\n",
       "<table border=\"1\" class=\"dataframe\">\n",
       "  <thead>\n",
       "    <tr style=\"text-align: right;\">\n",
       "      <th></th>\n",
       "      <th>rank</th>\n",
       "      <th>index</th>\n",
       "      <th>well_id</th>\n",
       "    </tr>\n",
       "  </thead>\n",
       "  <tbody>\n",
       "    <tr>\n",
       "      <th>0</th>\n",
       "      <td>1</td>\n",
       "      <td>DDX17</td>\n",
       "      <td>Plate02.A08</td>\n",
       "    </tr>\n",
       "    <tr>\n",
       "      <th>1</th>\n",
       "      <td>2</td>\n",
       "      <td>PARN</td>\n",
       "      <td>Plate02.A07</td>\n",
       "    </tr>\n",
       "    <tr>\n",
       "      <th>2</th>\n",
       "      <td>3</td>\n",
       "      <td>PRRC2B</td>\n",
       "      <td>Plate02.E04</td>\n",
       "    </tr>\n",
       "    <tr>\n",
       "      <th>3</th>\n",
       "      <td>4</td>\n",
       "      <td>RBM11</td>\n",
       "      <td>Plate01.D09</td>\n",
       "    </tr>\n",
       "    <tr>\n",
       "      <th>4</th>\n",
       "      <td>5</td>\n",
       "      <td>GTSF1</td>\n",
       "      <td>Plate01.B06</td>\n",
       "    </tr>\n",
       "    <tr>\n",
       "      <th>...</th>\n",
       "      <td>...</td>\n",
       "      <td>...</td>\n",
       "      <td>...</td>\n",
       "    </tr>\n",
       "    <tr>\n",
       "      <th>101</th>\n",
       "      <td>102</td>\n",
       "      <td>ZRANB2</td>\n",
       "      <td>Plate02.H02</td>\n",
       "    </tr>\n",
       "    <tr>\n",
       "      <th>102</th>\n",
       "      <td>103</td>\n",
       "      <td>PEG10</td>\n",
       "      <td>Plate02.G02</td>\n",
       "    </tr>\n",
       "    <tr>\n",
       "      <th>103</th>\n",
       "      <td>104</td>\n",
       "      <td>BUD13</td>\n",
       "      <td>Plate01.H09</td>\n",
       "    </tr>\n",
       "    <tr>\n",
       "      <th>104</th>\n",
       "      <td>105</td>\n",
       "      <td>MKI67IP</td>\n",
       "      <td>Plate01.H08</td>\n",
       "    </tr>\n",
       "    <tr>\n",
       "      <th>105</th>\n",
       "      <td>106</td>\n",
       "      <td>HNRNPCL1</td>\n",
       "      <td>Plate01.D11</td>\n",
       "    </tr>\n",
       "  </tbody>\n",
       "</table>\n",
       "<p>90 rows × 3 columns</p>\n",
       "</div>"
      ],
      "text/plain": [
       "     rank     index      well_id\n",
       "0       1     DDX17  Plate02.A08\n",
       "1       2      PARN  Plate02.A07\n",
       "2       3    PRRC2B  Plate02.E04\n",
       "3       4     RBM11  Plate01.D09\n",
       "4       5     GTSF1  Plate01.B06\n",
       "..    ...       ...          ...\n",
       "101   102    ZRANB2  Plate02.H02\n",
       "102   103     PEG10  Plate02.G02\n",
       "103   104     BUD13  Plate01.H09\n",
       "104   105   MKI67IP  Plate01.H08\n",
       "105   106  HNRNPCL1  Plate01.D11\n",
       "\n",
       "[90 rows x 3 columns]"
      ]
     },
     "execution_count": 35,
     "metadata": {},
     "output_type": "execute_result"
    }
   ],
   "source": [
    "downstream_redo_ranking_df"
   ]
  },
  {
   "cell_type": "code",
   "execution_count": 36,
   "id": "1848db61-1407-4d1d-a87c-e453a398c624",
   "metadata": {},
   "outputs": [],
   "source": [
    "upstream_redo_ranking_df = upstream_df[(upstream_df['well_id']!= 'controls') & (upstream_df['pvalue'] < 0.05)].sort_values(by = ['mean_normalized', 'pvalue'], ascending = [False, True]).reset_index()\n",
    "upstream_redo_ranking_df = upstream_redo_ranking_df.drop('level_0', axis=1).reset_index()\n",
    "upstream_redo_ranking_df['rank'] = upstream_redo_ranking_df.apply(lambda x: x['level_0'] + 1, axis=1)\n",
    "upstream_redo_ranking_df = upstream_redo_ranking_df[['rank', 'index', 'well_id']]"
   ]
  },
  {
   "cell_type": "code",
   "execution_count": 37,
   "id": "e0c456b1-f117-4d52-9e84-2a2f135e62f1",
   "metadata": {},
   "outputs": [],
   "source": [
    "upstream_redo_ranking_df = upstream_redo_ranking_df.drop_duplicates(subset='index')"
   ]
  },
  {
   "cell_type": "code",
   "execution_count": 38,
   "id": "1b505cfe-262b-4920-a88a-694ac8f9b190",
   "metadata": {},
   "outputs": [
    {
     "data": {
      "text/html": [
       "<div>\n",
       "<style scoped>\n",
       "    .dataframe tbody tr th:only-of-type {\n",
       "        vertical-align: middle;\n",
       "    }\n",
       "\n",
       "    .dataframe tbody tr th {\n",
       "        vertical-align: top;\n",
       "    }\n",
       "\n",
       "    .dataframe thead th {\n",
       "        text-align: right;\n",
       "    }\n",
       "</style>\n",
       "<table border=\"1\" class=\"dataframe\">\n",
       "  <thead>\n",
       "    <tr style=\"text-align: right;\">\n",
       "      <th></th>\n",
       "      <th>rank</th>\n",
       "      <th>index</th>\n",
       "      <th>well_id</th>\n",
       "    </tr>\n",
       "  </thead>\n",
       "  <tbody>\n",
       "    <tr>\n",
       "      <th>0</th>\n",
       "      <td>1</td>\n",
       "      <td>CPSF5</td>\n",
       "      <td>Plate01.C01</td>\n",
       "    </tr>\n",
       "    <tr>\n",
       "      <th>2</th>\n",
       "      <td>3</td>\n",
       "      <td>CSTF1</td>\n",
       "      <td>Plate01.H03</td>\n",
       "    </tr>\n",
       "    <tr>\n",
       "      <th>3</th>\n",
       "      <td>4</td>\n",
       "      <td>RNPS1</td>\n",
       "      <td>Plate02.E02</td>\n",
       "    </tr>\n",
       "    <tr>\n",
       "      <th>4</th>\n",
       "      <td>5</td>\n",
       "      <td>CPSF6</td>\n",
       "      <td>Plate02.G05</td>\n",
       "    </tr>\n",
       "    <tr>\n",
       "      <th>5</th>\n",
       "      <td>6</td>\n",
       "      <td>GRB2</td>\n",
       "      <td>Plate01.C06</td>\n",
       "    </tr>\n",
       "    <tr>\n",
       "      <th>...</th>\n",
       "      <td>...</td>\n",
       "      <td>...</td>\n",
       "      <td>...</td>\n",
       "    </tr>\n",
       "    <tr>\n",
       "      <th>75</th>\n",
       "      <td>76</td>\n",
       "      <td>BTG4</td>\n",
       "      <td>Plate01.B02</td>\n",
       "    </tr>\n",
       "    <tr>\n",
       "      <th>76</th>\n",
       "      <td>77</td>\n",
       "      <td>SNW1</td>\n",
       "      <td>Plate01.B04</td>\n",
       "    </tr>\n",
       "    <tr>\n",
       "      <th>77</th>\n",
       "      <td>78</td>\n",
       "      <td>BTG1</td>\n",
       "      <td>Plate01.F01</td>\n",
       "    </tr>\n",
       "    <tr>\n",
       "      <th>78</th>\n",
       "      <td>79</td>\n",
       "      <td>PEG10</td>\n",
       "      <td>Plate02.G02</td>\n",
       "    </tr>\n",
       "    <tr>\n",
       "      <th>79</th>\n",
       "      <td>80</td>\n",
       "      <td>SNRPN</td>\n",
       "      <td>Plate01.A08</td>\n",
       "    </tr>\n",
       "  </tbody>\n",
       "</table>\n",
       "<p>70 rows × 3 columns</p>\n",
       "</div>"
      ],
      "text/plain": [
       "    rank  index      well_id\n",
       "0      1  CPSF5  Plate01.C01\n",
       "2      3  CSTF1  Plate01.H03\n",
       "3      4  RNPS1  Plate02.E02\n",
       "4      5  CPSF6  Plate02.G05\n",
       "5      6   GRB2  Plate01.C06\n",
       "..   ...    ...          ...\n",
       "75    76   BTG4  Plate01.B02\n",
       "76    77   SNW1  Plate01.B04\n",
       "77    78   BTG1  Plate01.F01\n",
       "78    79  PEG10  Plate02.G02\n",
       "79    80  SNRPN  Plate01.A08\n",
       "\n",
       "[70 rows x 3 columns]"
      ]
     },
     "execution_count": 38,
     "metadata": {},
     "output_type": "execute_result"
    }
   ],
   "source": [
    "upstream_redo_ranking_df"
   ]
  },
  {
   "cell_type": "code",
   "execution_count": 39,
   "id": "ab154513-bd6c-4249-9611-6e6d2aae9c1d",
   "metadata": {},
   "outputs": [],
   "source": [
    "from scipy import stats"
   ]
  },
  {
   "cell_type": "code",
   "execution_count": 41,
   "id": "864d4556-ee10-4dbb-aed1-08582806f6e9",
   "metadata": {},
   "outputs": [
    {
     "name": "stdout",
     "output_type": "stream",
     "text": [
      "SignificanceResult(statistic=0.7265614762829822, pvalue=7.341762376591674e-12)\n"
     ]
    },
    {
     "data": {
      "image/png": "[encoded data removed]",
      "text/plain": [
       "<Figure size 400x400 with 1 Axes>"
      ]
     },
     "metadata": {},
     "output_type": "display_data"
    }
   ],
   "source": [
    "sns.set(rc={'figure.figsize':(4,4)})\n",
    "sns.set_style(\"white\")\n",
    "\n",
    "\n",
    "down_redo_original = pd.merge(downstream_redo_ranking_df, downstream_activator_ranked_df, on='index', suffixes=['_redo', '_orig'])\n",
    "sns.scatterplot(down_redo_original, x='rank_redo', y='rank_orig', linewidth=0, color='#7C5D86')\n",
    "plt.title('Downstream Redo Original Compare')\n",
    "print(stats.spearmanr(down_redo_original['rank_redo'], down_redo_original['rank_orig']))"
   ]
  },
  {
   "cell_type": "code",
   "execution_count": 42,
   "id": "dbc05521-ad5b-4c07-aaf3-077683396584",
   "metadata": {},
   "outputs": [
    {
     "data": {
      "text/plain": [
       "SignificanceResult(statistic=0.6793816818737717, pvalue=4.542577981288546e-09)"
      ]
     },
     "execution_count": 42,
     "metadata": {},
     "output_type": "execute_result"
    },
    {
     "data": {
      "image/png": "[encoded data removed]",
      "text/plain": [
       "<Figure size 400x400 with 1 Axes>"
      ]
     },
     "metadata": {},
     "output_type": "display_data"
    }
   ],
   "source": [
    "up_redo_original = pd.merge(upstream_redo_ranking_df, upstream_activator_ranked_df, on='index', suffixes=['_redo', '_orig'])\n",
    "sns.scatterplot(up_redo_original, x='rank_redo', y='rank_orig',linewidth=0, color='#668EB1')\n",
    "plt.title('Upstream Redo Original Compare')\n",
    "stats.spearmanr(up_redo_original['rank_redo'], up_redo_original['rank_orig'])"
   ]
  },
  {
   "cell_type": "code",
   "execution_count": 43,
   "id": "b3ae496c-a6d3-4760-b1ff-6446a2690098",
   "metadata": {},
   "outputs": [],
   "source": [
    "def assign_candidates(df):\n",
    "    if df['index'] in upstream_sig_genes.intersection(downstream_sig_genes):\n",
    "        return 'location_independent'\n",
    "    elif df['index'] in upstream_sig_genes-downstream_sig_genes:\n",
    "        return 'upstream'\n",
    "    elif df['index'] in downstream_sig_genes-upstream_sig_genes:\n",
    "        return 'downstream'"
   ]
  },
  {
   "cell_type": "code",
   "execution_count": 44,
   "id": "afa5ddc9-a752-49f3-883d-4f4404cff48b",
   "metadata": {},
   "outputs": [],
   "source": [
    "def assign_candidates_original(df):\n",
    "    if df['index'] in upstream_activator_orig_list.intersection(downstream_activator_orig_list):\n",
    "        return 'location_independent'\n",
    "    elif df['index'] in upstream_activator_orig_list-downstream_activator_orig_list:\n",
    "        return 'upstream'\n",
    "    elif df['index'] in downstream_activator_orig_list-upstream_activator_orig_list:\n",
    "        return 'downstream'"
   ]
  },
  {
   "cell_type": "code",
   "execution_count": 45,
   "id": "6efd3116-935a-4577-b3c7-c7e6d5a86bad",
   "metadata": {},
   "outputs": [],
   "source": [
    "down_redo_original['category'] = down_redo_original.apply(assign_candidates, axis=1)"
   ]
  },
  {
   "cell_type": "code",
   "execution_count": 46,
   "id": "3a1496a0-6f27-40c2-82b3-26d41506da16",
   "metadata": {},
   "outputs": [],
   "source": [
    "down_redo_original['category_original'] = down_redo_original.apply(assign_candidates_original, axis=1)"
   ]
  },
  {
   "cell_type": "code",
   "execution_count": 47,
   "id": "f0777aa0-d235-41b2-91a2-a9e5e52a0357",
   "metadata": {},
   "outputs": [],
   "source": [
    "up_redo_original['category'] = up_redo_original.apply(assign_candidates, axis=1)"
   ]
  },
  {
   "cell_type": "code",
   "execution_count": 48,
   "id": "a48340f2-474f-4ffe-b279-3c35795e3a84",
   "metadata": {},
   "outputs": [],
   "source": [
    "up_redo_original['category_original'] = up_redo_original.apply(assign_candidates_original, axis=1)"
   ]
  },
  {
   "cell_type": "code",
   "execution_count": 68,
   "id": "83b7acf1-0e5b-4560-9df1-c3711bf4392b",
   "metadata": {},
   "outputs": [
    {
     "data": {
      "text/html": [
       "<div>\n",
       "<style scoped>\n",
       "    .dataframe tbody tr th:only-of-type {\n",
       "        vertical-align: middle;\n",
       "    }\n",
       "\n",
       "    .dataframe tbody tr th {\n",
       "        vertical-align: top;\n",
       "    }\n",
       "\n",
       "    .dataframe thead th {\n",
       "        text-align: right;\n",
       "    }\n",
       "</style>\n",
       "<table border=\"1\" class=\"dataframe\">\n",
       "  <thead>\n",
       "    <tr style=\"text-align: right;\">\n",
       "      <th></th>\n",
       "      <th>rank_redo</th>\n",
       "      <th>index</th>\n",
       "      <th>well_id_redo</th>\n",
       "      <th>rank_orig</th>\n",
       "      <th>well_id_orig</th>\n",
       "      <th>category</th>\n",
       "      <th>category_original</th>\n",
       "    </tr>\n",
       "  </thead>\n",
       "  <tbody>\n",
       "    <tr>\n",
       "      <th>3</th>\n",
       "      <td>4</td>\n",
       "      <td>RNPS1</td>\n",
       "      <td>Plate02.E02</td>\n",
       "      <td>3</td>\n",
       "      <td>GYRBP004.A01</td>\n",
       "      <td>upstream</td>\n",
       "      <td>upstream</td>\n",
       "    </tr>\n",
       "    <tr>\n",
       "      <th>8</th>\n",
       "      <td>8</td>\n",
       "      <td>RBM11</td>\n",
       "      <td>Plate01.D09</td>\n",
       "      <td>6</td>\n",
       "      <td>GYRBP003.H09</td>\n",
       "      <td>location_independent</td>\n",
       "      <td>location_independent</td>\n",
       "    </tr>\n",
       "    <tr>\n",
       "      <th>7</th>\n",
       "      <td>7</td>\n",
       "      <td>TRNAU1AP</td>\n",
       "      <td>Plate02.C02</td>\n",
       "      <td>7</td>\n",
       "      <td>GYRBP003.F10</td>\n",
       "      <td>location_independent</td>\n",
       "      <td>location_independent</td>\n",
       "    </tr>\n",
       "    <tr>\n",
       "      <th>15</th>\n",
       "      <td>16</td>\n",
       "      <td>RBM14</td>\n",
       "      <td>Plate01.H05</td>\n",
       "      <td>8</td>\n",
       "      <td>GYRBP001.G07</td>\n",
       "      <td>location_independent</td>\n",
       "      <td>location_independent</td>\n",
       "    </tr>\n",
       "    <tr>\n",
       "      <th>10</th>\n",
       "      <td>11</td>\n",
       "      <td>MBNL1</td>\n",
       "      <td>Plate02.B05</td>\n",
       "      <td>9</td>\n",
       "      <td>GYRBP005.B03</td>\n",
       "      <td>location_independent</td>\n",
       "      <td>location_independent</td>\n",
       "    </tr>\n",
       "  </tbody>\n",
       "</table>\n",
       "</div>"
      ],
      "text/plain": [
       "    rank_redo     index well_id_redo  rank_orig  well_id_orig  \\\n",
       "3           4     RNPS1  Plate02.E02          3  GYRBP004.A01   \n",
       "8           8     RBM11  Plate01.D09          6  GYRBP003.H09   \n",
       "7           7  TRNAU1AP  Plate02.C02          7  GYRBP003.F10   \n",
       "15         16     RBM14  Plate01.H05          8  GYRBP001.G07   \n",
       "10         11     MBNL1  Plate02.B05          9  GYRBP005.B03   \n",
       "\n",
       "                category     category_original  \n",
       "3               upstream              upstream  \n",
       "8   location_independent  location_independent  \n",
       "7   location_independent  location_independent  \n",
       "15  location_independent  location_independent  \n",
       "10  location_independent  location_independent  "
      ]
     },
     "execution_count": 68,
     "metadata": {},
     "output_type": "execute_result"
    }
   ],
   "source": [
    "up_redo_original.sort_values(by='rank_orig')[up_redo_original.sort_values(by='rank_orig')['category']==up_redo_original.sort_values(by='rank_orig')['category_original']].head(5)"
   ]
  },
  {
   "cell_type": "code",
   "execution_count": 69,
   "id": "6e4d8083-7f04-428d-90bd-1898fbea6205",
   "metadata": {},
   "outputs": [
    {
     "data": {
      "text/html": [
       "<div>\n",
       "<style scoped>\n",
       "    .dataframe tbody tr th:only-of-type {\n",
       "        vertical-align: middle;\n",
       "    }\n",
       "\n",
       "    .dataframe tbody tr th {\n",
       "        vertical-align: top;\n",
       "    }\n",
       "\n",
       "    .dataframe thead th {\n",
       "        text-align: right;\n",
       "    }\n",
       "</style>\n",
       "<table border=\"1\" class=\"dataframe\">\n",
       "  <thead>\n",
       "    <tr style=\"text-align: right;\">\n",
       "      <th></th>\n",
       "      <th>rank_redo</th>\n",
       "      <th>index</th>\n",
       "      <th>well_id_redo</th>\n",
       "      <th>rank_orig</th>\n",
       "      <th>well_id_orig</th>\n",
       "      <th>category</th>\n",
       "      <th>category_original</th>\n",
       "    </tr>\n",
       "  </thead>\n",
       "  <tbody>\n",
       "    <tr>\n",
       "      <th>0</th>\n",
       "      <td>1</td>\n",
       "      <td>DDX17</td>\n",
       "      <td>Plate02.A08</td>\n",
       "      <td>6</td>\n",
       "      <td>GYRBP007.F08</td>\n",
       "      <td>location_independent</td>\n",
       "      <td>downstream</td>\n",
       "    </tr>\n",
       "    <tr>\n",
       "      <th>1</th>\n",
       "      <td>2</td>\n",
       "      <td>PARN</td>\n",
       "      <td>Plate02.A07</td>\n",
       "      <td>4</td>\n",
       "      <td>GYRBP007.C07</td>\n",
       "      <td>location_independent</td>\n",
       "      <td>location_independent</td>\n",
       "    </tr>\n",
       "    <tr>\n",
       "      <th>2</th>\n",
       "      <td>3</td>\n",
       "      <td>PRRC2B</td>\n",
       "      <td>Plate02.E04</td>\n",
       "      <td>3</td>\n",
       "      <td>Missing_Wells.B01</td>\n",
       "      <td>location_independent</td>\n",
       "      <td>location_independent</td>\n",
       "    </tr>\n",
       "    <tr>\n",
       "      <th>3</th>\n",
       "      <td>4</td>\n",
       "      <td>RBM11</td>\n",
       "      <td>Plate01.D09</td>\n",
       "      <td>5</td>\n",
       "      <td>GYRBP003.H09</td>\n",
       "      <td>location_independent</td>\n",
       "      <td>location_independent</td>\n",
       "    </tr>\n",
       "    <tr>\n",
       "      <th>4</th>\n",
       "      <td>5</td>\n",
       "      <td>GTSF1</td>\n",
       "      <td>Plate01.B06</td>\n",
       "      <td>7</td>\n",
       "      <td>GYRBP002.B06</td>\n",
       "      <td>location_independent</td>\n",
       "      <td>location_independent</td>\n",
       "    </tr>\n",
       "  </tbody>\n",
       "</table>\n",
       "</div>"
      ],
      "text/plain": [
       "   rank_redo   index well_id_redo  rank_orig       well_id_orig  \\\n",
       "0          1   DDX17  Plate02.A08          6       GYRBP007.F08   \n",
       "1          2    PARN  Plate02.A07          4       GYRBP007.C07   \n",
       "2          3  PRRC2B  Plate02.E04          3  Missing_Wells.B01   \n",
       "3          4   RBM11  Plate01.D09          5       GYRBP003.H09   \n",
       "4          5   GTSF1  Plate01.B06          7       GYRBP002.B06   \n",
       "\n",
       "               category     category_original  \n",
       "0  location_independent            downstream  \n",
       "1  location_independent  location_independent  \n",
       "2  location_independent  location_independent  \n",
       "3  location_independent  location_independent  \n",
       "4  location_independent  location_independent  "
      ]
     },
     "execution_count": 69,
     "metadata": {},
     "output_type": "execute_result"
    }
   ],
   "source": [
    "down_redo_original.sort_values(by='rank_redo').head(5)"
   ]
  },
  {
   "cell_type": "code",
   "execution_count": 70,
   "id": "b8433c41-d83b-4888-a284-e6841e87ea89",
   "metadata": {},
   "outputs": [],
   "source": [
    "secondary_screen_list = pd.read_csv('/tscc/nfs/home/pjaganna1/projects/apa_screen_yongsheng/apa_kd_data_graveley/diff_apa_labrat/notebook/candidate_list.txt', sep='\\t', header=None)[0].tolist()"
   ]
  },
  {
   "cell_type": "code",
   "execution_count": 71,
   "id": "0cb0dbca-f926-4a0b-92dd-cd910c11177d",
   "metadata": {},
   "outputs": [],
   "source": [
    "upstream_df_candidate_vals = upstream_df[upstream_df['index'].isin(secondary_screen_list)].sort_values(by='mean_normalized', ascending=False)"
   ]
  },
  {
   "cell_type": "code",
   "execution_count": 72,
   "id": "d726e1d2-3d10-4d51-892c-f5135710dbc5",
   "metadata": {},
   "outputs": [],
   "source": [
    "downstream_df_candidate_vals = downstream_df[downstream_df['index'].isin(secondary_screen_list)].sort_values(by='mean_normalized', ascending=False)"
   ]
  },
  {
   "cell_type": "code",
   "execution_count": 73,
   "id": "7cfdf690-7580-4c5e-b232-882b2a5f2916",
   "metadata": {},
   "outputs": [],
   "source": [
    "set1 = upstream_activator_orig_list.intersection(downstream_activator_orig_list)\n",
    "set2 = upstream_sig_genes.intersection(downstream_sig_genes)\n",
    "\n",
    "up_common = upstream_df_candidate_vals[upstream_df_candidate_vals['index'].isin(set1.intersection(set2))].dropna(subset='stars').drop_duplicates('index')\n",
    "down_common = downstream_df_candidate_vals[downstream_df_candidate_vals['index'].isin(set1.intersection(set2))].dropna(subset='stars').drop_duplicates('index')"
   ]
  },
  {
   "cell_type": "code",
   "execution_count": 74,
   "id": "2abcc4cc-da6e-45d9-b449-51edffd7a60e",
   "metadata": {},
   "outputs": [
    {
     "name": "stderr",
     "output_type": "stream",
     "text": [
      "/tmp/ipykernel_1830081/2344805300.py:14: FutureWarning: \n",
      "\n",
      "The `errwidth` parameter is deprecated. And will be removed in v0.15.0. Pass `err_kws={'linewidth': 0.8}` instead.\n",
      "\n",
      "  sns.barplot(data=df_pivoted.sort_values(by=['condition', 'value'], ascending=[False, False]), x='index', y='value', hue='condition',\n"
     ]
    },
    {
     "data": {
      "text/plain": [
       "([0,\n",
       "  1,\n",
       "  2,\n",
       "  3,\n",
       "  4,\n",
       "  5,\n",
       "  6,\n",
       "  7,\n",
       "  8,\n",
       "  9,\n",
       "  10,\n",
       "  11,\n",
       "  12,\n",
       "  13,\n",
       "  14,\n",
       "  15,\n",
       "  16,\n",
       "  17,\n",
       "  18,\n",
       "  19,\n",
       "  20,\n",
       "  21,\n",
       "  22,\n",
       "  23,\n",
       "  24,\n",
       "  25,\n",
       "  26,\n",
       "  27],\n",
       " [Text(0, 0, 'GRB2'),\n",
       "  Text(1, 0, 'RBM11'),\n",
       "  Text(2, 0, 'TRNAU1AP'),\n",
       "  Text(3, 0, 'RBM5'),\n",
       "  Text(4, 0, 'PRRC2B'),\n",
       "  Text(5, 0, 'MBNL1'),\n",
       "  Text(6, 0, 'PPIA'),\n",
       "  Text(7, 0, 'EIF4B'),\n",
       "  Text(8, 0, 'LGALS3'),\n",
       "  Text(9, 0, 'PRPF4'),\n",
       "  Text(10, 0, 'WDR6'),\n",
       "  Text(11, 0, 'SRP68'),\n",
       "  Text(12, 0, 'GTSF1'),\n",
       "  Text(13, 0, 'ZC3HAV1'),\n",
       "  Text(14, 0, 'RBM14'),\n",
       "  Text(15, 0, 'PARN'),\n",
       "  Text(16, 0, 'SAMD4A'),\n",
       "  Text(17, 0, 'EIF4H'),\n",
       "  Text(18, 0, 'RBM10'),\n",
       "  Text(19, 0, 'PCBP1'),\n",
       "  Text(20, 0, 'APOBEC3A'),\n",
       "  Text(21, 0, 'YWHAG'),\n",
       "  Text(22, 0, 'YTHDF1'),\n",
       "  Text(23, 0, 'SMNDC1'),\n",
       "  Text(24, 0, 'MBNL2'),\n",
       "  Text(25, 0, 'LSM1'),\n",
       "  Text(26, 0, 'AHNAK'),\n",
       "  Text(27, 0, 'TPD52L2')])"
      ]
     },
     "execution_count": 74,
     "metadata": {},
     "output_type": "execute_result"
    },
    {
     "data": {
      "image/png": "[encoded data removed]",
      "text/plain": [
       "<Figure size 1200x400 with 1 Axes>"
      ]
     },
     "metadata": {},
     "output_type": "display_data"
    }
   ],
   "source": [
    "common_plot = up_common.merge(down_common, on='index', suffixes=['_up', '_down']).set_index('index').sort_values(by=['mean_normalized_up', 'mean_normalized_down'], ascending=[False,False])\n",
    "common_plot = common_plot[['rep1_mn_up','rep2_mn_up', 'rep3_mn_up', 'rep1_mn_down','rep2_mn_down', 'rep3_mn_down']]\n",
    "# Pivot the dataframe\n",
    "sns.set(rc={'figure.figsize':(12,4)})\n",
    "sns.set_style('white')\n",
    "df_pivoted = common_plot.melt(ignore_index=False, var_name='rep_condition', value_name='value').reset_index()\n",
    "\n",
    "# Extracting rep and condition information\n",
    "df_pivoted['rep'] = df_pivoted['rep_condition'].str.extract('(rep\\d)')\n",
    "df_pivoted['condition'] = df_pivoted['rep_condition'].str.extract('(up|down)')\n",
    "\n",
    "# Dropping the original 'rep_condition' column\n",
    "df_pivoted.drop(columns=['rep_condition'], inplace=True)\n",
    "sns.barplot(data=df_pivoted.sort_values(by=['condition', 'value'], ascending=[False, False]), x='index', y='value', hue='condition', \n",
    "           palette=['#668EB1','#7C5D86'], hue_order=['up', 'down'],\n",
    "           errwidth=0.8)\n",
    "plt.xticks(rotation=90)\n"
   ]
  },
  {
   "cell_type": "code",
   "execution_count": 76,
   "id": "f08df5cb-91b9-4d94-80ac-668ad6442f43",
   "metadata": {},
   "outputs": [
    {
     "name": "stderr",
     "output_type": "stream",
     "text": [
      "/tmp/ipykernel_1830081/1848942514.py:8: FutureWarning: \n",
      "\n",
      "The `errwidth` parameter is deprecated. And will be removed in v0.15.0. Pass `err_kws={'linewidth': 0.8}` instead.\n",
      "\n",
      "  sns.barplot(data=upstream_df_candidate_vals_pivoted, x='index', y='value', errwidth=0.8)\n"
     ]
    },
    {
     "data": {
      "text/plain": [
       "([0, 1, 2, 3, 4, 5],\n",
       " [Text(0, 0, 'RNPS1'),\n",
       "  Text(1, 0, 'UBE2I'),\n",
       "  Text(2, 0, 'ZC3H18'),\n",
       "  Text(3, 0, 'RPS19BP1'),\n",
       "  Text(4, 0, 'LSM10'),\n",
       "  Text(5, 0, 'CNOT3')])"
      ]
     },
     "execution_count": 76,
     "metadata": {},
     "output_type": "execute_result"
    },
    {
     "data": {
      "image/png": "[encoded data removed]",
      "text/plain": [
       "<Figure size 300x400 with 1 Axes>"
      ]
     },
     "metadata": {},
     "output_type": "display_data"
    }
   ],
   "source": [
    "set1 = upstream_activator_orig_list - downstream_activator_orig_list\n",
    "set2 = upstream_sig_genes - downstream_sig_genes\n",
    "upstream_df_candidate_vals_pivoted = upstream_df_candidate_vals[upstream_df_candidate_vals['index'].isin(set1.intersection(set2))].dropna(subset='stars').drop_duplicates('index').set_index('index')[['rep1_mn', 'rep2_mn', 'rep3_mn']].melt(ignore_index=False, var_name='rep', value_name='value').reset_index()\n",
    "\n",
    "# Extracting rep and condition information\n",
    "sns.set(rc={'figure.figsize':(3,4)})\n",
    "sns.set_style('white')\n",
    "sns.barplot(data=upstream_df_candidate_vals_pivoted, x='index', y='value', errwidth=0.8)\n",
    "plt.xticks(rotation=90)\n"
   ]
  },
  {
   "cell_type": "code",
   "execution_count": 77,
   "id": "53f6f7f1-30ef-46f2-a1d1-1fa798ec9c77",
   "metadata": {},
   "outputs": [
    {
     "name": "stderr",
     "output_type": "stream",
     "text": [
      "/tmp/ipykernel_1830081/1372697373.py:8: FutureWarning: \n",
      "\n",
      "The `errwidth` parameter is deprecated. And will be removed in v0.15.0. Pass `err_kws={'linewidth': 0.8}` instead.\n",
      "\n",
      "  sns.barplot(data=downstream_df_candidate_vals_pivoted, x='index', y='value', color='#7C5D86', errwidth=0.8)\n"
     ]
    },
    {
     "data": {
      "text/plain": [
       "([0, 1, 2, 3, 4, 5, 6, 7, 8, 9, 10, 11, 12, 13, 14, 15, 16, 17],\n",
       " [Text(0, 0, 'RBM22'),\n",
       "  Text(1, 0, 'ZMAT3'),\n",
       "  Text(2, 0, 'SCAF8'),\n",
       "  Text(3, 0, 'PCBP3'),\n",
       "  Text(4, 0, 'NUP35'),\n",
       "  Text(5, 0, 'CDC42EP4'),\n",
       "  Text(6, 0, 'HNRNPF'),\n",
       "  Text(7, 0, 'NANOS3'),\n",
       "  Text(8, 0, 'CNOT2'),\n",
       "  Text(9, 0, 'STAU2'),\n",
       "  Text(10, 0, 'RBM4'),\n",
       "  Text(11, 0, 'PPP1CA'),\n",
       "  Text(12, 0, 'HNRNPH2'),\n",
       "  Text(13, 0, 'DZIP3'),\n",
       "  Text(14, 0, 'RBM42'),\n",
       "  Text(15, 0, 'ZC3H7A'),\n",
       "  Text(16, 0, 'SYMPK'),\n",
       "  Text(17, 0, 'SRSF2')])"
      ]
     },
     "execution_count": 77,
     "metadata": {},
     "output_type": "execute_result"
    },
    {
     "data": {
      "image/png": "[encoded data removed]",
      "text/plain": [
       "<Figure size 600x400 with 1 Axes>"
      ]
     },
     "metadata": {},
     "output_type": "display_data"
    }
   ],
   "source": [
    "set1 = downstream_activator_orig_list - upstream_activator_orig_list\n",
    "set2 = downstream_sig_genes - upstream_sig_genes\n",
    "downstream_df_candidate_vals_pivoted = downstream_df_candidate_vals[downstream_df_candidate_vals['index'].isin(set1.intersection(set2))].dropna(subset='stars').drop_duplicates('index').set_index('index')[['rep1_mn', 'rep2_mn', 'rep3_mn']].melt(ignore_index=False, var_name='rep', value_name='value').reset_index()\n",
    "\n",
    "# Extracting rep and condition information\n",
    "sns.set(rc={'figure.figsize':(6,4)})\n",
    "sns.set_style('white')\n",
    "sns.barplot(data=downstream_df_candidate_vals_pivoted, x='index', y='value', color='#7C5D86', errwidth=0.8)\n",
    "plt.xticks(rotation=90)"
   ]
  },
  {
   "cell_type": "code",
   "execution_count": 80,
   "id": "e5aab084-e806-4db8-a1fa-b254b824d83a",
   "metadata": {},
   "outputs": [
    {
     "name": "stderr",
     "output_type": "stream",
     "text": [
      "/tmp/ipykernel_1830081/723739508.py:3: FutureWarning: \n",
      "\n",
      "The `errwidth` parameter is deprecated. And will be removed in v0.15.0. Pass `err_kws={'linewidth': 0.8}` instead.\n",
      "\n",
      "  sns.barplot(data=df_pivoted.sort_values(by=['condition', 'value'], ascending=[False, False]), x='index', y='value', hue='condition',\n",
      "/tmp/ipykernel_1830081/723739508.py:12: FutureWarning: \n",
      "\n",
      "The `errwidth` parameter is deprecated. And will be removed in v0.15.0. Pass `err_kws={'linewidth': 0.8}` instead.\n",
      "\n",
      "  sns.barplot(data=upstream_df_candidate_vals_pivoted, x='index', y='value', errwidth=0.8,\n",
      "/tmp/ipykernel_1830081/723739508.py:21: FutureWarning: \n",
      "\n",
      "The `errwidth` parameter is deprecated. And will be removed in v0.15.0. Pass `err_kws={'linewidth': 0.8}` instead.\n",
      "\n",
      "  sns.barplot(data=downstream_df_candidate_vals_pivoted, x='index', y='value', color='#668EB1', errwidth=0.8,\n"
     ]
    },
    {
     "data": {
      "image/png": "[encoded data removed]",
      "text/plain": [
       "<Figure size 2000x200 with 3 Axes>"
      ]
     },
     "metadata": {},
     "output_type": "display_data"
    }
   ],
   "source": [
    "fig, axes = plt.subplots(1, 3, sharey=True, figsize=(20,2), gridspec_kw={'width_ratios': [5,1,2]})\n",
    "\n",
    "sns.barplot(data=df_pivoted.sort_values(by=['condition', 'value'], ascending=[False, False]), x='index', y='value', hue='condition', \n",
    "           palette=['#7C5D86','#668EB1'], hue_order=['up', 'down'],\n",
    "           errwidth=0.8, \n",
    "           ax=axes[0])\n",
    "\n",
    "set1 = upstream_activator_orig_list - downstream_activator_orig_list\n",
    "set2 = upstream_sig_genes - downstream_sig_genes\n",
    "upstream_df_candidate_vals_pivoted = upstream_df_candidate_vals[upstream_df_candidate_vals['index'].isin(set1.intersection(set2))].dropna(subset='stars').drop_duplicates('index').set_index('index')[['rep1_mn', 'rep2_mn', 'rep3_mn']].melt(ignore_index=False, var_name='rep', value_name='value').reset_index()\n",
    "\n",
    "sns.barplot(data=upstream_df_candidate_vals_pivoted, x='index', y='value', errwidth=0.8,\n",
    "           ax=axes[1], \n",
    "           color='#7C5D86')\n",
    "\n",
    "\n",
    "set1 = downstream_activator_orig_list - upstream_activator_orig_list\n",
    "set2 = downstream_sig_genes - upstream_sig_genes\n",
    "downstream_df_candidate_vals_pivoted = downstream_df_candidate_vals[downstream_df_candidate_vals['index'].isin(set1.intersection(set2))].dropna(subset='stars').drop_duplicates('index').set_index('index')[['rep1_mn', 'rep2_mn', 'rep3_mn']].melt(ignore_index=False, var_name='rep', value_name='value').reset_index()\n",
    "\n",
    "sns.barplot(data=downstream_df_candidate_vals_pivoted, x='index', y='value', color='#668EB1', errwidth=0.8,\n",
    "           ax=axes[2])\n",
    "\n",
    "axes[0].tick_params(axis='x', rotation=90)\n",
    "axes[1].tick_params(axis='x', rotation=90)\n",
    "axes[2].tick_params(axis='x', rotation=90)\n",
    "\n",
    "axes[0].set_title('Upstream and Downstream')\n",
    "axes[1].set_title('Upstream')\n",
    "axes[2].set_title('Downstream')\n",
    "\n",
    "\n",
    "# plt.savefig('second_round_candidates_ranked.png')\n",
    "# plt.savefig('second_round_candidates_ranked.svg')\n",
    "# plt.savefig('second_round_candidates_ranked.jpg')\n",
    "\n",
    "plt.savefig('second_round_candidates_ranked_shorter.png')\n",
    "plt.savefig('second_round_candidates_ranked_shorter.svg')\n",
    "plt.savefig('second_round_candidates_ranked_shorter.jpg')\n",
    "\n",
    "\n",
    "\n",
    "\n"
   ]
  },
  {
   "cell_type": "code",
   "execution_count": 81,
   "id": "83a4ac5a-eb49-4fc4-8ebf-d5a96abbf2b5",
   "metadata": {},
   "outputs": [
    {
     "ename": "SyntaxError",
     "evalue": "invalid syntax (2871505848.py, line 38)",
     "output_type": "error",
     "traceback": [
      "\u001b[0;36m  Cell \u001b[0;32mIn[81], line 38\u001b[0;36m\u001b[0m\n\u001b[0;31m    axes[0,0][.add_patch(plt.Rectangle((i, 0), 1, 1, color=color))\u001b[0m\n\u001b[0m              ^\u001b[0m\n\u001b[0;31mSyntaxError\u001b[0m\u001b[0;31m:\u001b[0m invalid syntax\n"
     ]
    }
   ],
   "source": [
    "fig, axes = plt.subplots(2, 3, sharey=True,sharex=True, figsize=(20,3), gridspec_kw={'width_ratios': [5,1,2]})\n",
    "\n",
    "sns.barplot(data=df_pivoted.sort_values(by=['value', 'condition'], ascending=[False, True]), x='index', y='value', hue='condition', \n",
    "           palette=['#7C5D86', '#668EB1'], hue_order=['down', 'up'],\n",
    "           errwidth=0.8, \n",
    "           ax=axes[1,0])\n",
    "\n",
    "set1 = upstream_activator_orig_list - downstream_activator_orig_list\n",
    "set2 = upstream_sig_genes - downstream_sig_genes\n",
    "upstream_df_candidate_vals_pivoted = upstream_df_candidate_vals[upstream_df_candidate_vals['index'].isin(set1.intersection(set2))].dropna(subset='stars').drop_duplicates('index').set_index('index')[['rep1_mn', 'rep2_mn', 'rep3_mn']].melt(ignore_index=False, var_name='rep', value_name='value').reset_index()\n",
    "\n",
    "sns.barplot(data=upstream_df_candidate_vals_pivoted, x='index', y='value', errwidth=0.8,\n",
    "           ax=axes[1,1], \n",
    "           color='#668EB1')\n",
    "\n",
    "\n",
    "set1 = downstream_activator_orig_list - upstream_activator_orig_list\n",
    "set2 = downstream_sig_genes - upstream_sig_genes\n",
    "downstream_df_candidate_vals_pivoted = downstream_df_candidate_vals[downstream_df_candidate_vals['index'].isin(set1.intersection(set2))].dropna(subset='stars').drop_duplicates('index').set_index('index')[['rep1_mn', 'rep2_mn', 'rep3_mn']].melt(ignore_index=False, var_name='rep', value_name='value').reset_index()\n",
    "\n",
    "sns.barplot(data=downstream_df_candidate_vals_pivoted, x='index', y='value', color='#7C5D86', errwidth=0.8,\n",
    "           ax=axes[1,2])\n",
    "\n",
    "axes[1,0].tick_params(axis='x', rotation=90)\n",
    "axes[1,1].tick_params(axis='x', rotation=90)\n",
    "axes[1,2].tick_params(axis='x', rotation=90)\n",
    "\n",
    "axes[1,0].set_title('Upstream and Downstream')\n",
    "axes[1,1].set_title('Upstream')\n",
    "axes[1,2].set_title('Downstream')\n",
    "\n",
    "color_mapping = {'known': '#668EB1', 'novel': '#EEC33E'}\n",
    "colors = [color_mapping[known_novel_apa.get(gene, 'novel')] for gene in indices]\n",
    "\n",
    "# Add color rectangles\n",
    "for i, color in enumerate(colors):\n",
    "    axes[0,0][.add_patch(plt.Rectangle((i, 0), 1, 1, color=color))\n",
    "\n",
    "# Set the x-axis with gene names\n",
    "axes[0,0].set_xticks(range(len(indices)))\n",
    "axes[0,0].set_xticklabels(indices, rotation=90)\n",
    "axes[0,0].set_yticks([])\n",
    "\n",
    "# Add labels for the color bar\n",
    "#for idx, gene in enumerate(indices):\n",
    "    #label = known_novel_apa.get(gene, 'novel')\n",
    "    #ax.text(idx + 0.5, 0.5, label, ha='center', va='center', fontsize=8, color='white' if label == 'known' else 'black')\n",
    "\n",
    "# Set plot limits and title\n",
    "ax.set_xlim(0, len(indices))\n",
    "ax.set_ylim(0, 1)\n",
    "ax.set_title('Known vs Novel APA Sites')\n",
    "\n",
    "plt.tight_layout()\n",
    "plt.show()"
   ]
  },
  {
   "cell_type": "code",
   "execution_count": null,
   "id": "31adccaf-5471-46fb-ae68-0a8ab8db8636",
   "metadata": {},
   "outputs": [],
   "source": []
  }
 ],
 "metadata": {
  "kernelspec": {
   "display_name": "Python 3 (ipykernel)",
   "language": "python",
   "name": "python3"
  },
  "language_info": {
   "codemirror_mode": {
    "name": "ipython",
    "version": 3
   },
   "file_extension": ".py",
   "mimetype": "text/x-python",
   "name": "python",
   "nbconvert_exporter": "python",
   "pygments_lexer": "ipython3",
   "version": "3.9.15"
  }
 },
 "nbformat": 4,
 "nbformat_minor": 5
}
