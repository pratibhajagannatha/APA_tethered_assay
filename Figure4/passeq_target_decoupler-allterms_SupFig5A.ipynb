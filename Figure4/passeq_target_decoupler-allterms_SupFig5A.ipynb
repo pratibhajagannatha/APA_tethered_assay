{
 "cells": [
  {
   "cell_type": "code",
   "execution_count": 1,
   "id": "9ef64650-2ea8-49c9-8c59-fdfc8a40105b",
   "metadata": {},
   "outputs": [],
   "source": [
    "import os\n",
    "import pandas as pd\n",
    "import seaborn as sns\n",
    "import matplotlib.pyplot as plt\n",
    "import glob\n",
    "import tqdm\n",
    "import decoupler as dc\n",
    "import numpy as np"
   ]
  },
  {
   "cell_type": "code",
   "execution_count": 2,
   "id": "015588b8-8887-4d7a-b279-b0f3cc26558c",
   "metadata": {},
   "outputs": [],
   "source": [
    "gtf_path = '/tscc/nfs/home/pjaganna1/projects/apa_screen_yongsheng/apa_kd_data_graveley/refs/gencode.v43.annotation.gtf'"
   ]
  },
  {
   "cell_type": "code",
   "execution_count": 3,
   "id": "7d112b6f-dcc3-4e4f-a39a-3b5473a68835",
   "metadata": {},
   "outputs": [],
   "source": [
    "gtf_df = pd.read_csv(gtf_path, sep='\\t', comment='#',header=None)\n",
    "gtf_df = gtf_df[gtf_df[2]=='transcript']\n",
    "gtf_df['transcript_id'] = gtf_df.apply(lambda x: x[8].split(';')[1].split('\\\"')[1], axis=1)\n",
    "gtf_df['gene_id'] = gtf_df.apply(lambda x: x[8].split(';')[0].split('\\\"')[1].split('.')[0], axis=1)\n",
    "gtf_df['gene_name'] = gtf_df.apply(lambda x: x[8].split(';')[3].split('\\\"')[1], axis=1)\n",
    "gene_id_gene_name = dict(zip(gtf_df.gene_id, gtf_df.gene_name))\n",
    "gene_name_gene_id = dict(zip(gtf_df.gene_name, gtf_df.gene_id))\n",
    "transcript_id_gene_name = dict(zip(gtf_df.transcript_id, gtf_df.gene_name))\n",
    "transcript_id_gene_id = dict(zip(gtf_df.transcript_id, gtf_df.gene_id))"
   ]
  },
  {
   "cell_type": "code",
   "execution_count": 4,
   "id": "b9f07513-94b0-49a5-b2f2-553fe7becefa",
   "metadata": {},
   "outputs": [],
   "source": [
    "pas_dir = '/tscc/nfs/home/pjaganna1/projects/apa_screen_yongsheng/apa_kd_data_graveley_redo/dif_apa/pas_seq'"
   ]
  },
  {
   "cell_type": "code",
   "execution_count": 5,
   "id": "b1c49b39-3b96-441f-b49d-cf2dceb3ff39",
   "metadata": {},
   "outputs": [],
   "source": [
    "def return_class(df):\n",
    "    if df['log(treatment.p/treatment.d)'] > df['log(Ctrl.p/Ctrl.d)']:\n",
    "        return 'proximal'\n",
    "    elif df['log(treatment.p/treatment.d)'] < df['log(Ctrl.p/Ctrl.d)']:\n",
    "        return 'distal'\n",
    "\n",
    "def calc_pas_ratio(df):\n",
    "    return df['log(treatment.p/treatment.d)'] - df['log(Ctrl.p/Ctrl.d)']"
   ]
  },
  {
   "cell_type": "code",
   "execution_count": 6,
   "id": "a3aef8ad-2983-4736-94b0-4ce819ab1639",
   "metadata": {},
   "outputs": [],
   "source": [
    "sig_PAS_events = {}\n",
    "sig_PAS = {}\n",
    "for rbp_table in glob.glob(os.path.join(pas_dir, '*_APA_table.txt')):\n",
    "    test = pd.read_csv(rbp_table, sep='\\t')\n",
    "    test['treatment.p + 1'] = test['treatment.p'] + 1\n",
    "    test['treatment.d + 1'] = test['treatment.d'] + 1\n",
    "    test['Ctrl.p + 1'] = test['Ctrl.p'] + 1\n",
    "    test['Ctrl.d + 1'] = test['Ctrl.d'] + 1\n",
    "    test['log(treatment.p/treatment.d)'] = test.apply(lambda x: np.log2(x['treatment.p + 1']/x['treatment.d + 1']), axis=1)\n",
    "    test['log(Ctrl.p/Ctrl.d)'] = test.apply(lambda x: np.log2(x['Ctrl.p + 1']/x['Ctrl.d + 1']), axis=1)\n",
    "    test['dif'] = test.apply(calc_pas_ratio, axis=1)\n",
    "    test['apa_class'] = test.apply(return_class, axis=1)\n",
    "    test['apa_type'] = test.apply(lambda x: f\"{x['TYPE.p']}_{x['TYPE.d']}\", axis=1)\n",
    "    test = test[test['apa_type'].isin(['LastExon_LastExon', 'Intron_LastExon','Intron_Intron'])]\n",
    "    sig_PAS_events[ rbp_table.split('/')[-1].split('_')[1]] = test\n",
    "    sig_PAS[ rbp_table.split('/')[-1].split('_')[1]] =test['SYMBOL'].tolist()"
   ]
  },
  {
   "cell_type": "code",
   "execution_count": 7,
   "id": "e595d0a9-72f9-432d-9a02-77d57f923b78",
   "metadata": {},
   "outputs": [],
   "source": [
    "salmon_path = '/tscc/nfs/home/pjaganna1/projects/apa_screen_yongsheng/apa_kd_data_graveley_redo/salmon_out'"
   ]
  },
  {
   "cell_type": "code",
   "execution_count": 8,
   "id": "3dcbfe6b-9702-4021-bb44-bb24ec705ede",
   "metadata": {},
   "outputs": [],
   "source": [
    "sequenced_samples = set([i.split('/')[-1].split('-')[0] for i in glob.glob(os.path.join(salmon_path, '*.sf'))])"
   ]
  },
  {
   "cell_type": "code",
   "execution_count": 9,
   "id": "8f4eb197-879d-4574-b7c3-7e35424e706d",
   "metadata": {},
   "outputs": [],
   "source": [
    "candidates_list = pd.read_csv('./candidate_list.txt', header=None)[0].tolist()"
   ]
  },
  {
   "cell_type": "code",
   "execution_count": 10,
   "id": "9c946d0d-f42a-41d5-8cc2-d163e87e5b4b",
   "metadata": {},
   "outputs": [],
   "source": [
    "remove_candidates = ['GTSF1']"
   ]
  },
  {
   "cell_type": "code",
   "execution_count": 11,
   "id": "efef88ca-7013-40a9-9a89-5d9ab6aa3f8a",
   "metadata": {},
   "outputs": [],
   "source": [
    "final_candidate_list = list((set(candidates_list).intersection(sequenced_samples)) - set(remove_candidates))"
   ]
  },
  {
   "cell_type": "code",
   "execution_count": 12,
   "id": "a795aaaa-45de-4b98-9348-3d977168332e",
   "metadata": {},
   "outputs": [],
   "source": [
    "final_candidate_list = final_candidate_list + ['NUDT21', 'CPSF6']"
   ]
  },
  {
   "cell_type": "code",
   "execution_count": 13,
   "id": "17ed873d-b225-4e0e-bc65-1fa462e28496",
   "metadata": {},
   "outputs": [
    {
     "data": {
      "text/plain": [
       "43"
      ]
     },
     "execution_count": 13,
     "metadata": {},
     "output_type": "execute_result"
    }
   ],
   "source": [
    "len(final_candidate_list)"
   ]
  },
  {
   "cell_type": "code",
   "execution_count": 14,
   "id": "6739d01e-f8f3-4e57-88f3-4853a352f5d4",
   "metadata": {},
   "outputs": [
    {
     "name": "stderr",
     "output_type": "stream",
     "text": [
      "/tscc/nfs/home/pjaganna1/anaconda3/envs/decoupler/lib/python3.11/site-packages/tqdm/auto.py:21: TqdmWarning: IProgress not found. Please update jupyter and ipywidgets. See https://ipywidgets.readthedocs.io/en/stable/user_install.html\n",
      "  from .autonotebook import tqdm as notebook_tqdm\n"
     ]
    }
   ],
   "source": [
    "msigdb = dc.get_resource('MSigDB')"
   ]
  },
  {
   "cell_type": "code",
   "execution_count": 15,
   "id": "f5ca073c-53eb-493d-9c7c-f58a932517f0",
   "metadata": {},
   "outputs": [
    {
     "data": {
      "text/html": [
       "<div>\n",
       "<style scoped>\n",
       "    .dataframe tbody tr th:only-of-type {\n",
       "        vertical-align: middle;\n",
       "    }\n",
       "\n",
       "    .dataframe tbody tr th {\n",
       "        vertical-align: top;\n",
       "    }\n",
       "\n",
       "    .dataframe thead th {\n",
       "        text-align: right;\n",
       "    }\n",
       "</style>\n",
       "<table border=\"1\" class=\"dataframe\">\n",
       "  <thead>\n",
       "    <tr style=\"text-align: right;\">\n",
       "      <th></th>\n",
       "      <th>genesymbol</th>\n",
       "      <th>collection</th>\n",
       "      <th>geneset</th>\n",
       "    </tr>\n",
       "  </thead>\n",
       "  <tbody>\n",
       "    <tr>\n",
       "      <th>33</th>\n",
       "      <td>MAFF</td>\n",
       "      <td>go_biological_process</td>\n",
       "      <td>GOBP_EMBRYO_DEVELOPMENT</td>\n",
       "    </tr>\n",
       "    <tr>\n",
       "      <th>44</th>\n",
       "      <td>MAFF</td>\n",
       "      <td>go_biological_process</td>\n",
       "      <td>GOBP_POSITIVE_REGULATION_OF_RNA_METABOLIC_PROCESS</td>\n",
       "    </tr>\n",
       "    <tr>\n",
       "      <th>82</th>\n",
       "      <td>MAFF</td>\n",
       "      <td>go_biological_process</td>\n",
       "      <td>GOBP_REGULATION_OF_EPITHELIAL_CELL_DIFFERENTIA...</td>\n",
       "    </tr>\n",
       "    <tr>\n",
       "      <th>94</th>\n",
       "      <td>MAFF</td>\n",
       "      <td>go_biological_process</td>\n",
       "      <td>GOBP_EMBRYO_DEVELOPMENT_ENDING_IN_BIRTH_OR_EGG...</td>\n",
       "    </tr>\n",
       "    <tr>\n",
       "      <th>108</th>\n",
       "      <td>MAFF</td>\n",
       "      <td>go_biological_process</td>\n",
       "      <td>GOBP_IN_UTERO_EMBRYONIC_DEVELOPMENT</td>\n",
       "    </tr>\n",
       "  </tbody>\n",
       "</table>\n",
       "</div>"
      ],
      "text/plain": [
       "    genesymbol             collection  \\\n",
       "33        MAFF  go_biological_process   \n",
       "44        MAFF  go_biological_process   \n",
       "82        MAFF  go_biological_process   \n",
       "94        MAFF  go_biological_process   \n",
       "108       MAFF  go_biological_process   \n",
       "\n",
       "                                               geneset  \n",
       "33                             GOBP_EMBRYO_DEVELOPMENT  \n",
       "44   GOBP_POSITIVE_REGULATION_OF_RNA_METABOLIC_PROCESS  \n",
       "82   GOBP_REGULATION_OF_EPITHELIAL_CELL_DIFFERENTIA...  \n",
       "94   GOBP_EMBRYO_DEVELOPMENT_ENDING_IN_BIRTH_OR_EGG...  \n",
       "108                GOBP_IN_UTERO_EMBRYONIC_DEVELOPMENT  "
      ]
     },
     "execution_count": 15,
     "metadata": {},
     "output_type": "execute_result"
    }
   ],
   "source": [
    "# Filter by hallmark\n",
    "msigdb = msigdb[msigdb['collection']=='go_biological_process']\n",
    "\n",
    "# Remove duplicated entries\n",
    "msigdb = msigdb[~msigdb.duplicated(['geneset', 'genesymbol'])]\n",
    "\n",
    "msigdb.head()"
   ]
  },
  {
   "cell_type": "code",
   "execution_count": 16,
   "id": "7db16587-0bae-411d-ac4b-91d21355e088",
   "metadata": {},
   "outputs": [],
   "source": [
    "msigdb.loc[:, 'geneset'] = [name.split('GOBP_')[1] for name in msigdb['geneset']]"
   ]
  },
  {
   "cell_type": "code",
   "execution_count": 17,
   "id": "8157bf6c-7d59-40ba-96e3-1950b5206554",
   "metadata": {},
   "outputs": [
    {
     "name": "stderr",
     "output_type": "stream",
     "text": [
      "  2%|▏         | 1/43 [00:00<00:32,  1.29it/s]"
     ]
    },
    {
     "name": "stdout",
     "output_type": "stream",
     "text": [
      "TRNAU1AP 884 62\n"
     ]
    },
    {
     "name": "stderr",
     "output_type": "stream",
     "text": [
      "  5%|▍         | 2/43 [00:01<00:29,  1.39it/s]"
     ]
    },
    {
     "name": "stdout",
     "output_type": "stream",
     "text": [
      "PCBP1 81 0\n"
     ]
    },
    {
     "name": "stderr",
     "output_type": "stream",
     "text": [
      "  7%|▋         | 3/43 [00:02<00:26,  1.49it/s]"
     ]
    },
    {
     "name": "stdout",
     "output_type": "stream",
     "text": [
      "YTHDF1 115 3\n"
     ]
    },
    {
     "name": "stderr",
     "output_type": "stream",
     "text": [
      "  9%|▉         | 4/43 [00:02<00:25,  1.54it/s]"
     ]
    },
    {
     "name": "stdout",
     "output_type": "stream",
     "text": [
      "HNRNPH2 198 0\n"
     ]
    },
    {
     "name": "stderr",
     "output_type": "stream",
     "text": [
      " 12%|█▏        | 5/43 [00:03<00:24,  1.57it/s]"
     ]
    },
    {
     "name": "stdout",
     "output_type": "stream",
     "text": [
      "RPS19BP1 349 33\n"
     ]
    },
    {
     "name": "stderr",
     "output_type": "stream",
     "text": [
      " 14%|█▍        | 6/43 [00:03<00:24,  1.52it/s]"
     ]
    },
    {
     "name": "stdout",
     "output_type": "stream",
     "text": [
      "HNRNPF 1442 219\n"
     ]
    },
    {
     "name": "stderr",
     "output_type": "stream",
     "text": [
      " 16%|█▋        | 7/43 [00:04<00:23,  1.56it/s]"
     ]
    },
    {
     "name": "stdout",
     "output_type": "stream",
     "text": [
      "RBM11 79 6\n"
     ]
    },
    {
     "name": "stderr",
     "output_type": "stream",
     "text": [
      " 21%|██        | 9/43 [00:05<00:16,  2.11it/s]"
     ]
    },
    {
     "name": "stdout",
     "output_type": "stream",
     "text": [
      "RBM22 33 0\n"
     ]
    },
    {
     "name": "stderr",
     "output_type": "stream",
     "text": [
      " 23%|██▎       | 10/43 [00:05<00:16,  1.95it/s]"
     ]
    },
    {
     "name": "stdout",
     "output_type": "stream",
     "text": [
      "TPD52L2 301 4\n"
     ]
    },
    {
     "name": "stderr",
     "output_type": "stream",
     "text": [
      " 26%|██▌       | 11/43 [00:06<00:17,  1.85it/s]"
     ]
    },
    {
     "name": "stdout",
     "output_type": "stream",
     "text": [
      "YWHAG 136 5\n"
     ]
    },
    {
     "name": "stderr",
     "output_type": "stream",
     "text": [
      " 28%|██▊       | 12/43 [00:07<00:17,  1.80it/s]"
     ]
    },
    {
     "name": "stdout",
     "output_type": "stream",
     "text": [
      "SMNDC1 8 0\n"
     ]
    },
    {
     "name": "stderr",
     "output_type": "stream",
     "text": [
      " 30%|███       | 13/43 [00:07<00:16,  1.77it/s]"
     ]
    },
    {
     "name": "stdout",
     "output_type": "stream",
     "text": [
      "EIF4B 39 0\n"
     ]
    },
    {
     "name": "stderr",
     "output_type": "stream",
     "text": [
      " 33%|███▎      | 14/43 [00:08<00:16,  1.73it/s]"
     ]
    },
    {
     "name": "stdout",
     "output_type": "stream",
     "text": [
      "MBNL1 91 0\n"
     ]
    },
    {
     "name": "stderr",
     "output_type": "stream",
     "text": [
      " 35%|███▍      | 15/43 [00:08<00:16,  1.67it/s]"
     ]
    },
    {
     "name": "stdout",
     "output_type": "stream",
     "text": [
      "RBM5 822 144\n"
     ]
    },
    {
     "name": "stderr",
     "output_type": "stream",
     "text": [
      " 37%|███▋      | 16/43 [00:09<00:16,  1.63it/s]"
     ]
    },
    {
     "name": "stdout",
     "output_type": "stream",
     "text": [
      "PPIA 604 61\n"
     ]
    },
    {
     "name": "stderr",
     "output_type": "stream",
     "text": [
      " 40%|███▉      | 17/43 [00:10<00:15,  1.64it/s]"
     ]
    },
    {
     "name": "stdout",
     "output_type": "stream",
     "text": [
      "LSM10 27 0\n"
     ]
    },
    {
     "name": "stderr",
     "output_type": "stream",
     "text": [
      " 42%|████▏     | 18/43 [00:10<00:15,  1.62it/s]"
     ]
    },
    {
     "name": "stdout",
     "output_type": "stream",
     "text": [
      "LGALS3 410 22\n"
     ]
    },
    {
     "name": "stderr",
     "output_type": "stream",
     "text": [
      " 44%|████▍     | 19/43 [00:11<00:14,  1.63it/s]"
     ]
    },
    {
     "name": "stdout",
     "output_type": "stream",
     "text": [
      "RNPS1 25 0\n"
     ]
    },
    {
     "name": "stderr",
     "output_type": "stream",
     "text": [
      " 47%|████▋     | 20/43 [00:11<00:14,  1.63it/s]"
     ]
    },
    {
     "name": "stdout",
     "output_type": "stream",
     "text": [
      "RBM14 204 8\n"
     ]
    },
    {
     "name": "stderr",
     "output_type": "stream",
     "text": [
      " 49%|████▉     | 21/43 [00:12<00:14,  1.56it/s]"
     ]
    },
    {
     "name": "stdout",
     "output_type": "stream",
     "text": [
      "PCBP3 179 0\n"
     ]
    },
    {
     "name": "stderr",
     "output_type": "stream",
     "text": [
      " 51%|█████     | 22/43 [00:13<00:13,  1.56it/s]"
     ]
    },
    {
     "name": "stdout",
     "output_type": "stream",
     "text": [
      "SRP68 511 0\n"
     ]
    },
    {
     "name": "stderr",
     "output_type": "stream",
     "text": [
      " 53%|█████▎    | 23/43 [00:13<00:12,  1.59it/s]"
     ]
    },
    {
     "name": "stdout",
     "output_type": "stream",
     "text": [
      "AHNAK 55 0\n"
     ]
    },
    {
     "name": "stderr",
     "output_type": "stream",
     "text": [
      " 56%|█████▌    | 24/43 [00:14<00:12,  1.58it/s]"
     ]
    },
    {
     "name": "stdout",
     "output_type": "stream",
     "text": [
      "ZC3HAV1 532 95\n"
     ]
    },
    {
     "name": "stderr",
     "output_type": "stream",
     "text": [
      " 58%|█████▊    | 25/43 [00:15<00:11,  1.61it/s]"
     ]
    },
    {
     "name": "stdout",
     "output_type": "stream",
     "text": [
      "PRPF4 52 0\n"
     ]
    },
    {
     "name": "stderr",
     "output_type": "stream",
     "text": [
      " 63%|██████▎   | 27/43 [00:15<00:07,  2.08it/s]"
     ]
    },
    {
     "name": "stdout",
     "output_type": "stream",
     "text": [
      "RBM4 288 70\n"
     ]
    },
    {
     "name": "stderr",
     "output_type": "stream",
     "text": [
      " 65%|██████▌   | 28/43 [00:16<00:07,  1.96it/s]"
     ]
    },
    {
     "name": "stdout",
     "output_type": "stream",
     "text": [
      "RBM42 54 0\n"
     ]
    },
    {
     "name": "stderr",
     "output_type": "stream",
     "text": [
      " 67%|██████▋   | 29/43 [00:16<00:07,  1.88it/s]"
     ]
    },
    {
     "name": "stdout",
     "output_type": "stream",
     "text": [
      "WDR6 19 0\n"
     ]
    },
    {
     "name": "stderr",
     "output_type": "stream",
     "text": [
      " 72%|███████▏  | 31/43 [00:17<00:05,  2.30it/s]"
     ]
    },
    {
     "name": "stdout",
     "output_type": "stream",
     "text": [
      "PPP1CA 81 11\n"
     ]
    },
    {
     "name": "stderr",
     "output_type": "stream",
     "text": [
      " 74%|███████▍  | 32/43 [00:18<00:05,  2.11it/s]"
     ]
    },
    {
     "name": "stdout",
     "output_type": "stream",
     "text": [
      "RBM10 24 0\n"
     ]
    },
    {
     "name": "stderr",
     "output_type": "stream",
     "text": [
      " 77%|███████▋  | 33/43 [00:18<00:05,  1.91it/s]"
     ]
    },
    {
     "name": "stdout",
     "output_type": "stream",
     "text": [
      "MBNL2 1023 142\n"
     ]
    },
    {
     "name": "stderr",
     "output_type": "stream",
     "text": [
      " 79%|███████▉  | 34/43 [00:19<00:04,  1.83it/s]"
     ]
    },
    {
     "name": "stdout",
     "output_type": "stream",
     "text": [
      "ZMAT3 97 0\n"
     ]
    },
    {
     "name": "stderr",
     "output_type": "stream",
     "text": [
      " 81%|████████▏ | 35/43 [00:20<00:04,  1.79it/s]"
     ]
    },
    {
     "name": "stdout",
     "output_type": "stream",
     "text": [
      "STAU2 23 0\n"
     ]
    },
    {
     "name": "stderr",
     "output_type": "stream",
     "text": [
      " 84%|████████▎ | 36/43 [00:20<00:04,  1.74it/s]"
     ]
    },
    {
     "name": "stdout",
     "output_type": "stream",
     "text": [
      "GRB2 208 43\n"
     ]
    },
    {
     "name": "stderr",
     "output_type": "stream",
     "text": [
      " 86%|████████▌ | 37/43 [00:21<00:03,  1.72it/s]"
     ]
    },
    {
     "name": "stdout",
     "output_type": "stream",
     "text": [
      "DZIP3 24 13\n"
     ]
    },
    {
     "name": "stderr",
     "output_type": "stream",
     "text": [
      " 88%|████████▊ | 38/43 [00:21<00:02,  1.70it/s]"
     ]
    },
    {
     "name": "stdout",
     "output_type": "stream",
     "text": [
      "LSM1 82 0\n"
     ]
    },
    {
     "name": "stderr",
     "output_type": "stream",
     "text": [
      " 91%|█████████ | 39/43 [00:22<00:02,  1.69it/s]"
     ]
    },
    {
     "name": "stdout",
     "output_type": "stream",
     "text": [
      "SCAF8 120 0\n"
     ]
    },
    {
     "name": "stderr",
     "output_type": "stream",
     "text": [
      " 93%|█████████▎| 40/43 [00:23<00:01,  1.61it/s]"
     ]
    },
    {
     "name": "stdout",
     "output_type": "stream",
     "text": [
      "CNOT2 156 0\n"
     ]
    },
    {
     "name": "stderr",
     "output_type": "stream",
     "text": [
      " 95%|█████████▌| 41/43 [00:23<00:01,  1.55it/s]"
     ]
    },
    {
     "name": "stdout",
     "output_type": "stream",
     "text": [
      "PARN 21 4\n"
     ]
    },
    {
     "name": "stderr",
     "output_type": "stream",
     "text": [
      " 98%|█████████▊| 42/43 [00:24<00:00,  1.42it/s]"
     ]
    },
    {
     "name": "stdout",
     "output_type": "stream",
     "text": [
      "NUDT21 2366 366\n"
     ]
    },
    {
     "name": "stderr",
     "output_type": "stream",
     "text": [
      "100%|██████████| 43/43 [00:25<00:00,  1.69it/s]"
     ]
    },
    {
     "name": "stdout",
     "output_type": "stream",
     "text": [
      "CPSF6 698 131\n"
     ]
    },
    {
     "name": "stderr",
     "output_type": "stream",
     "text": [
      "\n"
     ]
    }
   ],
   "source": [
    "r_list = []\n",
    "num_top_terms = []\n",
    "go_pvals = pd.DataFrame()\n",
    "for rbp in tqdm.tqdm(final_candidate_list):\n",
    "    if rbp in sig_PAS:\n",
    "        r_list.append(rbp)\n",
    "    \n",
    "        \n",
    "        top_genes = pd.DataFrame(sig_PAS[rbp]).copy()\n",
    "        top_genes = top_genes.rename(columns={0: 'gene_name'})\n",
    "        top_genes = top_genes.set_index('gene_name')\n",
    "        top_genes['group'] = 'pas_change'\n",
    "        \n",
    "        # Run ora\n",
    "        enr_pvals = dc.get_ora_df(\n",
    "            df=top_genes,\n",
    "            net=msigdb,\n",
    "            source='geneset',\n",
    "            target='genesymbol'\n",
    "        )\n",
    "        \n",
    "        total_num_terms = enr_pvals[enr_pvals['FDR p-value']<0.05].shape[0]\n",
    "        enr_pvals['-log10 FDR p-value'] = -np.log10(enr_pvals['FDR p-value'])\n",
    "        print(rbp, top_genes.shape[0], enr_pvals[enr_pvals['FDR p-value']<0.05].shape[0])\n",
    "        keep_term = enr_pvals[enr_pvals['FDR p-value']<0.05].sort_values(by=['-log10 FDR p-value', 'Combined score'],ascending=[False, False])\n",
    "        num_top_terms.append(enr_pvals[enr_pvals['FDR p-value']<0.05].shape[0])\n",
    "        keep_term['RBP'] = rbp\n",
    "        go_pvals = pd.concat([keep_term\n",
    "                              ,go_pvals])"
   ]
  },
  {
   "cell_type": "code",
   "execution_count": 18,
   "id": "cc7731d1-dbb6-4c16-a51e-4a6a55a05ccf",
   "metadata": {},
   "outputs": [
    {
     "data": {
      "text/html": [
       "<div>\n",
       "<style scoped>\n",
       "    .dataframe tbody tr th:only-of-type {\n",
       "        vertical-align: middle;\n",
       "    }\n",
       "\n",
       "    .dataframe tbody tr th {\n",
       "        vertical-align: top;\n",
       "    }\n",
       "\n",
       "    .dataframe thead th {\n",
       "        text-align: right;\n",
       "    }\n",
       "</style>\n",
       "<table border=\"1\" class=\"dataframe\">\n",
       "  <thead>\n",
       "    <tr style=\"text-align: right;\">\n",
       "      <th></th>\n",
       "      <th>Term</th>\n",
       "      <th>Set size</th>\n",
       "      <th>Overlap ratio</th>\n",
       "      <th>p-value</th>\n",
       "      <th>FDR p-value</th>\n",
       "      <th>Odds ratio</th>\n",
       "      <th>Combined score</th>\n",
       "      <th>Features</th>\n",
       "      <th>-log10 FDR p-value</th>\n",
       "      <th>RBP</th>\n",
       "    </tr>\n",
       "  </thead>\n",
       "  <tbody>\n",
       "    <tr>\n",
       "      <th>1120</th>\n",
       "      <td>INTRACELLULAR_TRANSPORT</td>\n",
       "      <td>1574</td>\n",
       "      <td>0.073062</td>\n",
       "      <td>1.640384e-14</td>\n",
       "      <td>6.983113e-11</td>\n",
       "      <td>2.316548</td>\n",
       "      <td>73.530156</td>\n",
       "      <td>ACAP2;AGFG1;AKIRIN2;AP1G1;AP3B1;ARIH2;ARL8B;AR...</td>\n",
       "      <td>10.155951</td>\n",
       "      <td>CPSF6</td>\n",
       "    </tr>\n",
       "    <tr>\n",
       "      <th>2783</th>\n",
       "      <td>PROTEIN_LOCALIZATION_TO_ORGANELLE</td>\n",
       "      <td>906</td>\n",
       "      <td>0.083885</td>\n",
       "      <td>1.118797e-12</td>\n",
       "      <td>2.381359e-09</td>\n",
       "      <td>2.588586</td>\n",
       "      <td>71.234689</td>\n",
       "      <td>ADAM10;AKIRIN2;ANKRD13C;AP3B1;ARIH2;ATF2;ATG13...</td>\n",
       "      <td>8.623175</td>\n",
       "      <td>CPSF6</td>\n",
       "    </tr>\n",
       "    <tr>\n",
       "      <th>790</th>\n",
       "      <td>ESTABLISHMENT_OF_PROTEIN_LOCALIZATION</td>\n",
       "      <td>1655</td>\n",
       "      <td>0.067069</td>\n",
       "      <td>1.284071e-11</td>\n",
       "      <td>1.822097e-08</td>\n",
       "      <td>2.103136</td>\n",
       "      <td>52.743288</td>\n",
       "      <td>ACSL3;AKIRIN2;AP1G1;AP3B1;ARFGEF2;ARIH2;ARL6IP...</td>\n",
       "      <td>7.739429</td>\n",
       "      <td>CPSF6</td>\n",
       "    </tr>\n",
       "    <tr>\n",
       "      <th>1116</th>\n",
       "      <td>INTRACELLULAR_PROTEIN_TRANSPORT</td>\n",
       "      <td>863</td>\n",
       "      <td>0.081112</td>\n",
       "      <td>4.335016e-11</td>\n",
       "      <td>4.613541e-08</td>\n",
       "      <td>2.486032</td>\n",
       "      <td>59.320974</td>\n",
       "      <td>AKIRIN2;AP1G1;AP3B1;ARIH2;ATF2;ATG13;BAG4;BARD...</td>\n",
       "      <td>7.335966</td>\n",
       "      <td>CPSF6</td>\n",
       "    </tr>\n",
       "    <tr>\n",
       "      <th>795</th>\n",
       "      <td>ESTABLISHMENT_OF_PROTEIN_LOCALIZATION_TO_ORGAN...</td>\n",
       "      <td>442</td>\n",
       "      <td>0.097285</td>\n",
       "      <td>1.451386e-09</td>\n",
       "      <td>1.235710e-06</td>\n",
       "      <td>2.933181</td>\n",
       "      <td>59.692419</td>\n",
       "      <td>AKIRIN2;AP3B1;ARIH2;ATF2;ATG13;BAG4;BNIP3L;ECT...</td>\n",
       "      <td>5.908083</td>\n",
       "      <td>CPSF6</td>\n",
       "    </tr>\n",
       "  </tbody>\n",
       "</table>\n",
       "</div>"
      ],
      "text/plain": [
       "                                                   Term  Set size  \\\n",
       "1120                            INTRACELLULAR_TRANSPORT      1574   \n",
       "2783                  PROTEIN_LOCALIZATION_TO_ORGANELLE       906   \n",
       "790               ESTABLISHMENT_OF_PROTEIN_LOCALIZATION      1655   \n",
       "1116                    INTRACELLULAR_PROTEIN_TRANSPORT       863   \n",
       "795   ESTABLISHMENT_OF_PROTEIN_LOCALIZATION_TO_ORGAN...       442   \n",
       "\n",
       "      Overlap ratio       p-value   FDR p-value  Odds ratio  Combined score  \\\n",
       "1120       0.073062  1.640384e-14  6.983113e-11    2.316548       73.530156   \n",
       "2783       0.083885  1.118797e-12  2.381359e-09    2.588586       71.234689   \n",
       "790        0.067069  1.284071e-11  1.822097e-08    2.103136       52.743288   \n",
       "1116       0.081112  4.335016e-11  4.613541e-08    2.486032       59.320974   \n",
       "795        0.097285  1.451386e-09  1.235710e-06    2.933181       59.692419   \n",
       "\n",
       "                                               Features  -log10 FDR p-value  \\\n",
       "1120  ACAP2;AGFG1;AKIRIN2;AP1G1;AP3B1;ARIH2;ARL8B;AR...           10.155951   \n",
       "2783  ADAM10;AKIRIN2;ANKRD13C;AP3B1;ARIH2;ATF2;ATG13...            8.623175   \n",
       "790   ACSL3;AKIRIN2;AP1G1;AP3B1;ARFGEF2;ARIH2;ARL6IP...            7.739429   \n",
       "1116  AKIRIN2;AP1G1;AP3B1;ARIH2;ATF2;ATG13;BAG4;BARD...            7.335966   \n",
       "795   AKIRIN2;AP3B1;ARIH2;ATF2;ATG13;BAG4;BNIP3L;ECT...            5.908083   \n",
       "\n",
       "        RBP  \n",
       "1120  CPSF6  \n",
       "2783  CPSF6  \n",
       "790   CPSF6  \n",
       "1116  CPSF6  \n",
       "795   CPSF6  "
      ]
     },
     "execution_count": 18,
     "metadata": {},
     "output_type": "execute_result"
    }
   ],
   "source": [
    "go_pvals.head()"
   ]
  },
  {
   "cell_type": "code",
   "execution_count": 20,
   "id": "74f6fbb1-4cdf-4d7b-94b1-79ffd4ff9d20",
   "metadata": {},
   "outputs": [
    {
     "name": "stderr",
     "output_type": "stream",
     "text": [
      "/tscc/nfs/home/pjaganna1/anaconda3/envs/decoupler/lib/python3.11/site-packages/seaborn/matrix.py:560: UserWarning: Clustering large matrix with scipy. Installing `fastcluster` may give better performance.\n",
      "  warnings.warn(msg)\n",
      "/tscc/nfs/home/pjaganna1/anaconda3/envs/decoupler/lib/python3.11/site-packages/seaborn/matrix.py:560: UserWarning: Clustering large matrix with scipy. Installing `fastcluster` may give better performance.\n",
      "  warnings.warn(msg)\n"
     ]
    },
    {
     "data": {
      "image/png": "[encoded data removed]",
      "text/plain": [
       "<Figure size 550x900 with 4 Axes>"
      ]
     },
     "metadata": {},
     "output_type": "display_data"
    }
   ],
   "source": [
    "to_plot = go_pvals.copy()\n",
    "\n",
    "sns.clustermap(to_plot.pivot(index='RBP', columns='Term', values='Combined score').fillna(0).T, \n",
    "               standard_scale=1, \n",
    "               figsize=(5.5,9), \n",
    "               cmap='Blues',\n",
    "              yticklabels=False)\n",
    "plt.savefig('./figures/pas_target_GO_all_terms_heatmap.png')\n",
    "plt.savefig('./figures/pas_target_GO_all_terms_heatmap.jpg')\n",
    "plt.savefig('./figures/pas_target_GO_all_terms_heatmap.svg')"
   ]
  },
  {
   "cell_type": "code",
   "execution_count": null,
   "id": "8e099f59-afb0-44d7-8f3a-cd96b086db05",
   "metadata": {},
   "outputs": [],
   "source": []
  }
 ],
 "metadata": {
  "kernelspec": {
   "display_name": "Python [conda env:decoupler] *",
   "language": "python",
   "name": "conda-env-decoupler-py"
  },
  "language_info": {
   "codemirror_mode": {
    "name": "ipython",
    "version": 3
   },
   "file_extension": ".py",
   "mimetype": "text/x-python",
   "name": "python",
   "nbconvert_exporter": "python",
   "pygments_lexer": "ipython3",
   "version": "3.11.6"
  }
 },
 "nbformat": 4,
 "nbformat_minor": 5
}
