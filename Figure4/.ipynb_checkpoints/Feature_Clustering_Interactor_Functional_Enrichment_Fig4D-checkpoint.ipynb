{
 "cells": [
  {
   "cell_type": "code",
   "execution_count": 1,
   "id": "f3a10ebe-6bb6-4eb6-b501-9b8f5dd889e3",
   "metadata": {},
   "outputs": [],
   "source": [
    "import os\n",
    "import pandas as pd\n",
    "import seaborn as sns\n",
    "import matplotlib.pyplot as plt\n",
    "import glob\n",
    "import tqdm\n",
    "import decoupler as dc\n",
    "import numpy as np"
   ]
  },
  {
   "cell_type": "code",
   "execution_count": 2,
   "id": "5aa004d7-42a2-47ba-95f7-d2946cda64e2",
   "metadata": {},
   "outputs": [],
   "source": [
    "protein_network_df = pd.read_csv('../../protein_network_analysis/9606.protein.physical.links.v12.0.txt.gz', sep=' ')"
   ]
  },
  {
   "cell_type": "code",
   "execution_count": 3,
   "id": "fdaeabfa-5777-4a16-bdaf-034366545467",
   "metadata": {},
   "outputs": [],
   "source": [
    "protein_info = pd.read_csv('../../protein_network_analysis/9606.protein.info.v12.0.txt.gz', sep='\\t')\n",
    "protein_info_dict = dict(zip(protein_info['#string_protein_id'], protein_info['preferred_name']))"
   ]
  },
  {
   "cell_type": "code",
   "execution_count": 4,
   "id": "69c4acb0-5c99-4518-8d67-f26326c2fb2e",
   "metadata": {},
   "outputs": [],
   "source": [
    "protein_network_df['protein1_name'] = protein_network_df.protein1.map(protein_info_dict)"
   ]
  },
  {
   "cell_type": "code",
   "execution_count": 5,
   "id": "d04ce077-0f87-4349-9680-0a5d30e20a98",
   "metadata": {},
   "outputs": [],
   "source": [
    "protein_network_df['protein2_name'] = protein_network_df.protein2.map(protein_info_dict)"
   ]
  },
  {
   "cell_type": "code",
   "execution_count": 6,
   "id": "8e32b9bf-924e-44a3-998e-47f7164c3cd6",
   "metadata": {},
   "outputs": [],
   "source": [
    "cluster_index = ['TRNAU1AP', 'RBM5', 'HNRNPF', 'MBNL2', 'LSM10', 'PRPF4', 'RBM22',\n",
    "       'RBM42', 'RNPS1', 'LSM1', 'PCBP1', 'RBM10', 'SMNDC1', 'CNOT2', 'PCBP3',\n",
    "       'YWHAG', 'YTHDF1', 'MBNL1', 'EIF4B', 'RBM11', 'AHNAK', 'ZMAT3', 'STAU2',\n",
    "       'WDR6', 'DZIP3', 'TPD52L2', 'GRB2', 'PPIA', 'ZC3HAV1', 'RPS19BP1',\n",
    "       'SRP68', 'LGALS3', 'RBM4', 'HNRNPH2', 'PARN', 'RBM14', 'PPP1CA',\n",
    "       'SCAF8', 'NUDT21', 'CPSF6']"
   ]
  },
  {
   "cell_type": "code",
   "execution_count": 7,
   "id": "42e4705b-d1f5-4d58-be36-e3f8a3ac3c68",
   "metadata": {},
   "outputs": [],
   "source": [
    "interest=cluster_index.copy()"
   ]
  },
  {
   "cell_type": "code",
   "execution_count": 8,
   "id": "e77e6519-333e-47b3-9f81-e38bc4d2005e",
   "metadata": {},
   "outputs": [],
   "source": [
    "interactors_dict = protein_network_df[protein_network_df['protein1_name'].isin(interest)].groupby('protein1_name')['protein2_name'].apply(list).to_dict()"
   ]
  },
  {
   "cell_type": "code",
   "execution_count": 9,
   "id": "7e431480-0da2-4756-ada0-ab35bc26ee12",
   "metadata": {},
   "outputs": [
    {
     "name": "stderr",
     "output_type": "stream",
     "text": [
      "/tscc/nfs/home/pjaganna1/anaconda3/envs/decoupler/lib/python3.11/site-packages/tqdm/auto.py:21: TqdmWarning: IProgress not found. Please update jupyter and ipywidgets. See https://ipywidgets.readthedocs.io/en/stable/user_install.html\n",
      "  from .autonotebook import tqdm as notebook_tqdm\n"
     ]
    },
    {
     "data": {
      "text/html": [
       "<div>\n",
       "<style scoped>\n",
       "    .dataframe tbody tr th:only-of-type {\n",
       "        vertical-align: middle;\n",
       "    }\n",
       "\n",
       "    .dataframe tbody tr th {\n",
       "        vertical-align: top;\n",
       "    }\n",
       "\n",
       "    .dataframe thead th {\n",
       "        text-align: right;\n",
       "    }\n",
       "</style>\n",
       "<table border=\"1\" class=\"dataframe\">\n",
       "  <thead>\n",
       "    <tr style=\"text-align: right;\">\n",
       "      <th></th>\n",
       "      <th>genesymbol</th>\n",
       "      <th>collection</th>\n",
       "      <th>geneset</th>\n",
       "    </tr>\n",
       "  </thead>\n",
       "  <tbody>\n",
       "    <tr>\n",
       "      <th>0</th>\n",
       "      <td>MAFF</td>\n",
       "      <td>chemical_and_genetic_perturbations</td>\n",
       "      <td>BOYAULT_LIVER_CANCER_SUBCLASS_G56_DN</td>\n",
       "    </tr>\n",
       "    <tr>\n",
       "      <th>1</th>\n",
       "      <td>MAFF</td>\n",
       "      <td>chemical_and_genetic_perturbations</td>\n",
       "      <td>ELVIDGE_HYPOXIA_UP</td>\n",
       "    </tr>\n",
       "    <tr>\n",
       "      <th>2</th>\n",
       "      <td>MAFF</td>\n",
       "      <td>chemical_and_genetic_perturbations</td>\n",
       "      <td>NUYTTEN_NIPP1_TARGETS_DN</td>\n",
       "    </tr>\n",
       "    <tr>\n",
       "      <th>3</th>\n",
       "      <td>MAFF</td>\n",
       "      <td>immunesigdb</td>\n",
       "      <td>GSE17721_POLYIC_VS_GARDIQUIMOD_4H_BMDC_DN</td>\n",
       "    </tr>\n",
       "    <tr>\n",
       "      <th>4</th>\n",
       "      <td>MAFF</td>\n",
       "      <td>chemical_and_genetic_perturbations</td>\n",
       "      <td>SCHAEFFER_PROSTATE_DEVELOPMENT_12HR_UP</td>\n",
       "    </tr>\n",
       "    <tr>\n",
       "      <th>...</th>\n",
       "      <td>...</td>\n",
       "      <td>...</td>\n",
       "      <td>...</td>\n",
       "    </tr>\n",
       "    <tr>\n",
       "      <th>3838543</th>\n",
       "      <td>PRAMEF22</td>\n",
       "      <td>go_biological_process</td>\n",
       "      <td>GOBP_POSITIVE_REGULATION_OF_CELL_POPULATION_PR...</td>\n",
       "    </tr>\n",
       "    <tr>\n",
       "      <th>3838544</th>\n",
       "      <td>PRAMEF22</td>\n",
       "      <td>go_biological_process</td>\n",
       "      <td>GOBP_APOPTOTIC_PROCESS</td>\n",
       "    </tr>\n",
       "    <tr>\n",
       "      <th>3838545</th>\n",
       "      <td>PRAMEF22</td>\n",
       "      <td>go_biological_process</td>\n",
       "      <td>GOBP_REGULATION_OF_CELL_DEATH</td>\n",
       "    </tr>\n",
       "    <tr>\n",
       "      <th>3838546</th>\n",
       "      <td>PRAMEF22</td>\n",
       "      <td>go_biological_process</td>\n",
       "      <td>GOBP_NEGATIVE_REGULATION_OF_DEVELOPMENTAL_PROCESS</td>\n",
       "    </tr>\n",
       "    <tr>\n",
       "      <th>3838547</th>\n",
       "      <td>PRAMEF22</td>\n",
       "      <td>go_biological_process</td>\n",
       "      <td>GOBP_NEGATIVE_REGULATION_OF_CELL_DEATH</td>\n",
       "    </tr>\n",
       "  </tbody>\n",
       "</table>\n",
       "<p>3838548 rows × 3 columns</p>\n",
       "</div>"
      ],
      "text/plain": [
       "        genesymbol                          collection  \\\n",
       "0             MAFF  chemical_and_genetic_perturbations   \n",
       "1             MAFF  chemical_and_genetic_perturbations   \n",
       "2             MAFF  chemical_and_genetic_perturbations   \n",
       "3             MAFF                         immunesigdb   \n",
       "4             MAFF  chemical_and_genetic_perturbations   \n",
       "...            ...                                 ...   \n",
       "3838543   PRAMEF22               go_biological_process   \n",
       "3838544   PRAMEF22               go_biological_process   \n",
       "3838545   PRAMEF22               go_biological_process   \n",
       "3838546   PRAMEF22               go_biological_process   \n",
       "3838547   PRAMEF22               go_biological_process   \n",
       "\n",
       "                                                   geneset  \n",
       "0                     BOYAULT_LIVER_CANCER_SUBCLASS_G56_DN  \n",
       "1                                       ELVIDGE_HYPOXIA_UP  \n",
       "2                                 NUYTTEN_NIPP1_TARGETS_DN  \n",
       "3                GSE17721_POLYIC_VS_GARDIQUIMOD_4H_BMDC_DN  \n",
       "4                   SCHAEFFER_PROSTATE_DEVELOPMENT_12HR_UP  \n",
       "...                                                    ...  \n",
       "3838543  GOBP_POSITIVE_REGULATION_OF_CELL_POPULATION_PR...  \n",
       "3838544                             GOBP_APOPTOTIC_PROCESS  \n",
       "3838545                      GOBP_REGULATION_OF_CELL_DEATH  \n",
       "3838546  GOBP_NEGATIVE_REGULATION_OF_DEVELOPMENTAL_PROCESS  \n",
       "3838547             GOBP_NEGATIVE_REGULATION_OF_CELL_DEATH  \n",
       "\n",
       "[3838548 rows x 3 columns]"
      ]
     },
     "execution_count": 9,
     "metadata": {},
     "output_type": "execute_result"
    }
   ],
   "source": [
    "msigdb = dc.get_resource('MSigDB')\n",
    "msigdb"
   ]
  },
  {
   "cell_type": "code",
   "execution_count": 10,
   "id": "32a346f0-a9c6-49cb-9904-12e4174664ae",
   "metadata": {},
   "outputs": [
    {
     "data": {
      "text/html": [
       "<div>\n",
       "<style scoped>\n",
       "    .dataframe tbody tr th:only-of-type {\n",
       "        vertical-align: middle;\n",
       "    }\n",
       "\n",
       "    .dataframe tbody tr th {\n",
       "        vertical-align: top;\n",
       "    }\n",
       "\n",
       "    .dataframe thead th {\n",
       "        text-align: right;\n",
       "    }\n",
       "</style>\n",
       "<table border=\"1\" class=\"dataframe\">\n",
       "  <thead>\n",
       "    <tr style=\"text-align: right;\">\n",
       "      <th></th>\n",
       "      <th>genesymbol</th>\n",
       "      <th>collection</th>\n",
       "      <th>geneset</th>\n",
       "    </tr>\n",
       "  </thead>\n",
       "  <tbody>\n",
       "    <tr>\n",
       "      <th>33</th>\n",
       "      <td>MAFF</td>\n",
       "      <td>go_biological_process</td>\n",
       "      <td>GOBP_EMBRYO_DEVELOPMENT</td>\n",
       "    </tr>\n",
       "    <tr>\n",
       "      <th>44</th>\n",
       "      <td>MAFF</td>\n",
       "      <td>go_biological_process</td>\n",
       "      <td>GOBP_POSITIVE_REGULATION_OF_RNA_METABOLIC_PROCESS</td>\n",
       "    </tr>\n",
       "    <tr>\n",
       "      <th>82</th>\n",
       "      <td>MAFF</td>\n",
       "      <td>go_biological_process</td>\n",
       "      <td>GOBP_REGULATION_OF_EPITHELIAL_CELL_DIFFERENTIA...</td>\n",
       "    </tr>\n",
       "    <tr>\n",
       "      <th>94</th>\n",
       "      <td>MAFF</td>\n",
       "      <td>go_biological_process</td>\n",
       "      <td>GOBP_EMBRYO_DEVELOPMENT_ENDING_IN_BIRTH_OR_EGG...</td>\n",
       "    </tr>\n",
       "    <tr>\n",
       "      <th>108</th>\n",
       "      <td>MAFF</td>\n",
       "      <td>go_biological_process</td>\n",
       "      <td>GOBP_IN_UTERO_EMBRYONIC_DEVELOPMENT</td>\n",
       "    </tr>\n",
       "    <tr>\n",
       "      <th>...</th>\n",
       "      <td>...</td>\n",
       "      <td>...</td>\n",
       "      <td>...</td>\n",
       "    </tr>\n",
       "    <tr>\n",
       "      <th>3838543</th>\n",
       "      <td>PRAMEF22</td>\n",
       "      <td>go_biological_process</td>\n",
       "      <td>GOBP_POSITIVE_REGULATION_OF_CELL_POPULATION_PR...</td>\n",
       "    </tr>\n",
       "    <tr>\n",
       "      <th>3838544</th>\n",
       "      <td>PRAMEF22</td>\n",
       "      <td>go_biological_process</td>\n",
       "      <td>GOBP_APOPTOTIC_PROCESS</td>\n",
       "    </tr>\n",
       "    <tr>\n",
       "      <th>3838545</th>\n",
       "      <td>PRAMEF22</td>\n",
       "      <td>go_biological_process</td>\n",
       "      <td>GOBP_REGULATION_OF_CELL_DEATH</td>\n",
       "    </tr>\n",
       "    <tr>\n",
       "      <th>3838546</th>\n",
       "      <td>PRAMEF22</td>\n",
       "      <td>go_biological_process</td>\n",
       "      <td>GOBP_NEGATIVE_REGULATION_OF_DEVELOPMENTAL_PROCESS</td>\n",
       "    </tr>\n",
       "    <tr>\n",
       "      <th>3838547</th>\n",
       "      <td>PRAMEF22</td>\n",
       "      <td>go_biological_process</td>\n",
       "      <td>GOBP_NEGATIVE_REGULATION_OF_CELL_DEATH</td>\n",
       "    </tr>\n",
       "  </tbody>\n",
       "</table>\n",
       "<p>620627 rows × 3 columns</p>\n",
       "</div>"
      ],
      "text/plain": [
       "        genesymbol             collection  \\\n",
       "33            MAFF  go_biological_process   \n",
       "44            MAFF  go_biological_process   \n",
       "82            MAFF  go_biological_process   \n",
       "94            MAFF  go_biological_process   \n",
       "108           MAFF  go_biological_process   \n",
       "...            ...                    ...   \n",
       "3838543   PRAMEF22  go_biological_process   \n",
       "3838544   PRAMEF22  go_biological_process   \n",
       "3838545   PRAMEF22  go_biological_process   \n",
       "3838546   PRAMEF22  go_biological_process   \n",
       "3838547   PRAMEF22  go_biological_process   \n",
       "\n",
       "                                                   geneset  \n",
       "33                                 GOBP_EMBRYO_DEVELOPMENT  \n",
       "44       GOBP_POSITIVE_REGULATION_OF_RNA_METABOLIC_PROCESS  \n",
       "82       GOBP_REGULATION_OF_EPITHELIAL_CELL_DIFFERENTIA...  \n",
       "94       GOBP_EMBRYO_DEVELOPMENT_ENDING_IN_BIRTH_OR_EGG...  \n",
       "108                    GOBP_IN_UTERO_EMBRYONIC_DEVELOPMENT  \n",
       "...                                                    ...  \n",
       "3838543  GOBP_POSITIVE_REGULATION_OF_CELL_POPULATION_PR...  \n",
       "3838544                             GOBP_APOPTOTIC_PROCESS  \n",
       "3838545                      GOBP_REGULATION_OF_CELL_DEATH  \n",
       "3838546  GOBP_NEGATIVE_REGULATION_OF_DEVELOPMENTAL_PROCESS  \n",
       "3838547             GOBP_NEGATIVE_REGULATION_OF_CELL_DEATH  \n",
       "\n",
       "[620627 rows x 3 columns]"
      ]
     },
     "execution_count": 10,
     "metadata": {},
     "output_type": "execute_result"
    }
   ],
   "source": [
    "# Filter by hallmark\n",
    "msigdb = msigdb[msigdb['collection']=='go_biological_process']\n",
    "\n",
    "# Remove duplicated entries\n",
    "msigdb = msigdb[~msigdb.duplicated(['geneset', 'genesymbol'])]\n",
    "\n",
    "msigdb"
   ]
  },
  {
   "cell_type": "code",
   "execution_count": 11,
   "id": "b182eb74-02c8-4356-87c4-3b339bbb476c",
   "metadata": {},
   "outputs": [
    {
     "data": {
      "text/html": [
       "<div>\n",
       "<style scoped>\n",
       "    .dataframe tbody tr th:only-of-type {\n",
       "        vertical-align: middle;\n",
       "    }\n",
       "\n",
       "    .dataframe tbody tr th {\n",
       "        vertical-align: top;\n",
       "    }\n",
       "\n",
       "    .dataframe thead th {\n",
       "        text-align: right;\n",
       "    }\n",
       "</style>\n",
       "<table border=\"1\" class=\"dataframe\">\n",
       "  <thead>\n",
       "    <tr style=\"text-align: right;\">\n",
       "      <th></th>\n",
       "      <th>genesymbol</th>\n",
       "      <th>collection</th>\n",
       "      <th>geneset</th>\n",
       "    </tr>\n",
       "  </thead>\n",
       "  <tbody>\n",
       "    <tr>\n",
       "      <th>33</th>\n",
       "      <td>MAFF</td>\n",
       "      <td>go_biological_process</td>\n",
       "      <td>EMBRYO_DEVELOPMENT</td>\n",
       "    </tr>\n",
       "    <tr>\n",
       "      <th>44</th>\n",
       "      <td>MAFF</td>\n",
       "      <td>go_biological_process</td>\n",
       "      <td>POSITIVE_REGULATION_OF_RNA_METABOLIC_PROCESS</td>\n",
       "    </tr>\n",
       "    <tr>\n",
       "      <th>82</th>\n",
       "      <td>MAFF</td>\n",
       "      <td>go_biological_process</td>\n",
       "      <td>REGULATION_OF_EPITHELIAL_CELL_DIFFERENTIATION</td>\n",
       "    </tr>\n",
       "    <tr>\n",
       "      <th>94</th>\n",
       "      <td>MAFF</td>\n",
       "      <td>go_biological_process</td>\n",
       "      <td>EMBRYO_DEVELOPMENT_ENDING_IN_BIRTH_OR_EGG_HATC...</td>\n",
       "    </tr>\n",
       "    <tr>\n",
       "      <th>108</th>\n",
       "      <td>MAFF</td>\n",
       "      <td>go_biological_process</td>\n",
       "      <td>IN_UTERO_EMBRYONIC_DEVELOPMENT</td>\n",
       "    </tr>\n",
       "    <tr>\n",
       "      <th>...</th>\n",
       "      <td>...</td>\n",
       "      <td>...</td>\n",
       "      <td>...</td>\n",
       "    </tr>\n",
       "    <tr>\n",
       "      <th>3838543</th>\n",
       "      <td>PRAMEF22</td>\n",
       "      <td>go_biological_process</td>\n",
       "      <td>POSITIVE_REGULATION_OF_CELL_POPULATION_PROLIFE...</td>\n",
       "    </tr>\n",
       "    <tr>\n",
       "      <th>3838544</th>\n",
       "      <td>PRAMEF22</td>\n",
       "      <td>go_biological_process</td>\n",
       "      <td>APOPTOTIC_PROCESS</td>\n",
       "    </tr>\n",
       "    <tr>\n",
       "      <th>3838545</th>\n",
       "      <td>PRAMEF22</td>\n",
       "      <td>go_biological_process</td>\n",
       "      <td>REGULATION_OF_CELL_DEATH</td>\n",
       "    </tr>\n",
       "    <tr>\n",
       "      <th>3838546</th>\n",
       "      <td>PRAMEF22</td>\n",
       "      <td>go_biological_process</td>\n",
       "      <td>NEGATIVE_REGULATION_OF_DEVELOPMENTAL_PROCESS</td>\n",
       "    </tr>\n",
       "    <tr>\n",
       "      <th>3838547</th>\n",
       "      <td>PRAMEF22</td>\n",
       "      <td>go_biological_process</td>\n",
       "      <td>NEGATIVE_REGULATION_OF_CELL_DEATH</td>\n",
       "    </tr>\n",
       "  </tbody>\n",
       "</table>\n",
       "<p>620627 rows × 3 columns</p>\n",
       "</div>"
      ],
      "text/plain": [
       "        genesymbol             collection  \\\n",
       "33            MAFF  go_biological_process   \n",
       "44            MAFF  go_biological_process   \n",
       "82            MAFF  go_biological_process   \n",
       "94            MAFF  go_biological_process   \n",
       "108           MAFF  go_biological_process   \n",
       "...            ...                    ...   \n",
       "3838543   PRAMEF22  go_biological_process   \n",
       "3838544   PRAMEF22  go_biological_process   \n",
       "3838545   PRAMEF22  go_biological_process   \n",
       "3838546   PRAMEF22  go_biological_process   \n",
       "3838547   PRAMEF22  go_biological_process   \n",
       "\n",
       "                                                   geneset  \n",
       "33                                      EMBRYO_DEVELOPMENT  \n",
       "44            POSITIVE_REGULATION_OF_RNA_METABOLIC_PROCESS  \n",
       "82           REGULATION_OF_EPITHELIAL_CELL_DIFFERENTIATION  \n",
       "94       EMBRYO_DEVELOPMENT_ENDING_IN_BIRTH_OR_EGG_HATC...  \n",
       "108                         IN_UTERO_EMBRYONIC_DEVELOPMENT  \n",
       "...                                                    ...  \n",
       "3838543  POSITIVE_REGULATION_OF_CELL_POPULATION_PROLIFE...  \n",
       "3838544                                  APOPTOTIC_PROCESS  \n",
       "3838545                           REGULATION_OF_CELL_DEATH  \n",
       "3838546       NEGATIVE_REGULATION_OF_DEVELOPMENTAL_PROCESS  \n",
       "3838547                  NEGATIVE_REGULATION_OF_CELL_DEATH  \n",
       "\n",
       "[620627 rows x 3 columns]"
      ]
     },
     "execution_count": 11,
     "metadata": {},
     "output_type": "execute_result"
    }
   ],
   "source": [
    "msigdb.loc[:, 'geneset'] = [name.split('GOBP_')[1] for name in msigdb['geneset']]\n",
    "msigdb"
   ]
  },
  {
   "cell_type": "code",
   "execution_count": 12,
   "id": "895d65a4-5d9c-433b-b613-5356fc46f524",
   "metadata": {},
   "outputs": [
    {
     "name": "stderr",
     "output_type": "stream",
     "text": [
      "  2%|▎         | 1/40 [00:00<00:27,  1.42it/s]"
     ]
    },
    {
     "name": "stdout",
     "output_type": "stream",
     "text": [
      "TRNAU1AP 80 78\n"
     ]
    },
    {
     "name": "stderr",
     "output_type": "stream",
     "text": [
      "  5%|▌         | 2/40 [00:01<00:26,  1.43it/s]"
     ]
    },
    {
     "name": "stdout",
     "output_type": "stream",
     "text": [
      "RBM5 107 121\n"
     ]
    },
    {
     "name": "stderr",
     "output_type": "stream",
     "text": [
      "  8%|▊         | 3/40 [00:02<00:26,  1.41it/s]"
     ]
    },
    {
     "name": "stdout",
     "output_type": "stream",
     "text": [
      "HNRNPF 296 556\n"
     ]
    },
    {
     "name": "stderr",
     "output_type": "stream",
     "text": [
      " 10%|█         | 4/40 [00:02<00:25,  1.44it/s]"
     ]
    },
    {
     "name": "stdout",
     "output_type": "stream",
     "text": [
      "MBNL2 17 35\n"
     ]
    },
    {
     "name": "stderr",
     "output_type": "stream",
     "text": [
      " 12%|█▎        | 5/40 [00:03<00:24,  1.44it/s]"
     ]
    },
    {
     "name": "stdout",
     "output_type": "stream",
     "text": [
      "LSM10 157 74\n"
     ]
    },
    {
     "name": "stderr",
     "output_type": "stream",
     "text": [
      " 15%|█▌        | 6/40 [00:04<00:23,  1.44it/s]"
     ]
    },
    {
     "name": "stdout",
     "output_type": "stream",
     "text": [
      "PRPF4 209 139\n"
     ]
    },
    {
     "name": "stderr",
     "output_type": "stream",
     "text": [
      " 18%|█▊        | 7/40 [00:04<00:23,  1.43it/s]"
     ]
    },
    {
     "name": "stdout",
     "output_type": "stream",
     "text": [
      "RBM22 196 111\n"
     ]
    },
    {
     "name": "stderr",
     "output_type": "stream",
     "text": [
      " 20%|██        | 8/40 [00:05<00:22,  1.42it/s]"
     ]
    },
    {
     "name": "stdout",
     "output_type": "stream",
     "text": [
      "RBM42 320 177\n"
     ]
    },
    {
     "name": "stderr",
     "output_type": "stream",
     "text": [
      " 22%|██▎       | 9/40 [00:06<00:21,  1.42it/s]"
     ]
    },
    {
     "name": "stdout",
     "output_type": "stream",
     "text": [
      "RNPS1 233 198\n"
     ]
    },
    {
     "name": "stderr",
     "output_type": "stream",
     "text": [
      " 25%|██▌       | 10/40 [00:07<00:21,  1.42it/s]"
     ]
    },
    {
     "name": "stdout",
     "output_type": "stream",
     "text": [
      "LSM1 156 140\n"
     ]
    },
    {
     "name": "stderr",
     "output_type": "stream",
     "text": [
      " 28%|██▊       | 11/40 [00:07<00:20,  1.41it/s]"
     ]
    },
    {
     "name": "stdout",
     "output_type": "stream",
     "text": [
      "PCBP1 343 721\n"
     ]
    },
    {
     "name": "stderr",
     "output_type": "stream",
     "text": [
      " 30%|███       | 12/40 [00:08<00:19,  1.41it/s]"
     ]
    },
    {
     "name": "stdout",
     "output_type": "stream",
     "text": [
      "RBM10 168 248\n"
     ]
    },
    {
     "name": "stderr",
     "output_type": "stream",
     "text": [
      " 32%|███▎      | 13/40 [00:09<00:18,  1.43it/s]"
     ]
    },
    {
     "name": "stdout",
     "output_type": "stream",
     "text": [
      "SMNDC1 77 34\n"
     ]
    },
    {
     "name": "stderr",
     "output_type": "stream",
     "text": [
      " 35%|███▌      | 14/40 [00:09<00:18,  1.43it/s]"
     ]
    },
    {
     "name": "stdout",
     "output_type": "stream",
     "text": [
      "CNOT2 176 148\n"
     ]
    },
    {
     "name": "stderr",
     "output_type": "stream",
     "text": [
      " 38%|███▊      | 15/40 [00:10<00:17,  1.43it/s]"
     ]
    },
    {
     "name": "stdout",
     "output_type": "stream",
     "text": [
      "PCBP3 80 127\n"
     ]
    },
    {
     "name": "stderr",
     "output_type": "stream",
     "text": [
      " 40%|████      | 16/40 [00:11<00:17,  1.40it/s]"
     ]
    },
    {
     "name": "stdout",
     "output_type": "stream",
     "text": [
      "YWHAG 711 1182\n"
     ]
    },
    {
     "name": "stderr",
     "output_type": "stream",
     "text": [
      " 42%|████▎     | 17/40 [00:11<00:16,  1.41it/s]"
     ]
    },
    {
     "name": "stdout",
     "output_type": "stream",
     "text": [
      "YTHDF1 185 264\n"
     ]
    },
    {
     "name": "stderr",
     "output_type": "stream",
     "text": [
      " 45%|████▌     | 18/40 [00:12<00:15,  1.42it/s]"
     ]
    },
    {
     "name": "stdout",
     "output_type": "stream",
     "text": [
      "MBNL1 68 90\n"
     ]
    },
    {
     "name": "stderr",
     "output_type": "stream",
     "text": [
      " 48%|████▊     | 19/40 [00:13<00:14,  1.41it/s]"
     ]
    },
    {
     "name": "stdout",
     "output_type": "stream",
     "text": [
      "EIF4B 215 366\n"
     ]
    },
    {
     "name": "stderr",
     "output_type": "stream",
     "text": [
      " 50%|█████     | 20/40 [00:14<00:14,  1.41it/s]"
     ]
    },
    {
     "name": "stdout",
     "output_type": "stream",
     "text": [
      "RBM11 104 81\n"
     ]
    },
    {
     "name": "stderr",
     "output_type": "stream",
     "text": [
      " 52%|█████▎    | 21/40 [00:14<00:13,  1.41it/s]"
     ]
    },
    {
     "name": "stdout",
     "output_type": "stream",
     "text": [
      "AHNAK 179 546\n"
     ]
    },
    {
     "name": "stderr",
     "output_type": "stream",
     "text": [
      " 55%|█████▌    | 22/40 [00:15<00:12,  1.41it/s]"
     ]
    },
    {
     "name": "stdout",
     "output_type": "stream",
     "text": [
      "ZMAT3 24 135\n"
     ]
    },
    {
     "name": "stderr",
     "output_type": "stream",
     "text": [
      " 57%|█████▊    | 23/40 [00:16<00:12,  1.41it/s]"
     ]
    },
    {
     "name": "stdout",
     "output_type": "stream",
     "text": [
      "STAU2 141 238\n"
     ]
    },
    {
     "name": "stderr",
     "output_type": "stream",
     "text": [
      " 60%|██████    | 24/40 [00:16<00:11,  1.41it/s]"
     ]
    },
    {
     "name": "stdout",
     "output_type": "stream",
     "text": [
      "WDR6 112 484\n"
     ]
    },
    {
     "name": "stderr",
     "output_type": "stream",
     "text": [
      " 62%|██████▎   | 25/40 [00:17<00:10,  1.41it/s]"
     ]
    },
    {
     "name": "stdout",
     "output_type": "stream",
     "text": [
      "DZIP3 65 162\n"
     ]
    },
    {
     "name": "stderr",
     "output_type": "stream",
     "text": [
      " 65%|██████▌   | 26/40 [00:18<00:09,  1.42it/s]"
     ]
    },
    {
     "name": "stdout",
     "output_type": "stream",
     "text": [
      "TPD52L2 63 8\n"
     ]
    },
    {
     "name": "stderr",
     "output_type": "stream",
     "text": [
      " 68%|██████▊   | 27/40 [00:19<00:09,  1.38it/s]"
     ]
    },
    {
     "name": "stdout",
     "output_type": "stream",
     "text": [
      "GRB2 835 2202\n"
     ]
    },
    {
     "name": "stderr",
     "output_type": "stream",
     "text": [
      " 70%|███████   | 28/40 [00:19<00:09,  1.32it/s]"
     ]
    },
    {
     "name": "stdout",
     "output_type": "stream",
     "text": [
      "PPIA 314 917\n"
     ]
    },
    {
     "name": "stderr",
     "output_type": "stream",
     "text": [
      " 72%|███████▎  | 29/40 [00:20<00:08,  1.33it/s]"
     ]
    },
    {
     "name": "stdout",
     "output_type": "stream",
     "text": [
      "ZC3HAV1 412 265\n"
     ]
    },
    {
     "name": "stderr",
     "output_type": "stream",
     "text": [
      " 75%|███████▌  | 30/40 [00:21<00:07,  1.36it/s]"
     ]
    },
    {
     "name": "stdout",
     "output_type": "stream",
     "text": [
      "RPS19BP1 109 75\n"
     ]
    },
    {
     "name": "stderr",
     "output_type": "stream",
     "text": [
      " 78%|███████▊  | 31/40 [00:22<00:06,  1.36it/s]"
     ]
    },
    {
     "name": "stdout",
     "output_type": "stream",
     "text": [
      "SRP68 333 164\n"
     ]
    },
    {
     "name": "stderr",
     "output_type": "stream",
     "text": [
      " 80%|████████  | 32/40 [00:22<00:05,  1.35it/s]"
     ]
    },
    {
     "name": "stdout",
     "output_type": "stream",
     "text": [
      "LGALS3 371 1597\n"
     ]
    },
    {
     "name": "stderr",
     "output_type": "stream",
     "text": [
      " 82%|████████▎ | 33/40 [00:23<00:05,  1.37it/s]"
     ]
    },
    {
     "name": "stdout",
     "output_type": "stream",
     "text": [
      "RBM4 189 194\n"
     ]
    },
    {
     "name": "stderr",
     "output_type": "stream",
     "text": [
      " 85%|████████▌ | 34/40 [00:24<00:04,  1.38it/s]"
     ]
    },
    {
     "name": "stdout",
     "output_type": "stream",
     "text": [
      "HNRNPH2 220 496\n"
     ]
    },
    {
     "name": "stderr",
     "output_type": "stream",
     "text": [
      " 88%|████████▊ | 35/40 [00:24<00:03,  1.39it/s]"
     ]
    },
    {
     "name": "stdout",
     "output_type": "stream",
     "text": [
      "PARN 106 261\n"
     ]
    },
    {
     "name": "stderr",
     "output_type": "stream",
     "text": [
      " 90%|█████████ | 36/40 [00:25<00:02,  1.38it/s]"
     ]
    },
    {
     "name": "stdout",
     "output_type": "stream",
     "text": [
      "RBM14 330 725\n"
     ]
    },
    {
     "name": "stderr",
     "output_type": "stream",
     "text": [
      " 92%|█████████▎| 37/40 [00:26<00:02,  1.37it/s]"
     ]
    },
    {
     "name": "stdout",
     "output_type": "stream",
     "text": [
      "PPP1CA 582 923\n"
     ]
    },
    {
     "name": "stderr",
     "output_type": "stream",
     "text": [
      " 95%|█████████▌| 38/40 [00:27<00:01,  1.38it/s]"
     ]
    },
    {
     "name": "stdout",
     "output_type": "stream",
     "text": [
      "SCAF8 75 111\n"
     ]
    },
    {
     "name": "stderr",
     "output_type": "stream",
     "text": [
      " 98%|█████████▊| 39/40 [00:27<00:00,  1.39it/s]"
     ]
    },
    {
     "name": "stdout",
     "output_type": "stream",
     "text": [
      "NUDT21 202 365\n"
     ]
    },
    {
     "name": "stderr",
     "output_type": "stream",
     "text": [
      "100%|██████████| 40/40 [00:28<00:00,  1.40it/s]"
     ]
    },
    {
     "name": "stdout",
     "output_type": "stream",
     "text": [
      "CPSF6 391 362\n"
     ]
    },
    {
     "name": "stderr",
     "output_type": "stream",
     "text": [
      "\n"
     ]
    }
   ],
   "source": [
    "r_list = []\n",
    "num_top_terms = []\n",
    "go_pvals = pd.DataFrame()\n",
    "for rbp in tqdm.tqdm(cluster_index):\n",
    "    r_list.append(rbp)\n",
    "\n",
    "    \n",
    "    top_genes = pd.DataFrame(interactors_dict[rbp]).copy()\n",
    "    top_genes = top_genes.rename(columns={0: 'gene_name'})\n",
    "    top_genes = top_genes.set_index('gene_name')\n",
    "    top_genes['group'] = 'interactor'\n",
    "    \n",
    "    # Run ora\n",
    "    enr_pvals = dc.get_ora_df(\n",
    "        df=top_genes,\n",
    "        net=msigdb,\n",
    "        source='geneset',\n",
    "        target='genesymbol'\n",
    "    )\n",
    "    \n",
    "    total_num_terms = enr_pvals[enr_pvals['FDR p-value']<0.05].shape[0]\n",
    "    top_pct = int(0.01*total_num_terms)\n",
    "    enr_pvals['-log10 FDR p-value'] = -np.log10(enr_pvals['FDR p-value'])\n",
    "    print(rbp, top_genes.shape[0], enr_pvals[enr_pvals['FDR p-value']<0.05].shape[0])\n",
    "    keep_term = enr_pvals[enr_pvals['FDR p-value']<0.05].sort_values(by=['-log10 FDR p-value', 'Combined score'],ascending=[False, False]).head(10)\n",
    "    num_top_terms.append(enr_pvals[enr_pvals['FDR p-value']<0.05].shape[0])\n",
    "    keep_term['RBP'] = rbp\n",
    "    go_pvals = pd.concat([keep_term\n",
    "                          ,go_pvals])"
   ]
  },
  {
   "cell_type": "code",
   "execution_count": 13,
   "id": "16007acc-83e1-4615-8dc6-1e22e7d1c916",
   "metadata": {},
   "outputs": [
    {
     "data": {
      "text/html": [
       "<div>\n",
       "<style scoped>\n",
       "    .dataframe tbody tr th:only-of-type {\n",
       "        vertical-align: middle;\n",
       "    }\n",
       "\n",
       "    .dataframe tbody tr th {\n",
       "        vertical-align: top;\n",
       "    }\n",
       "\n",
       "    .dataframe thead th {\n",
       "        text-align: right;\n",
       "    }\n",
       "</style>\n",
       "<table border=\"1\" class=\"dataframe\">\n",
       "  <thead>\n",
       "    <tr style=\"text-align: right;\">\n",
       "      <th></th>\n",
       "      <th>Term</th>\n",
       "      <th>Set size</th>\n",
       "      <th>Overlap ratio</th>\n",
       "      <th>p-value</th>\n",
       "      <th>FDR p-value</th>\n",
       "      <th>Odds ratio</th>\n",
       "      <th>Combined score</th>\n",
       "      <th>Features</th>\n",
       "      <th>-log10 FDR p-value</th>\n",
       "      <th>RBP</th>\n",
       "    </tr>\n",
       "  </thead>\n",
       "  <tbody>\n",
       "    <tr>\n",
       "      <th>943</th>\n",
       "      <td>MRNA_PROCESSING</td>\n",
       "      <td>465</td>\n",
       "      <td>0.395699</td>\n",
       "      <td>1.538130e-204</td>\n",
       "      <td>4.535944e-201</td>\n",
       "      <td>37.314972</td>\n",
       "      <td>17511.796455</td>\n",
       "      <td>ACIN1;ADAR;AKAP17A;ALYREF;AQR;ARL6IP4;BCAS2;BU...</td>\n",
       "      <td>200.343332</td>\n",
       "      <td>CPSF6</td>\n",
       "    </tr>\n",
       "    <tr>\n",
       "      <th>940</th>\n",
       "      <td>MRNA_METABOLIC_PROCESS</td>\n",
       "      <td>706</td>\n",
       "      <td>0.277620</td>\n",
       "      <td>7.203118e-184</td>\n",
       "      <td>1.062100e-180</td>\n",
       "      <td>27.449672</td>\n",
       "      <td>11575.557956</td>\n",
       "      <td>ACIN1;ADAR;AKAP17A;ALYREF;AQR;ARL6IP4;ATXN2L;B...</td>\n",
       "      <td>179.973835</td>\n",
       "      <td>CPSF6</td>\n",
       "    </tr>\n",
       "    <tr>\n",
       "      <th>2683</th>\n",
       "      <td>RNA_PROCESSING</td>\n",
       "      <td>935</td>\n",
       "      <td>0.213904</td>\n",
       "      <td>3.428595e-163</td>\n",
       "      <td>3.370309e-160</td>\n",
       "      <td>21.337818</td>\n",
       "      <td>7982.247678</td>\n",
       "      <td>ACIN1;ADAR;AKAP17A;ALYREF;AQR;ARL6IP4;BCAS2;BU...</td>\n",
       "      <td>159.472330</td>\n",
       "      <td>CPSF6</td>\n",
       "    </tr>\n",
       "    <tr>\n",
       "      <th>2685</th>\n",
       "      <td>RNA_SPLICING</td>\n",
       "      <td>432</td>\n",
       "      <td>0.347222</td>\n",
       "      <td>6.002141e-153</td>\n",
       "      <td>4.425079e-150</td>\n",
       "      <td>28.196213</td>\n",
       "      <td>9882.868765</td>\n",
       "      <td>ACIN1;AKAP17A;ALYREF;AQR;ARL6IP4;BCAS2;BUD13;C...</td>\n",
       "      <td>149.354079</td>\n",
       "      <td>CPSF6</td>\n",
       "    </tr>\n",
       "    <tr>\n",
       "      <th>2687</th>\n",
       "      <td>RNA_SPLICING_VIA_TRANSESTERIFICATION_REACTIONS</td>\n",
       "      <td>295</td>\n",
       "      <td>0.427119</td>\n",
       "      <td>1.299003e-140</td>\n",
       "      <td>7.661517e-138</td>\n",
       "      <td>31.772835</td>\n",
       "      <td>10234.040356</td>\n",
       "      <td>ALYREF;AQR;BCAS2;BUD13;CDC40;CDC5L;CELF1;CRNKL...</td>\n",
       "      <td>137.115685</td>\n",
       "      <td>CPSF6</td>\n",
       "    </tr>\n",
       "  </tbody>\n",
       "</table>\n",
       "</div>"
      ],
      "text/plain": [
       "                                                Term  Set size  Overlap ratio  \\\n",
       "943                                  MRNA_PROCESSING       465       0.395699   \n",
       "940                           MRNA_METABOLIC_PROCESS       706       0.277620   \n",
       "2683                                  RNA_PROCESSING       935       0.213904   \n",
       "2685                                    RNA_SPLICING       432       0.347222   \n",
       "2687  RNA_SPLICING_VIA_TRANSESTERIFICATION_REACTIONS       295       0.427119   \n",
       "\n",
       "            p-value    FDR p-value  Odds ratio  Combined score  \\\n",
       "943   1.538130e-204  4.535944e-201   37.314972    17511.796455   \n",
       "940   7.203118e-184  1.062100e-180   27.449672    11575.557956   \n",
       "2683  3.428595e-163  3.370309e-160   21.337818     7982.247678   \n",
       "2685  6.002141e-153  4.425079e-150   28.196213     9882.868765   \n",
       "2687  1.299003e-140  7.661517e-138   31.772835    10234.040356   \n",
       "\n",
       "                                               Features  -log10 FDR p-value  \\\n",
       "943   ACIN1;ADAR;AKAP17A;ALYREF;AQR;ARL6IP4;BCAS2;BU...          200.343332   \n",
       "940   ACIN1;ADAR;AKAP17A;ALYREF;AQR;ARL6IP4;ATXN2L;B...          179.973835   \n",
       "2683  ACIN1;ADAR;AKAP17A;ALYREF;AQR;ARL6IP4;BCAS2;BU...          159.472330   \n",
       "2685  ACIN1;AKAP17A;ALYREF;AQR;ARL6IP4;BCAS2;BUD13;C...          149.354079   \n",
       "2687  ALYREF;AQR;BCAS2;BUD13;CDC40;CDC5L;CELF1;CRNKL...          137.115685   \n",
       "\n",
       "        RBP  \n",
       "943   CPSF6  \n",
       "940   CPSF6  \n",
       "2683  CPSF6  \n",
       "2685  CPSF6  \n",
       "2687  CPSF6  "
      ]
     },
     "execution_count": 13,
     "metadata": {},
     "output_type": "execute_result"
    }
   ],
   "source": [
    "go_pvals.head()"
   ]
  },
  {
   "cell_type": "code",
   "execution_count": 14,
   "id": "70d9ce2e-0323-46b1-9b2f-51dfbc489c79",
   "metadata": {},
   "outputs": [],
   "source": [
    "go_pvals_copy = go_pvals.copy()"
   ]
  },
  {
   "cell_type": "code",
   "execution_count": 15,
   "id": "2799320c-5144-4f48-b943-2377f5691373",
   "metadata": {},
   "outputs": [],
   "source": [
    "import pickle"
   ]
  },
  {
   "cell_type": "code",
   "execution_count": 18,
   "id": "5a0dba37-9458-4d2f-89c9-7c8c3d9a8e8a",
   "metadata": {},
   "outputs": [],
   "source": [
    "### Dictionary with broader categorization of functional terms\n",
    "with open('functional_groups_dictionary_interactor_analysis.pkl', 'rb') as file:\n",
    "    functional_groups = pickle.load(file)"
   ]
  },
  {
   "cell_type": "code",
   "execution_count": 19,
   "id": "6da62768-b8de-4a50-8c6d-254862ddc840",
   "metadata": {},
   "outputs": [
    {
     "data": {
      "text/plain": [
       "dict_keys(['Cytoskeleton and Cell Structure', 'Cell Cycle and Division', 'Gene Expression and RNA Processing', 'Ribosome and Translation Biogenesis', 'Metabolism and Biosynthesis', 'Signal Transduction and Regulation', 'Immune and Inflammatory Response', 'Cellular Response to Stimuli', 'Protein Modification and Degradation', 'Apoptosis and Cell Death', 'Transport and Localization', 'Development and Morphogenesis'])"
      ]
     },
     "execution_count": 19,
     "metadata": {},
     "output_type": "execute_result"
    }
   ],
   "source": [
    "functional_groups.keys()"
   ]
  },
  {
   "cell_type": "code",
   "execution_count": 20,
   "id": "c39f21b3-442a-486b-9f03-61507e065a83",
   "metadata": {},
   "outputs": [],
   "source": [
    "def assign_larger_function(df):\n",
    "    for key in functional_groups:\n",
    "        if df.Term in functional_groups[key]:\n",
    "            return key\n",
    "            "
   ]
  },
  {
   "cell_type": "code",
   "execution_count": 21,
   "id": "1e1a0434-3d49-46fc-a2cc-cb7d8cb586d1",
   "metadata": {},
   "outputs": [],
   "source": [
    "go_pvals_copy['Functional_group'] = go_pvals_copy.apply(assign_larger_function, axis=1)"
   ]
  },
  {
   "cell_type": "code",
   "execution_count": 22,
   "id": "a781e681-a064-460a-8026-ea46eba37624",
   "metadata": {},
   "outputs": [],
   "source": [
    "go_pvals_copy = go_pvals_copy.set_index('RBP')"
   ]
  },
  {
   "cell_type": "code",
   "execution_count": 23,
   "id": "e0f6ad74-8770-47cd-9520-51de72a068cc",
   "metadata": {},
   "outputs": [
    {
     "data": {
      "text/html": [
       "<div>\n",
       "<style scoped>\n",
       "    .dataframe tbody tr th:only-of-type {\n",
       "        vertical-align: middle;\n",
       "    }\n",
       "\n",
       "    .dataframe tbody tr th {\n",
       "        vertical-align: top;\n",
       "    }\n",
       "\n",
       "    .dataframe thead th {\n",
       "        text-align: right;\n",
       "    }\n",
       "</style>\n",
       "<table border=\"1\" class=\"dataframe\">\n",
       "  <thead>\n",
       "    <tr style=\"text-align: right;\">\n",
       "      <th></th>\n",
       "      <th>Term</th>\n",
       "      <th>Set size</th>\n",
       "      <th>Overlap ratio</th>\n",
       "      <th>p-value</th>\n",
       "      <th>FDR p-value</th>\n",
       "      <th>Odds ratio</th>\n",
       "      <th>Combined score</th>\n",
       "      <th>Features</th>\n",
       "      <th>-log10 FDR p-value</th>\n",
       "      <th>Functional_group</th>\n",
       "    </tr>\n",
       "    <tr>\n",
       "      <th>RBP</th>\n",
       "      <th></th>\n",
       "      <th></th>\n",
       "      <th></th>\n",
       "      <th></th>\n",
       "      <th></th>\n",
       "      <th></th>\n",
       "      <th></th>\n",
       "      <th></th>\n",
       "      <th></th>\n",
       "      <th></th>\n",
       "    </tr>\n",
       "  </thead>\n",
       "  <tbody>\n",
       "    <tr>\n",
       "      <th>CPSF6</th>\n",
       "      <td>MRNA_PROCESSING</td>\n",
       "      <td>465</td>\n",
       "      <td>0.395699</td>\n",
       "      <td>1.538130e-204</td>\n",
       "      <td>4.535944e-201</td>\n",
       "      <td>37.314972</td>\n",
       "      <td>17511.796455</td>\n",
       "      <td>ACIN1;ADAR;AKAP17A;ALYREF;AQR;ARL6IP4;BCAS2;BU...</td>\n",
       "      <td>200.343332</td>\n",
       "      <td>Gene Expression and RNA Processing</td>\n",
       "    </tr>\n",
       "    <tr>\n",
       "      <th>CPSF6</th>\n",
       "      <td>MRNA_METABOLIC_PROCESS</td>\n",
       "      <td>706</td>\n",
       "      <td>0.277620</td>\n",
       "      <td>7.203118e-184</td>\n",
       "      <td>1.062100e-180</td>\n",
       "      <td>27.449672</td>\n",
       "      <td>11575.557956</td>\n",
       "      <td>ACIN1;ADAR;AKAP17A;ALYREF;AQR;ARL6IP4;ATXN2L;B...</td>\n",
       "      <td>179.973835</td>\n",
       "      <td>Gene Expression and RNA Processing</td>\n",
       "    </tr>\n",
       "    <tr>\n",
       "      <th>CPSF6</th>\n",
       "      <td>RNA_PROCESSING</td>\n",
       "      <td>935</td>\n",
       "      <td>0.213904</td>\n",
       "      <td>3.428595e-163</td>\n",
       "      <td>3.370309e-160</td>\n",
       "      <td>21.337818</td>\n",
       "      <td>7982.247678</td>\n",
       "      <td>ACIN1;ADAR;AKAP17A;ALYREF;AQR;ARL6IP4;BCAS2;BU...</td>\n",
       "      <td>159.472330</td>\n",
       "      <td>Gene Expression and RNA Processing</td>\n",
       "    </tr>\n",
       "    <tr>\n",
       "      <th>CPSF6</th>\n",
       "      <td>RNA_SPLICING</td>\n",
       "      <td>432</td>\n",
       "      <td>0.347222</td>\n",
       "      <td>6.002141e-153</td>\n",
       "      <td>4.425079e-150</td>\n",
       "      <td>28.196213</td>\n",
       "      <td>9882.868765</td>\n",
       "      <td>ACIN1;AKAP17A;ALYREF;AQR;ARL6IP4;BCAS2;BUD13;C...</td>\n",
       "      <td>149.354079</td>\n",
       "      <td>Gene Expression and RNA Processing</td>\n",
       "    </tr>\n",
       "    <tr>\n",
       "      <th>CPSF6</th>\n",
       "      <td>RNA_SPLICING_VIA_TRANSESTERIFICATION_REACTIONS</td>\n",
       "      <td>295</td>\n",
       "      <td>0.427119</td>\n",
       "      <td>1.299003e-140</td>\n",
       "      <td>7.661517e-138</td>\n",
       "      <td>31.772835</td>\n",
       "      <td>10234.040356</td>\n",
       "      <td>ALYREF;AQR;BCAS2;BUD13;CDC40;CDC5L;CELF1;CRNKL...</td>\n",
       "      <td>137.115685</td>\n",
       "      <td>Gene Expression and RNA Processing</td>\n",
       "    </tr>\n",
       "  </tbody>\n",
       "</table>\n",
       "</div>"
      ],
      "text/plain": [
       "                                                 Term  Set size  \\\n",
       "RBP                                                               \n",
       "CPSF6                                 MRNA_PROCESSING       465   \n",
       "CPSF6                          MRNA_METABOLIC_PROCESS       706   \n",
       "CPSF6                                  RNA_PROCESSING       935   \n",
       "CPSF6                                    RNA_SPLICING       432   \n",
       "CPSF6  RNA_SPLICING_VIA_TRANSESTERIFICATION_REACTIONS       295   \n",
       "\n",
       "       Overlap ratio        p-value    FDR p-value  Odds ratio  \\\n",
       "RBP                                                              \n",
       "CPSF6       0.395699  1.538130e-204  4.535944e-201   37.314972   \n",
       "CPSF6       0.277620  7.203118e-184  1.062100e-180   27.449672   \n",
       "CPSF6       0.213904  3.428595e-163  3.370309e-160   21.337818   \n",
       "CPSF6       0.347222  6.002141e-153  4.425079e-150   28.196213   \n",
       "CPSF6       0.427119  1.299003e-140  7.661517e-138   31.772835   \n",
       "\n",
       "       Combined score                                           Features  \\\n",
       "RBP                                                                        \n",
       "CPSF6    17511.796455  ACIN1;ADAR;AKAP17A;ALYREF;AQR;ARL6IP4;BCAS2;BU...   \n",
       "CPSF6    11575.557956  ACIN1;ADAR;AKAP17A;ALYREF;AQR;ARL6IP4;ATXN2L;B...   \n",
       "CPSF6     7982.247678  ACIN1;ADAR;AKAP17A;ALYREF;AQR;ARL6IP4;BCAS2;BU...   \n",
       "CPSF6     9882.868765  ACIN1;AKAP17A;ALYREF;AQR;ARL6IP4;BCAS2;BUD13;C...   \n",
       "CPSF6    10234.040356  ALYREF;AQR;BCAS2;BUD13;CDC40;CDC5L;CELF1;CRNKL...   \n",
       "\n",
       "       -log10 FDR p-value                    Functional_group  \n",
       "RBP                                                            \n",
       "CPSF6          200.343332  Gene Expression and RNA Processing  \n",
       "CPSF6          179.973835  Gene Expression and RNA Processing  \n",
       "CPSF6          159.472330  Gene Expression and RNA Processing  \n",
       "CPSF6          149.354079  Gene Expression and RNA Processing  \n",
       "CPSF6          137.115685  Gene Expression and RNA Processing  "
      ]
     },
     "execution_count": 23,
     "metadata": {},
     "output_type": "execute_result"
    }
   ],
   "source": [
    "go_pvals_copy.head()"
   ]
  },
  {
   "cell_type": "code",
   "execution_count": 26,
   "id": "0673ba59-de75-46b4-8979-7f53c01d3876",
   "metadata": {},
   "outputs": [],
   "source": [
    "### labeled according to the clustering analysis\n",
    "cluster_index_dict = {'TRNAU1AP': 'cluster1', 'RBM5': 'cluster1', 'HNRNPF': 'cluster1', 'MBNL2': 'cluster1', 'LSM10': 'cluster2', 'PRPF4': 'cluster2', 'RBM22': 'cluster2',\n",
    "       'RBM42': 'cluster2', 'RNPS1': 'cluster2', 'LSM1': 'cluster2', 'PCBP1': 'cluster2', 'RBM10': 'cluster2', 'SMNDC1': 'cluster2', 'CNOT2': 'cluster3', 'PCBP3': 'cluster3',\n",
    "       'YWHAG': 'cluster3', 'YTHDF1': 'cluster3', 'MBNL1': 'cluster3', 'EIF4B': 'cluster3', 'RBM11': 'cluster3', 'AHNAK': 'cluster3', 'ZMAT3': 'cluster3', 'STAU2': 'cluster3',\n",
    "       'WDR6': 'cluster3', 'DZIP3': 'cluster3', 'TPD52L2': 'cluster3', 'GRB2': 'cluster3', 'PPIA': 'cluster4', 'ZC3HAV1': 'cluster4', 'RPS19BP1': 'cluster4',\n",
    "       'SRP68': 'cluster4', 'LGALS3': 'cluster4', 'RBM4': 'cluster4', 'HNRNPH2': 'cluster4', 'PARN': 'cluster5', 'RBM14': 'cluster5', 'PPP1CA': 'cluster5',\n",
    "       'SCAF8': 'cluster5', 'NUDT21': 'cluster6', 'CPSF6':'cluster6'}"
   ]
  },
  {
   "cell_type": "markdown",
   "id": "6ff0f065-9bad-4567-b3b6-288b9763f90d",
   "metadata": {},
   "source": [
    "Fraction calculation was wrong, fixed in in this version"
   ]
  },
  {
   "cell_type": "code",
   "execution_count": null,
   "id": "06cf03ba-99ca-4a42-9aa1-6ce323672c5c",
   "metadata": {},
   "outputs": [],
   "source": [
    "to_plot = go_pvals_copy.groupby(['RBP', 'Functional_group']).size().reset_index(name='Term_count')\n",
    "to_plot['RBP'] = pd.Categorical(to_plot['RBP'], categories=cluster_index, ordered=True)\n",
    "to_plot['cluster_id'] = to_plot['RBP'].map(cluster_index_dict)\n",
    "total_terms_per_category = to_plot.groupby('RBP')['Term_count'].transform('sum')\n",
    "# Step 2: Calculate the fraction of terms within each functional category\n",
    "to_plot['Term_fraction'] = to_plot['Term_count'] / total_terms_per_category\n",
    "fig, axes = plt.subplots(1, 2, sharey=True,gridspec_kw=dict(width_ratios=[5, 1]), figsize=(3,8))\n",
    "\n",
    "# Plot using the term count as the size\n",
    "sns.set_style('white')\n",
    "\n",
    "# Use scatter plot with Term_count as size\n",
    "function_scatter = sns.scatterplot(\n",
    "    data=to_plot,\n",
    "    y=to_plot.RBP,\n",
    "    x=to_plot.Functional_group,\n",
    "    size=to_plot.Term_fraction,\n",
    "    sizes=(6, 60),  # Adjust min and max circle sizes as needed,\n",
    "    ax=axes[0],\n",
    "    hue=to_plot.cluster_id\n",
    ")\n",
    "sns.barplot(y=r_list, x=num_top_terms, ax=axes[1], color='black')\n",
    "# Move legend outside\n",
    "# function_scatter.legend(\n",
    "#     bbox_to_anchor=(-0.4, 1),  \n",
    "#     loc='upper right',  # Anchor legend to the upper left corner\n",
    "#     title=\"Term Count Legend\"\n",
    "# )\n",
    "\n",
    "#axes[1].grid()\n",
    "axes[0].set_ylabel('total_enriched_terms')\n",
    "plt.setp(function_scatter.get_xticklabels(), rotation=45, ha=\"right\", rotation_mode=\"anchor\", fontsize=8)\n",
    "plt.legend(bbox_to_anchor=(1.85, 1), loc='upper left', title=\"Term Count Legend\")\n",
    "plt.savefig('./figures/Jaccard_cluster_allpasseq_decoupler_noproteinlen.png')\n",
    "plt.savefig('./figures/Jaccard_cluster_allpasseq_decoupler_noproteinlen.svg')\n",
    "plt.savefig('./figures/Jaccard_cluster_allpasseq_decoupler_noproteinlen.jpg')\n",
    "# plt.show()\n"
   ]
  },
  {
   "cell_type": "code",
   "execution_count": null,
   "id": "8900d58b-a96c-4773-8685-263527bacec5",
   "metadata": {},
   "outputs": [],
   "source": [
    "function_scatter.legend(\n",
    "    bbox_to_anchor=(-0.4, 1),  \n",
    "    loc='upper right',  # Anchor legend to the upper left corner\n",
    "    title=\"Term Count Legend\"\n",
    ")"
   ]
  },
  {
   "cell_type": "code",
   "execution_count": null,
   "id": "99887e58-1e2d-46cb-9640-d560cf0bf248",
   "metadata": {},
   "outputs": [],
   "source": []
  },
  {
   "cell_type": "code",
   "execution_count": null,
   "id": "4afe4b74-239a-46ad-a2a1-4be7d17f2366",
   "metadata": {},
   "outputs": [],
   "source": []
  },
  {
   "cell_type": "code",
   "execution_count": null,
   "id": "ea23e8c2-b2be-4a98-aded-f890c6eaebff",
   "metadata": {},
   "outputs": [],
   "source": []
  }
 ],
 "metadata": {
  "kernelspec": {
   "display_name": "Python 3 (ipykernel)",
   "language": "python",
   "name": "python3"
  },
  "language_info": {
   "codemirror_mode": {
    "name": "ipython",
    "version": 3
   },
   "file_extension": ".py",
   "mimetype": "text/x-python",
   "name": "python",
   "nbconvert_exporter": "python",
   "pygments_lexer": "ipython3",
   "version": "3.11.6"
  }
 },
 "nbformat": 4,
 "nbformat_minor": 5
}
