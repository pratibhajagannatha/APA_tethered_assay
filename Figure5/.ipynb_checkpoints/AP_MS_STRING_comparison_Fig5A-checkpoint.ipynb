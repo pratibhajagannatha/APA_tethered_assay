{
 "cells": [
  {
   "cell_type": "code",
   "execution_count": 1,
   "id": "8671b0c5-f586-4fdf-a6a1-452cc18c4af2",
   "metadata": {},
   "outputs": [],
   "source": [
    "import os\n",
    "import pandas as pd\n",
    "import numpy as np\n",
    "import seaborn as sns\n",
    "import matplotlib.pyplot as plt\n",
    "from matplotlib_venn import venn2\n",
    "import glob\n",
    "import tqdm\n"
   ]
  },
  {
   "cell_type": "code",
   "execution_count": 2,
   "id": "d1a64911-2f85-4b1b-b30b-9e818b1e7947",
   "metadata": {},
   "outputs": [],
   "source": [
    "data = pd.read_csv('20241116_Pratibha_IPs_DDA_MQ_matchBwRuns_LFQ_psdct200Kto600K_log2_MScountAvg5_noImp_volcano_plots_LESSstringent_interactors_list_CtrHitsSubt_noAltIPsubt_noRNASEonly.txt',sep='\\t')"
   ]
  },
  {
   "cell_type": "code",
   "execution_count": 3,
   "id": "6a321044-aa4d-4183-8487-4f52fa4a8ce9",
   "metadata": {},
   "outputs": [
    {
     "data": {
      "text/html": [
       "<div>\n",
       "<style scoped>\n",
       "    .dataframe tbody tr th:only-of-type {\n",
       "        vertical-align: middle;\n",
       "    }\n",
       "\n",
       "    .dataframe tbody tr th {\n",
       "        vertical-align: top;\n",
       "    }\n",
       "\n",
       "    .dataframe thead th {\n",
       "        text-align: right;\n",
       "    }\n",
       "</style>\n",
       "<table border=\"1\" class=\"dataframe\">\n",
       "  <thead>\n",
       "    <tr style=\"text-align: right;\">\n",
       "      <th></th>\n",
       "      <th>log2FC</th>\n",
       "      <th>genes</th>\n",
       "      <th>pval</th>\n",
       "      <th>fcSig</th>\n",
       "      <th>bait</th>\n",
       "    </tr>\n",
       "  </thead>\n",
       "  <tbody>\n",
       "    <tr>\n",
       "      <th>0</th>\n",
       "      <td>2.863816</td>\n",
       "      <td>RPS9</td>\n",
       "      <td>0.010517</td>\n",
       "      <td>pval &lt; 0.05  and  log2FC &gt; 1</td>\n",
       "      <td>V5_RNPS1_noR</td>\n",
       "    </tr>\n",
       "    <tr>\n",
       "      <th>1</th>\n",
       "      <td>3.166381</td>\n",
       "      <td>KHSRP</td>\n",
       "      <td>0.004943</td>\n",
       "      <td>pval &lt; 0.05  and  log2FC &gt; 1</td>\n",
       "      <td>V5_RNPS1_noR</td>\n",
       "    </tr>\n",
       "    <tr>\n",
       "      <th>2</th>\n",
       "      <td>1.578380</td>\n",
       "      <td>HNRNPDL</td>\n",
       "      <td>0.040889</td>\n",
       "      <td>pval &lt; 0.05  and  log2FC &gt; 1</td>\n",
       "      <td>V5_RNPS1_noR</td>\n",
       "    </tr>\n",
       "    <tr>\n",
       "      <th>3</th>\n",
       "      <td>2.619769</td>\n",
       "      <td>RPL17;RPL17-C18orf32</td>\n",
       "      <td>0.001358</td>\n",
       "      <td>pval &lt; 0.05  and  log2FC &gt; 1</td>\n",
       "      <td>V5_RNPS1_noR</td>\n",
       "    </tr>\n",
       "    <tr>\n",
       "      <th>4</th>\n",
       "      <td>2.216671</td>\n",
       "      <td>AP2M1</td>\n",
       "      <td>0.008888</td>\n",
       "      <td>pval &lt; 0.05  and  log2FC &gt; 1</td>\n",
       "      <td>V5_RNPS1_noR</td>\n",
       "    </tr>\n",
       "  </tbody>\n",
       "</table>\n",
       "</div>"
      ],
      "text/plain": [
       "     log2FC                 genes      pval                           fcSig  \\\n",
       "0  2.863816                  RPS9  0.010517  pval < 0.05  and  log2FC > 1     \n",
       "1  3.166381                 KHSRP  0.004943  pval < 0.05  and  log2FC > 1     \n",
       "2  1.578380               HNRNPDL  0.040889  pval < 0.05  and  log2FC > 1     \n",
       "3  2.619769  RPL17;RPL17-C18orf32  0.001358  pval < 0.05  and  log2FC > 1     \n",
       "4  2.216671                 AP2M1  0.008888  pval < 0.05  and  log2FC > 1     \n",
       "\n",
       "           bait  \n",
       "0  V5_RNPS1_noR  \n",
       "1  V5_RNPS1_noR  \n",
       "2  V5_RNPS1_noR  \n",
       "3  V5_RNPS1_noR  \n",
       "4  V5_RNPS1_noR  "
      ]
     },
     "execution_count": 3,
     "metadata": {},
     "output_type": "execute_result"
    }
   ],
   "source": [
    "data.head()"
   ]
  },
  {
   "cell_type": "code",
   "execution_count": 4,
   "id": "ca6328bc-3bf9-4ec3-8dc6-4dddaf064275",
   "metadata": {},
   "outputs": [
    {
     "data": {
      "text/plain": [
       "bait\n",
       "V5_RNPS1_noR    236\n",
       "V5_GRB2_noR     220\n",
       "Name: count, dtype: int64"
      ]
     },
     "execution_count": 4,
     "metadata": {},
     "output_type": "execute_result"
    }
   ],
   "source": [
    "data['bait'].value_counts()"
   ]
  },
  {
   "cell_type": "code",
   "execution_count": 5,
   "id": "7d41a465-ad9f-488a-a9e7-225edb208247",
   "metadata": {},
   "outputs": [],
   "source": [
    "data = data[data['bait'].str.contains('noR')]"
   ]
  },
  {
   "cell_type": "code",
   "execution_count": 6,
   "id": "e50c4ba7-ee40-4218-bc5c-ea694425b946",
   "metadata": {},
   "outputs": [
    {
     "data": {
      "text/html": [
       "<div>\n",
       "<style scoped>\n",
       "    .dataframe tbody tr th:only-of-type {\n",
       "        vertical-align: middle;\n",
       "    }\n",
       "\n",
       "    .dataframe tbody tr th {\n",
       "        vertical-align: top;\n",
       "    }\n",
       "\n",
       "    .dataframe thead th {\n",
       "        text-align: right;\n",
       "    }\n",
       "</style>\n",
       "<table border=\"1\" class=\"dataframe\">\n",
       "  <thead>\n",
       "    <tr style=\"text-align: right;\">\n",
       "      <th></th>\n",
       "      <th>log2FC</th>\n",
       "      <th>genes</th>\n",
       "      <th>pval</th>\n",
       "      <th>fcSig</th>\n",
       "      <th>bait</th>\n",
       "    </tr>\n",
       "  </thead>\n",
       "  <tbody>\n",
       "    <tr>\n",
       "      <th>0</th>\n",
       "      <td>2.863816</td>\n",
       "      <td>RPS9</td>\n",
       "      <td>0.010517</td>\n",
       "      <td>pval &lt; 0.05  and  log2FC &gt; 1</td>\n",
       "      <td>V5_RNPS1_noR</td>\n",
       "    </tr>\n",
       "    <tr>\n",
       "      <th>1</th>\n",
       "      <td>3.166381</td>\n",
       "      <td>KHSRP</td>\n",
       "      <td>0.004943</td>\n",
       "      <td>pval &lt; 0.05  and  log2FC &gt; 1</td>\n",
       "      <td>V5_RNPS1_noR</td>\n",
       "    </tr>\n",
       "    <tr>\n",
       "      <th>2</th>\n",
       "      <td>1.578380</td>\n",
       "      <td>HNRNPDL</td>\n",
       "      <td>0.040889</td>\n",
       "      <td>pval &lt; 0.05  and  log2FC &gt; 1</td>\n",
       "      <td>V5_RNPS1_noR</td>\n",
       "    </tr>\n",
       "    <tr>\n",
       "      <th>3</th>\n",
       "      <td>2.619769</td>\n",
       "      <td>RPL17;RPL17-C18orf32</td>\n",
       "      <td>0.001358</td>\n",
       "      <td>pval &lt; 0.05  and  log2FC &gt; 1</td>\n",
       "      <td>V5_RNPS1_noR</td>\n",
       "    </tr>\n",
       "    <tr>\n",
       "      <th>4</th>\n",
       "      <td>2.216671</td>\n",
       "      <td>AP2M1</td>\n",
       "      <td>0.008888</td>\n",
       "      <td>pval &lt; 0.05  and  log2FC &gt; 1</td>\n",
       "      <td>V5_RNPS1_noR</td>\n",
       "    </tr>\n",
       "  </tbody>\n",
       "</table>\n",
       "</div>"
      ],
      "text/plain": [
       "     log2FC                 genes      pval                           fcSig  \\\n",
       "0  2.863816                  RPS9  0.010517  pval < 0.05  and  log2FC > 1     \n",
       "1  3.166381                 KHSRP  0.004943  pval < 0.05  and  log2FC > 1     \n",
       "2  1.578380               HNRNPDL  0.040889  pval < 0.05  and  log2FC > 1     \n",
       "3  2.619769  RPL17;RPL17-C18orf32  0.001358  pval < 0.05  and  log2FC > 1     \n",
       "4  2.216671                 AP2M1  0.008888  pval < 0.05  and  log2FC > 1     \n",
       "\n",
       "           bait  \n",
       "0  V5_RNPS1_noR  \n",
       "1  V5_RNPS1_noR  \n",
       "2  V5_RNPS1_noR  \n",
       "3  V5_RNPS1_noR  \n",
       "4  V5_RNPS1_noR  "
      ]
     },
     "execution_count": 6,
     "metadata": {},
     "output_type": "execute_result"
    }
   ],
   "source": [
    "data.head()"
   ]
  },
  {
   "cell_type": "code",
   "execution_count": 39,
   "id": "86f86b19-0450-4346-8cf3-42b2af6cc976",
   "metadata": {},
   "outputs": [],
   "source": [
    "#data.to_csv('20241116_Pratibha_IPs_DDA_MQ_matchBwRuns_LFQ_psdct200Kto600K_log2_MScountAvg5_noImp_volcano_plots_LESSstringent_interactors_list_CtrHitsSubt_noAltIPsubt_noRNASEonly.txt', sep='\\t', index=False)"
   ]
  },
  {
   "cell_type": "code",
   "execution_count": 40,
   "id": "e763c379-817a-4775-b272-273c87051bef",
   "metadata": {},
   "outputs": [],
   "source": [
    "ppi_df = []\n",
    "ppi_dict = {}\n",
    "for g in ['RNPS1', 'GRB2']:\n",
    "    ppi_dict[g] = {}\n",
    "\n",
    "    ppi_df.append([g,len(set(data[data['bait']==f'V5_{g}_noR']['genes'])), 'RNAse-'])\n",
    "    ppi_dict[g]['RNAse-'] = list(set(data[data['bait']==f'V5_{g}_noR']['genes']))\n"
   ]
  },
  {
   "cell_type": "code",
   "execution_count": 41,
   "id": "9061e607-8fd8-43b0-a1aa-d78835ec0029",
   "metadata": {},
   "outputs": [
    {
     "data": {
      "text/html": [
       "<div>\n",
       "<style scoped>\n",
       "    .dataframe tbody tr th:only-of-type {\n",
       "        vertical-align: middle;\n",
       "    }\n",
       "\n",
       "    .dataframe tbody tr th {\n",
       "        vertical-align: top;\n",
       "    }\n",
       "\n",
       "    .dataframe thead th {\n",
       "        text-align: right;\n",
       "    }\n",
       "</style>\n",
       "<table border=\"1\" class=\"dataframe\">\n",
       "  <thead>\n",
       "    <tr style=\"text-align: right;\">\n",
       "      <th></th>\n",
       "      <th>RBP</th>\n",
       "      <th>num</th>\n",
       "      <th>ppi_type</th>\n",
       "    </tr>\n",
       "  </thead>\n",
       "  <tbody>\n",
       "    <tr>\n",
       "      <th>0</th>\n",
       "      <td>RNPS1</td>\n",
       "      <td>236</td>\n",
       "      <td>RNAse-</td>\n",
       "    </tr>\n",
       "    <tr>\n",
       "      <th>1</th>\n",
       "      <td>GRB2</td>\n",
       "      <td>220</td>\n",
       "      <td>RNAse-</td>\n",
       "    </tr>\n",
       "  </tbody>\n",
       "</table>\n",
       "</div>"
      ],
      "text/plain": [
       "     RBP  num ppi_type\n",
       "0  RNPS1  236   RNAse-\n",
       "1   GRB2  220   RNAse-"
      ]
     },
     "execution_count": 41,
     "metadata": {},
     "output_type": "execute_result"
    }
   ],
   "source": [
    "pd.DataFrame(ppi_df, columns = ['RBP', 'num', 'ppi_type'])"
   ]
  },
  {
   "cell_type": "code",
   "execution_count": 42,
   "id": "e08e2296-c3cb-403a-ad9e-0e3bebcc9686",
   "metadata": {},
   "outputs": [
    {
     "data": {
      "text/plain": [
       "<Axes: xlabel='RBP', ylabel='num'>"
      ]
     },
     "execution_count": 42,
     "metadata": {},
     "output_type": "execute_result"
    },
    {
     "data": {
      "image/png": "[encoded data removed]",
      "text/plain": [
       "<Figure size 200x300 with 1 Axes>"
      ]
     },
     "metadata": {},
     "output_type": "display_data"
    }
   ],
   "source": [
    "plt.rcParams[\"figure.figsize\"] = (2,3)\n",
    "\n",
    "sns.barplot(data=pd.DataFrame(ppi_df, columns = ['RBP', 'num', 'ppi_type']),\n",
    "            x='RBP',\n",
    "            y='num',\n",
    "            hue='ppi_type', palette=['darkslategrey'])\n",
    "# plt.savefig('./figures/interactions_barplot_noRNAseonly.png')\n",
    "# plt.savefig('./figures/interactions_barplot_noRNAseonly.svg')\n",
    "# plt.savefig('./figures/interactions_barplot_noRNAseonly.jpg')"
   ]
  },
  {
   "cell_type": "code",
   "execution_count": 43,
   "id": "b5e022a7-ce69-44e5-b260-b659193a97c4",
   "metadata": {},
   "outputs": [],
   "source": [
    "data['bait_protein'] = data.apply(lambda x: x['bait'].split('_')[1], axis=1)\n",
    "data['rnase'] = data.apply(lambda x: x['bait'].split('_')[2], axis=1)"
   ]
  },
  {
   "cell_type": "code",
   "execution_count": 44,
   "id": "d339e2fd-1287-4fa1-ae61-d1f08a1ab6d1",
   "metadata": {},
   "outputs": [
    {
     "data": {
      "text/html": [
       "<div>\n",
       "<style scoped>\n",
       "    .dataframe tbody tr th:only-of-type {\n",
       "        vertical-align: middle;\n",
       "    }\n",
       "\n",
       "    .dataframe tbody tr th {\n",
       "        vertical-align: top;\n",
       "    }\n",
       "\n",
       "    .dataframe thead th {\n",
       "        text-align: right;\n",
       "    }\n",
       "</style>\n",
       "<table border=\"1\" class=\"dataframe\">\n",
       "  <thead>\n",
       "    <tr style=\"text-align: right;\">\n",
       "      <th></th>\n",
       "      <th>log2FC</th>\n",
       "      <th>genes</th>\n",
       "      <th>pval</th>\n",
       "      <th>fcSig</th>\n",
       "      <th>bait</th>\n",
       "      <th>bait_protein</th>\n",
       "      <th>rnase</th>\n",
       "    </tr>\n",
       "  </thead>\n",
       "  <tbody>\n",
       "    <tr>\n",
       "      <th>0</th>\n",
       "      <td>2.863816</td>\n",
       "      <td>RPS9</td>\n",
       "      <td>0.010517</td>\n",
       "      <td>pval &lt; 0.05  and  log2FC &gt; 1</td>\n",
       "      <td>V5_RNPS1_noR</td>\n",
       "      <td>RNPS1</td>\n",
       "      <td>noR</td>\n",
       "    </tr>\n",
       "    <tr>\n",
       "      <th>1</th>\n",
       "      <td>3.166381</td>\n",
       "      <td>KHSRP</td>\n",
       "      <td>0.004943</td>\n",
       "      <td>pval &lt; 0.05  and  log2FC &gt; 1</td>\n",
       "      <td>V5_RNPS1_noR</td>\n",
       "      <td>RNPS1</td>\n",
       "      <td>noR</td>\n",
       "    </tr>\n",
       "    <tr>\n",
       "      <th>2</th>\n",
       "      <td>1.578380</td>\n",
       "      <td>HNRNPDL</td>\n",
       "      <td>0.040889</td>\n",
       "      <td>pval &lt; 0.05  and  log2FC &gt; 1</td>\n",
       "      <td>V5_RNPS1_noR</td>\n",
       "      <td>RNPS1</td>\n",
       "      <td>noR</td>\n",
       "    </tr>\n",
       "    <tr>\n",
       "      <th>3</th>\n",
       "      <td>2.619769</td>\n",
       "      <td>RPL17;RPL17-C18orf32</td>\n",
       "      <td>0.001358</td>\n",
       "      <td>pval &lt; 0.05  and  log2FC &gt; 1</td>\n",
       "      <td>V5_RNPS1_noR</td>\n",
       "      <td>RNPS1</td>\n",
       "      <td>noR</td>\n",
       "    </tr>\n",
       "    <tr>\n",
       "      <th>4</th>\n",
       "      <td>2.216671</td>\n",
       "      <td>AP2M1</td>\n",
       "      <td>0.008888</td>\n",
       "      <td>pval &lt; 0.05  and  log2FC &gt; 1</td>\n",
       "      <td>V5_RNPS1_noR</td>\n",
       "      <td>RNPS1</td>\n",
       "      <td>noR</td>\n",
       "    </tr>\n",
       "  </tbody>\n",
       "</table>\n",
       "</div>"
      ],
      "text/plain": [
       "     log2FC                 genes      pval                           fcSig  \\\n",
       "0  2.863816                  RPS9  0.010517  pval < 0.05  and  log2FC > 1     \n",
       "1  3.166381                 KHSRP  0.004943  pval < 0.05  and  log2FC > 1     \n",
       "2  1.578380               HNRNPDL  0.040889  pval < 0.05  and  log2FC > 1     \n",
       "3  2.619769  RPL17;RPL17-C18orf32  0.001358  pval < 0.05  and  log2FC > 1     \n",
       "4  2.216671                 AP2M1  0.008888  pval < 0.05  and  log2FC > 1     \n",
       "\n",
       "           bait bait_protein rnase  \n",
       "0  V5_RNPS1_noR        RNPS1   noR  \n",
       "1  V5_RNPS1_noR        RNPS1   noR  \n",
       "2  V5_RNPS1_noR        RNPS1   noR  \n",
       "3  V5_RNPS1_noR        RNPS1   noR  \n",
       "4  V5_RNPS1_noR        RNPS1   noR  "
      ]
     },
     "execution_count": 44,
     "metadata": {},
     "output_type": "execute_result"
    }
   ],
   "source": [
    "data.head()"
   ]
  },
  {
   "cell_type": "code",
   "execution_count": 45,
   "id": "f2f8edb0-18a5-4136-92fd-717d0ce9dc66",
   "metadata": {},
   "outputs": [],
   "source": [
    "data_rnps1 = data[data['bait_protein']=='RNPS1']\n",
    "data_GRB2 = data[data['bait_protein']=='GRB2']"
   ]
  },
  {
   "cell_type": "code",
   "execution_count": 46,
   "id": "bc934555-73f0-4da0-aec6-3a4d5b69bb6e",
   "metadata": {},
   "outputs": [],
   "source": [
    "def assign_interaction(r, prey):\n",
    "    if prey in ppi_dict[r]['RNAse-']:\n",
    "        return \"RNAse-\""
   ]
  },
  {
   "cell_type": "code",
   "execution_count": 47,
   "id": "33aa0512-977d-4eb0-8467-c3bbbb129609",
   "metadata": {},
   "outputs": [
    {
     "name": "stderr",
     "output_type": "stream",
     "text": [
      "/tmp/ipykernel_239419/2506725637.py:1: SettingWithCopyWarning: \n",
      "A value is trying to be set on a copy of a slice from a DataFrame.\n",
      "Try using .loc[row_indexer,col_indexer] = value instead\n",
      "\n",
      "See the caveats in the documentation: https://pandas.pydata.org/pandas-docs/stable/user_guide/indexing.html#returning-a-view-versus-a-copy\n",
      "  data_rnps1['interaction'] = data_rnps1.apply(lambda x: assign_interaction(x['bait_protein'], x['genes']), axis=1)\n"
     ]
    }
   ],
   "source": [
    "data_rnps1['interaction'] = data_rnps1.apply(lambda x: assign_interaction(x['bait_protein'], x['genes']), axis=1)"
   ]
  },
  {
   "cell_type": "code",
   "execution_count": 48,
   "id": "39ef254f-dc44-4d32-9724-65cfab28a3d8",
   "metadata": {},
   "outputs": [
    {
     "name": "stderr",
     "output_type": "stream",
     "text": [
      "/tmp/ipykernel_239419/2625204418.py:1: SettingWithCopyWarning: \n",
      "A value is trying to be set on a copy of a slice from a DataFrame.\n",
      "Try using .loc[row_indexer,col_indexer] = value instead\n",
      "\n",
      "See the caveats in the documentation: https://pandas.pydata.org/pandas-docs/stable/user_guide/indexing.html#returning-a-view-versus-a-copy\n",
      "  data_GRB2['interaction'] = data_GRB2.apply(lambda x: assign_interaction(x['bait_protein'], x['genes']), axis=1)\n"
     ]
    }
   ],
   "source": [
    "data_GRB2['interaction'] = data_GRB2.apply(lambda x: assign_interaction(x['bait_protein'], x['genes']), axis=1)"
   ]
  },
  {
   "cell_type": "code",
   "execution_count": 49,
   "id": "f55b579b-32e2-412f-af0b-61160f17e5b1",
   "metadata": {},
   "outputs": [
    {
     "data": {
      "text/html": [
       "<div>\n",
       "<style scoped>\n",
       "    .dataframe tbody tr th:only-of-type {\n",
       "        vertical-align: middle;\n",
       "    }\n",
       "\n",
       "    .dataframe tbody tr th {\n",
       "        vertical-align: top;\n",
       "    }\n",
       "\n",
       "    .dataframe thead th {\n",
       "        text-align: right;\n",
       "    }\n",
       "</style>\n",
       "<table border=\"1\" class=\"dataframe\">\n",
       "  <thead>\n",
       "    <tr style=\"text-align: right;\">\n",
       "      <th></th>\n",
       "      <th>log2FC</th>\n",
       "      <th>genes</th>\n",
       "      <th>pval</th>\n",
       "      <th>fcSig</th>\n",
       "      <th>bait</th>\n",
       "      <th>bait_protein</th>\n",
       "      <th>rnase</th>\n",
       "      <th>interaction</th>\n",
       "    </tr>\n",
       "  </thead>\n",
       "  <tbody>\n",
       "    <tr>\n",
       "      <th>352</th>\n",
       "      <td>3.333321</td>\n",
       "      <td>RPS9</td>\n",
       "      <td>0.000055</td>\n",
       "      <td>pval &lt; 0.05  and  log2FC &gt; 1</td>\n",
       "      <td>V5_GRB2_noR</td>\n",
       "      <td>GRB2</td>\n",
       "      <td>noR</td>\n",
       "      <td>RNAse-</td>\n",
       "    </tr>\n",
       "    <tr>\n",
       "      <th>353</th>\n",
       "      <td>3.796120</td>\n",
       "      <td>RBM15</td>\n",
       "      <td>0.003357</td>\n",
       "      <td>pval &lt; 0.05  and  log2FC &gt; 1</td>\n",
       "      <td>V5_GRB2_noR</td>\n",
       "      <td>GRB2</td>\n",
       "      <td>noR</td>\n",
       "      <td>RNAse-</td>\n",
       "    </tr>\n",
       "    <tr>\n",
       "      <th>354</th>\n",
       "      <td>3.119738</td>\n",
       "      <td>RPL17;RPL17-C18orf32</td>\n",
       "      <td>0.001738</td>\n",
       "      <td>pval &lt; 0.05  and  log2FC &gt; 1</td>\n",
       "      <td>V5_GRB2_noR</td>\n",
       "      <td>GRB2</td>\n",
       "      <td>noR</td>\n",
       "      <td>RNAse-</td>\n",
       "    </tr>\n",
       "    <tr>\n",
       "      <th>355</th>\n",
       "      <td>3.243795</td>\n",
       "      <td>RAVER1</td>\n",
       "      <td>0.010435</td>\n",
       "      <td>pval &lt; 0.05  and  log2FC &gt; 1</td>\n",
       "      <td>V5_GRB2_noR</td>\n",
       "      <td>GRB2</td>\n",
       "      <td>noR</td>\n",
       "      <td>RNAse-</td>\n",
       "    </tr>\n",
       "    <tr>\n",
       "      <th>356</th>\n",
       "      <td>4.175650</td>\n",
       "      <td>ASAP1</td>\n",
       "      <td>0.000082</td>\n",
       "      <td>pval &lt; 0.05  and  log2FC &gt; 1</td>\n",
       "      <td>V5_GRB2_noR</td>\n",
       "      <td>GRB2</td>\n",
       "      <td>noR</td>\n",
       "      <td>RNAse-</td>\n",
       "    </tr>\n",
       "    <tr>\n",
       "      <th>...</th>\n",
       "      <td>...</td>\n",
       "      <td>...</td>\n",
       "      <td>...</td>\n",
       "      <td>...</td>\n",
       "      <td>...</td>\n",
       "      <td>...</td>\n",
       "      <td>...</td>\n",
       "      <td>...</td>\n",
       "    </tr>\n",
       "    <tr>\n",
       "      <th>567</th>\n",
       "      <td>2.796471</td>\n",
       "      <td>RTCB</td>\n",
       "      <td>0.017780</td>\n",
       "      <td>pval &lt; 0.05  and  log2FC &gt; 1</td>\n",
       "      <td>V5_GRB2_noR</td>\n",
       "      <td>GRB2</td>\n",
       "      <td>noR</td>\n",
       "      <td>RNAse-</td>\n",
       "    </tr>\n",
       "    <tr>\n",
       "      <th>568</th>\n",
       "      <td>4.059783</td>\n",
       "      <td>RPL36</td>\n",
       "      <td>0.000103</td>\n",
       "      <td>pval &lt; 0.05  and  log2FC &gt; 1</td>\n",
       "      <td>V5_GRB2_noR</td>\n",
       "      <td>GRB2</td>\n",
       "      <td>noR</td>\n",
       "      <td>RNAse-</td>\n",
       "    </tr>\n",
       "    <tr>\n",
       "      <th>569</th>\n",
       "      <td>2.083355</td>\n",
       "      <td>KCTD3</td>\n",
       "      <td>0.034372</td>\n",
       "      <td>pval &lt; 0.05  and  log2FC &gt; 1</td>\n",
       "      <td>V5_GRB2_noR</td>\n",
       "      <td>GRB2</td>\n",
       "      <td>noR</td>\n",
       "      <td>RNAse-</td>\n",
       "    </tr>\n",
       "    <tr>\n",
       "      <th>570</th>\n",
       "      <td>2.920123</td>\n",
       "      <td>CD2AP</td>\n",
       "      <td>0.001507</td>\n",
       "      <td>pval &lt; 0.05  and  log2FC &gt; 1</td>\n",
       "      <td>V5_GRB2_noR</td>\n",
       "      <td>GRB2</td>\n",
       "      <td>noR</td>\n",
       "      <td>RNAse-</td>\n",
       "    </tr>\n",
       "    <tr>\n",
       "      <th>571</th>\n",
       "      <td>2.103297</td>\n",
       "      <td>RBM8A</td>\n",
       "      <td>0.004381</td>\n",
       "      <td>pval &lt; 0.05  and  log2FC &gt; 1</td>\n",
       "      <td>V5_GRB2_noR</td>\n",
       "      <td>GRB2</td>\n",
       "      <td>noR</td>\n",
       "      <td>RNAse-</td>\n",
       "    </tr>\n",
       "  </tbody>\n",
       "</table>\n",
       "<p>220 rows × 8 columns</p>\n",
       "</div>"
      ],
      "text/plain": [
       "       log2FC                 genes      pval                           fcSig  \\\n",
       "352  3.333321                  RPS9  0.000055  pval < 0.05  and  log2FC > 1     \n",
       "353  3.796120                 RBM15  0.003357  pval < 0.05  and  log2FC > 1     \n",
       "354  3.119738  RPL17;RPL17-C18orf32  0.001738  pval < 0.05  and  log2FC > 1     \n",
       "355  3.243795                RAVER1  0.010435  pval < 0.05  and  log2FC > 1     \n",
       "356  4.175650                 ASAP1  0.000082  pval < 0.05  and  log2FC > 1     \n",
       "..        ...                   ...       ...                             ...   \n",
       "567  2.796471                  RTCB  0.017780  pval < 0.05  and  log2FC > 1     \n",
       "568  4.059783                 RPL36  0.000103  pval < 0.05  and  log2FC > 1     \n",
       "569  2.083355                 KCTD3  0.034372  pval < 0.05  and  log2FC > 1     \n",
       "570  2.920123                 CD2AP  0.001507  pval < 0.05  and  log2FC > 1     \n",
       "571  2.103297                 RBM8A  0.004381  pval < 0.05  and  log2FC > 1     \n",
       "\n",
       "            bait bait_protein rnase interaction  \n",
       "352  V5_GRB2_noR         GRB2   noR      RNAse-  \n",
       "353  V5_GRB2_noR         GRB2   noR      RNAse-  \n",
       "354  V5_GRB2_noR         GRB2   noR      RNAse-  \n",
       "355  V5_GRB2_noR         GRB2   noR      RNAse-  \n",
       "356  V5_GRB2_noR         GRB2   noR      RNAse-  \n",
       "..           ...          ...   ...         ...  \n",
       "567  V5_GRB2_noR         GRB2   noR      RNAse-  \n",
       "568  V5_GRB2_noR         GRB2   noR      RNAse-  \n",
       "569  V5_GRB2_noR         GRB2   noR      RNAse-  \n",
       "570  V5_GRB2_noR         GRB2   noR      RNAse-  \n",
       "571  V5_GRB2_noR         GRB2   noR      RNAse-  \n",
       "\n",
       "[220 rows x 8 columns]"
      ]
     },
     "execution_count": 49,
     "metadata": {},
     "output_type": "execute_result"
    }
   ],
   "source": [
    "data_GRB2.dropna()"
   ]
  },
  {
   "cell_type": "code",
   "execution_count": 50,
   "id": "db6afde9-77a9-43bd-883d-e6325bcd626a",
   "metadata": {},
   "outputs": [
    {
     "data": {
      "text/html": [
       "<div>\n",
       "<style scoped>\n",
       "    .dataframe tbody tr th:only-of-type {\n",
       "        vertical-align: middle;\n",
       "    }\n",
       "\n",
       "    .dataframe tbody tr th {\n",
       "        vertical-align: top;\n",
       "    }\n",
       "\n",
       "    .dataframe thead th {\n",
       "        text-align: right;\n",
       "    }\n",
       "</style>\n",
       "<table border=\"1\" class=\"dataframe\">\n",
       "  <thead>\n",
       "    <tr style=\"text-align: right;\">\n",
       "      <th></th>\n",
       "      <th>log2FC</th>\n",
       "      <th>genes</th>\n",
       "      <th>pval</th>\n",
       "      <th>fcSig</th>\n",
       "      <th>bait</th>\n",
       "      <th>bait_protein</th>\n",
       "      <th>rnase</th>\n",
       "      <th>interaction</th>\n",
       "    </tr>\n",
       "  </thead>\n",
       "  <tbody>\n",
       "    <tr>\n",
       "      <th>0</th>\n",
       "      <td>2.863816</td>\n",
       "      <td>RPS9</td>\n",
       "      <td>0.010517</td>\n",
       "      <td>pval &lt; 0.05  and  log2FC &gt; 1</td>\n",
       "      <td>V5_RNPS1_noR</td>\n",
       "      <td>RNPS1</td>\n",
       "      <td>noR</td>\n",
       "      <td>RNAse-</td>\n",
       "    </tr>\n",
       "    <tr>\n",
       "      <th>1</th>\n",
       "      <td>3.166381</td>\n",
       "      <td>KHSRP</td>\n",
       "      <td>0.004943</td>\n",
       "      <td>pval &lt; 0.05  and  log2FC &gt; 1</td>\n",
       "      <td>V5_RNPS1_noR</td>\n",
       "      <td>RNPS1</td>\n",
       "      <td>noR</td>\n",
       "      <td>RNAse-</td>\n",
       "    </tr>\n",
       "    <tr>\n",
       "      <th>2</th>\n",
       "      <td>1.578380</td>\n",
       "      <td>HNRNPDL</td>\n",
       "      <td>0.040889</td>\n",
       "      <td>pval &lt; 0.05  and  log2FC &gt; 1</td>\n",
       "      <td>V5_RNPS1_noR</td>\n",
       "      <td>RNPS1</td>\n",
       "      <td>noR</td>\n",
       "      <td>RNAse-</td>\n",
       "    </tr>\n",
       "    <tr>\n",
       "      <th>3</th>\n",
       "      <td>2.619769</td>\n",
       "      <td>RPL17;RPL17-C18orf32</td>\n",
       "      <td>0.001358</td>\n",
       "      <td>pval &lt; 0.05  and  log2FC &gt; 1</td>\n",
       "      <td>V5_RNPS1_noR</td>\n",
       "      <td>RNPS1</td>\n",
       "      <td>noR</td>\n",
       "      <td>RNAse-</td>\n",
       "    </tr>\n",
       "    <tr>\n",
       "      <th>4</th>\n",
       "      <td>2.216671</td>\n",
       "      <td>AP2M1</td>\n",
       "      <td>0.008888</td>\n",
       "      <td>pval &lt; 0.05  and  log2FC &gt; 1</td>\n",
       "      <td>V5_RNPS1_noR</td>\n",
       "      <td>RNPS1</td>\n",
       "      <td>noR</td>\n",
       "      <td>RNAse-</td>\n",
       "    </tr>\n",
       "    <tr>\n",
       "      <th>...</th>\n",
       "      <td>...</td>\n",
       "      <td>...</td>\n",
       "      <td>...</td>\n",
       "      <td>...</td>\n",
       "      <td>...</td>\n",
       "      <td>...</td>\n",
       "      <td>...</td>\n",
       "      <td>...</td>\n",
       "    </tr>\n",
       "    <tr>\n",
       "      <th>231</th>\n",
       "      <td>1.534963</td>\n",
       "      <td>SNX9</td>\n",
       "      <td>0.033947</td>\n",
       "      <td>pval &lt; 0.05  and  log2FC &gt; 1</td>\n",
       "      <td>V5_RNPS1_noR</td>\n",
       "      <td>RNPS1</td>\n",
       "      <td>noR</td>\n",
       "      <td>RNAse-</td>\n",
       "    </tr>\n",
       "    <tr>\n",
       "      <th>232</th>\n",
       "      <td>1.641098</td>\n",
       "      <td>CFAP20</td>\n",
       "      <td>0.025183</td>\n",
       "      <td>pval &lt; 0.05  and  log2FC &gt; 1</td>\n",
       "      <td>V5_RNPS1_noR</td>\n",
       "      <td>RNPS1</td>\n",
       "      <td>noR</td>\n",
       "      <td>RNAse-</td>\n",
       "    </tr>\n",
       "    <tr>\n",
       "      <th>233</th>\n",
       "      <td>3.758112</td>\n",
       "      <td>ACIN1</td>\n",
       "      <td>0.000084</td>\n",
       "      <td>pval &lt; 0.05  and  log2FC &gt; 1</td>\n",
       "      <td>V5_RNPS1_noR</td>\n",
       "      <td>RNPS1</td>\n",
       "      <td>noR</td>\n",
       "      <td>RNAse-</td>\n",
       "    </tr>\n",
       "    <tr>\n",
       "      <th>234</th>\n",
       "      <td>1.655187</td>\n",
       "      <td>CHTOP</td>\n",
       "      <td>0.008141</td>\n",
       "      <td>pval &lt; 0.05  and  log2FC &gt; 1</td>\n",
       "      <td>V5_RNPS1_noR</td>\n",
       "      <td>RNPS1</td>\n",
       "      <td>noR</td>\n",
       "      <td>RNAse-</td>\n",
       "    </tr>\n",
       "    <tr>\n",
       "      <th>235</th>\n",
       "      <td>2.287423</td>\n",
       "      <td>SAP18</td>\n",
       "      <td>0.002778</td>\n",
       "      <td>pval &lt; 0.05  and  log2FC &gt; 1</td>\n",
       "      <td>V5_RNPS1_noR</td>\n",
       "      <td>RNPS1</td>\n",
       "      <td>noR</td>\n",
       "      <td>RNAse-</td>\n",
       "    </tr>\n",
       "  </tbody>\n",
       "</table>\n",
       "<p>236 rows × 8 columns</p>\n",
       "</div>"
      ],
      "text/plain": [
       "       log2FC                 genes      pval                           fcSig  \\\n",
       "0    2.863816                  RPS9  0.010517  pval < 0.05  and  log2FC > 1     \n",
       "1    3.166381                 KHSRP  0.004943  pval < 0.05  and  log2FC > 1     \n",
       "2    1.578380               HNRNPDL  0.040889  pval < 0.05  and  log2FC > 1     \n",
       "3    2.619769  RPL17;RPL17-C18orf32  0.001358  pval < 0.05  and  log2FC > 1     \n",
       "4    2.216671                 AP2M1  0.008888  pval < 0.05  and  log2FC > 1     \n",
       "..        ...                   ...       ...                             ...   \n",
       "231  1.534963                  SNX9  0.033947  pval < 0.05  and  log2FC > 1     \n",
       "232  1.641098                CFAP20  0.025183  pval < 0.05  and  log2FC > 1     \n",
       "233  3.758112                 ACIN1  0.000084  pval < 0.05  and  log2FC > 1     \n",
       "234  1.655187                 CHTOP  0.008141  pval < 0.05  and  log2FC > 1     \n",
       "235  2.287423                 SAP18  0.002778  pval < 0.05  and  log2FC > 1     \n",
       "\n",
       "             bait bait_protein rnase interaction  \n",
       "0    V5_RNPS1_noR        RNPS1   noR      RNAse-  \n",
       "1    V5_RNPS1_noR        RNPS1   noR      RNAse-  \n",
       "2    V5_RNPS1_noR        RNPS1   noR      RNAse-  \n",
       "3    V5_RNPS1_noR        RNPS1   noR      RNAse-  \n",
       "4    V5_RNPS1_noR        RNPS1   noR      RNAse-  \n",
       "..            ...          ...   ...         ...  \n",
       "231  V5_RNPS1_noR        RNPS1   noR      RNAse-  \n",
       "232  V5_RNPS1_noR        RNPS1   noR      RNAse-  \n",
       "233  V5_RNPS1_noR        RNPS1   noR      RNAse-  \n",
       "234  V5_RNPS1_noR        RNPS1   noR      RNAse-  \n",
       "235  V5_RNPS1_noR        RNPS1   noR      RNAse-  \n",
       "\n",
       "[236 rows x 8 columns]"
      ]
     },
     "execution_count": 50,
     "metadata": {},
     "output_type": "execute_result"
    }
   ],
   "source": [
    "data_rnps1.dropna()"
   ]
  },
  {
   "cell_type": "code",
   "execution_count": 51,
   "id": "5b1923ab-478b-4397-8610-b857ab225bf1",
   "metadata": {},
   "outputs": [],
   "source": [
    "protein_network_df = pd.read_csv('../protein_network_analysis/9606.protein.physical.links.v12.0.txt.gz', sep=' ')"
   ]
  },
  {
   "cell_type": "code",
   "execution_count": 52,
   "id": "50294f3b-3619-4e92-8b94-06a5e9df10dc",
   "metadata": {},
   "outputs": [],
   "source": [
    "protein_info = pd.read_csv('../protein_network_analysis/9606.protein.info.v12.0.txt.gz', sep='\\t')\n",
    "protein_info_dict = dict(zip(protein_info['#string_protein_id'], protein_info['preferred_name']))"
   ]
  },
  {
   "cell_type": "code",
   "execution_count": 53,
   "id": "142a45c0-4e9f-4675-9467-928f7c08ca69",
   "metadata": {},
   "outputs": [],
   "source": [
    "protein_network_df['protein1_name'] = protein_network_df.protein1.map(protein_info_dict)"
   ]
  },
  {
   "cell_type": "code",
   "execution_count": 54,
   "id": "fd874967-20c8-47bb-8d3a-22f5359f271d",
   "metadata": {},
   "outputs": [],
   "source": [
    "protein_network_df['protein2_name'] = protein_network_df.protein2.map(protein_info_dict)"
   ]
  },
  {
   "cell_type": "code",
   "execution_count": 55,
   "id": "3120c621-8afe-4ac5-bdc7-c704e35e413e",
   "metadata": {},
   "outputs": [
    {
     "data": {
      "text/html": [
       "<div>\n",
       "<style scoped>\n",
       "    .dataframe tbody tr th:only-of-type {\n",
       "        vertical-align: middle;\n",
       "    }\n",
       "\n",
       "    .dataframe tbody tr th {\n",
       "        vertical-align: top;\n",
       "    }\n",
       "\n",
       "    .dataframe thead th {\n",
       "        text-align: right;\n",
       "    }\n",
       "</style>\n",
       "<table border=\"1\" class=\"dataframe\">\n",
       "  <thead>\n",
       "    <tr style=\"text-align: right;\">\n",
       "      <th></th>\n",
       "      <th>protein1</th>\n",
       "      <th>protein2</th>\n",
       "      <th>combined_score</th>\n",
       "      <th>protein1_name</th>\n",
       "      <th>protein2_name</th>\n",
       "    </tr>\n",
       "  </thead>\n",
       "  <tbody>\n",
       "    <tr>\n",
       "      <th>0</th>\n",
       "      <td>9606.ENSP00000000233</td>\n",
       "      <td>9606.ENSP00000257770</td>\n",
       "      <td>311</td>\n",
       "      <td>ARF5</td>\n",
       "      <td>NT5E</td>\n",
       "    </tr>\n",
       "    <tr>\n",
       "      <th>1</th>\n",
       "      <td>9606.ENSP00000000233</td>\n",
       "      <td>9606.ENSP00000226004</td>\n",
       "      <td>161</td>\n",
       "      <td>ARF5</td>\n",
       "      <td>DUSP3</td>\n",
       "    </tr>\n",
       "    <tr>\n",
       "      <th>2</th>\n",
       "      <td>9606.ENSP00000000233</td>\n",
       "      <td>9606.ENSP00000434442</td>\n",
       "      <td>499</td>\n",
       "      <td>ARF5</td>\n",
       "      <td>ARFGAP2</td>\n",
       "    </tr>\n",
       "    <tr>\n",
       "      <th>3</th>\n",
       "      <td>9606.ENSP00000000233</td>\n",
       "      <td>9606.ENSP00000262455</td>\n",
       "      <td>531</td>\n",
       "      <td>ARF5</td>\n",
       "      <td>ERP44</td>\n",
       "    </tr>\n",
       "    <tr>\n",
       "      <th>4</th>\n",
       "      <td>9606.ENSP00000000233</td>\n",
       "      <td>9606.ENSP00000303145</td>\n",
       "      <td>499</td>\n",
       "      <td>ARF5</td>\n",
       "      <td>TMED10</td>\n",
       "    </tr>\n",
       "  </tbody>\n",
       "</table>\n",
       "</div>"
      ],
      "text/plain": [
       "               protein1              protein2  combined_score protein1_name  \\\n",
       "0  9606.ENSP00000000233  9606.ENSP00000257770             311          ARF5   \n",
       "1  9606.ENSP00000000233  9606.ENSP00000226004             161          ARF5   \n",
       "2  9606.ENSP00000000233  9606.ENSP00000434442             499          ARF5   \n",
       "3  9606.ENSP00000000233  9606.ENSP00000262455             531          ARF5   \n",
       "4  9606.ENSP00000000233  9606.ENSP00000303145             499          ARF5   \n",
       "\n",
       "  protein2_name  \n",
       "0          NT5E  \n",
       "1         DUSP3  \n",
       "2       ARFGAP2  \n",
       "3         ERP44  \n",
       "4        TMED10  "
      ]
     },
     "execution_count": 55,
     "metadata": {},
     "output_type": "execute_result"
    }
   ],
   "source": [
    "protein_network_df.head()"
   ]
  },
  {
   "cell_type": "code",
   "execution_count": 56,
   "id": "3ba91d09-22a1-4f02-9826-1f762e66a76c",
   "metadata": {},
   "outputs": [],
   "source": [
    "string_grb2 = protein_network_df[(protein_network_df['protein1_name'].isin(['GRB2']))]"
   ]
  },
  {
   "cell_type": "code",
   "execution_count": 57,
   "id": "c1693cd9-4c35-4847-be30-7bca63c7d936",
   "metadata": {},
   "outputs": [],
   "source": [
    "string_rnps1 = protein_network_df[(protein_network_df['protein1_name'].isin(['RNPS1']))]"
   ]
  },
  {
   "cell_type": "code",
   "execution_count": 58,
   "id": "0c36b395-39d7-4f2a-bb40-81c01d29f7b1",
   "metadata": {},
   "outputs": [
    {
     "data": {
      "text/html": [
       "<div>\n",
       "<style scoped>\n",
       "    .dataframe tbody tr th:only-of-type {\n",
       "        vertical-align: middle;\n",
       "    }\n",
       "\n",
       "    .dataframe tbody tr th {\n",
       "        vertical-align: top;\n",
       "    }\n",
       "\n",
       "    .dataframe thead th {\n",
       "        text-align: right;\n",
       "    }\n",
       "</style>\n",
       "<table border=\"1\" class=\"dataframe\">\n",
       "  <thead>\n",
       "    <tr style=\"text-align: right;\">\n",
       "      <th></th>\n",
       "      <th>protein1</th>\n",
       "      <th>protein2</th>\n",
       "      <th>combined_score</th>\n",
       "      <th>protein1_name</th>\n",
       "      <th>protein2_name</th>\n",
       "    </tr>\n",
       "  </thead>\n",
       "  <tbody>\n",
       "    <tr>\n",
       "      <th>1010961</th>\n",
       "      <td>9606.ENSP00000376345</td>\n",
       "      <td>9606.ENSP00000300692</td>\n",
       "      <td>497</td>\n",
       "      <td>GRB2</td>\n",
       "      <td>CD3D</td>\n",
       "    </tr>\n",
       "    <tr>\n",
       "      <th>1010962</th>\n",
       "      <td>9606.ENSP00000376345</td>\n",
       "      <td>9606.ENSP00000085219</td>\n",
       "      <td>608</td>\n",
       "      <td>GRB2</td>\n",
       "      <td>CD22</td>\n",
       "    </tr>\n",
       "    <tr>\n",
       "      <th>1010963</th>\n",
       "      <td>9606.ENSP00000376345</td>\n",
       "      <td>9606.ENSP00000497910</td>\n",
       "      <td>546</td>\n",
       "      <td>GRB2</td>\n",
       "      <td>B2M</td>\n",
       "    </tr>\n",
       "    <tr>\n",
       "      <th>1010964</th>\n",
       "      <td>9606.ENSP00000376345</td>\n",
       "      <td>9606.ENSP00000361423</td>\n",
       "      <td>981</td>\n",
       "      <td>GRB2</td>\n",
       "      <td>ABL1</td>\n",
       "    </tr>\n",
       "    <tr>\n",
       "      <th>1010965</th>\n",
       "      <td>9606.ENSP00000376345</td>\n",
       "      <td>9606.ENSP00000231134</td>\n",
       "      <td>198</td>\n",
       "      <td>GRB2</td>\n",
       "      <td>PCDHB5</td>\n",
       "    </tr>\n",
       "  </tbody>\n",
       "</table>\n",
       "</div>"
      ],
      "text/plain": [
       "                     protein1              protein2  combined_score  \\\n",
       "1010961  9606.ENSP00000376345  9606.ENSP00000300692             497   \n",
       "1010962  9606.ENSP00000376345  9606.ENSP00000085219             608   \n",
       "1010963  9606.ENSP00000376345  9606.ENSP00000497910             546   \n",
       "1010964  9606.ENSP00000376345  9606.ENSP00000361423             981   \n",
       "1010965  9606.ENSP00000376345  9606.ENSP00000231134             198   \n",
       "\n",
       "        protein1_name protein2_name  \n",
       "1010961          GRB2          CD3D  \n",
       "1010962          GRB2          CD22  \n",
       "1010963          GRB2           B2M  \n",
       "1010964          GRB2          ABL1  \n",
       "1010965          GRB2        PCDHB5  "
      ]
     },
     "execution_count": 58,
     "metadata": {},
     "output_type": "execute_result"
    }
   ],
   "source": [
    "string_grb2.head()"
   ]
  },
  {
   "cell_type": "code",
   "execution_count": 59,
   "id": "1838eeac-aee3-4796-aa05-396bde42f850",
   "metadata": {},
   "outputs": [
    {
     "data": {
      "text/html": [
       "<div>\n",
       "<style scoped>\n",
       "    .dataframe tbody tr th:only-of-type {\n",
       "        vertical-align: middle;\n",
       "    }\n",
       "\n",
       "    .dataframe tbody tr th {\n",
       "        vertical-align: top;\n",
       "    }\n",
       "\n",
       "    .dataframe thead th {\n",
       "        text-align: right;\n",
       "    }\n",
       "</style>\n",
       "<table border=\"1\" class=\"dataframe\">\n",
       "  <thead>\n",
       "    <tr style=\"text-align: right;\">\n",
       "      <th></th>\n",
       "      <th>protein1</th>\n",
       "      <th>protein2</th>\n",
       "      <th>combined_score</th>\n",
       "      <th>protein1_name</th>\n",
       "      <th>protein2_name</th>\n",
       "    </tr>\n",
       "  </thead>\n",
       "  <tbody>\n",
       "    <tr>\n",
       "      <th>1327620</th>\n",
       "      <td>9606.ENSP00000457723</td>\n",
       "      <td>9606.ENSP00000323696</td>\n",
       "      <td>211</td>\n",
       "      <td>RNPS1</td>\n",
       "      <td>CRTAP</td>\n",
       "    </tr>\n",
       "    <tr>\n",
       "      <th>1327621</th>\n",
       "      <td>9606.ENSP00000457723</td>\n",
       "      <td>9606.ENSP00000367406</td>\n",
       "      <td>329</td>\n",
       "      <td>RNPS1</td>\n",
       "      <td>TAF2</td>\n",
       "    </tr>\n",
       "    <tr>\n",
       "      <th>1327622</th>\n",
       "      <td>9606.ENSP00000457723</td>\n",
       "      <td>9606.ENSP00000337632</td>\n",
       "      <td>220</td>\n",
       "      <td>RNPS1</td>\n",
       "      <td>SARNP</td>\n",
       "    </tr>\n",
       "    <tr>\n",
       "      <th>1327623</th>\n",
       "      <td>9606.ENSP00000457723</td>\n",
       "      <td>9606.ENSP00000348056</td>\n",
       "      <td>254</td>\n",
       "      <td>RNPS1</td>\n",
       "      <td>UBE2I</td>\n",
       "    </tr>\n",
       "    <tr>\n",
       "      <th>1327624</th>\n",
       "      <td>9606.ENSP00000457723</td>\n",
       "      <td>9606.ENSP00000440163</td>\n",
       "      <td>163</td>\n",
       "      <td>RNPS1</td>\n",
       "      <td>FAM9A</td>\n",
       "    </tr>\n",
       "  </tbody>\n",
       "</table>\n",
       "</div>"
      ],
      "text/plain": [
       "                     protein1              protein2  combined_score  \\\n",
       "1327620  9606.ENSP00000457723  9606.ENSP00000323696             211   \n",
       "1327621  9606.ENSP00000457723  9606.ENSP00000367406             329   \n",
       "1327622  9606.ENSP00000457723  9606.ENSP00000337632             220   \n",
       "1327623  9606.ENSP00000457723  9606.ENSP00000348056             254   \n",
       "1327624  9606.ENSP00000457723  9606.ENSP00000440163             163   \n",
       "\n",
       "        protein1_name protein2_name  \n",
       "1327620         RNPS1         CRTAP  \n",
       "1327621         RNPS1          TAF2  \n",
       "1327622         RNPS1         SARNP  \n",
       "1327623         RNPS1         UBE2I  \n",
       "1327624         RNPS1         FAM9A  "
      ]
     },
     "execution_count": 59,
     "metadata": {},
     "output_type": "execute_result"
    }
   ],
   "source": [
    "string_rnps1.head()"
   ]
  },
  {
   "cell_type": "code",
   "execution_count": 60,
   "id": "42ad98c1-f4ab-4b95-bd6b-fb342434aca2",
   "metadata": {},
   "outputs": [
    {
     "data": {
      "text/plain": [
       "Text(0.5, 1.0, 'GRB2')"
      ]
     },
     "execution_count": 60,
     "metadata": {},
     "output_type": "execute_result"
    },
    {
     "data": {
      "image/png": "[encoded data removed]",
      "text/plain": [
       "<Figure size 200x300 with 1 Axes>"
      ]
     },
     "metadata": {},
     "output_type": "display_data"
    }
   ],
   "source": [
    "venn2([set(data_GRB2['genes']), set(string_grb2['protein2_name'])], ('AP-MS', 'STRING'),set_colors=('skyblue', 'grey')) \n",
    "plt.title('GRB2')\n",
    "# plt.savefig('./figures/APMS_STRING_GRB2_comparison_venn_noRNAse.png')\n",
    "# plt.savefig('./figures/APMS_STRING_GRB2_comparison_venn_noRNAse.svg')\n",
    "# plt.savefig('./figures/APMS_STRING_GRB2_comparison_venn_noRNAse.jpg')"
   ]
  },
  {
   "cell_type": "code",
   "execution_count": 61,
   "id": "94855436-5a1d-4df3-b03a-55f98851b8d2",
   "metadata": {},
   "outputs": [],
   "source": [
    "ap_ms_unique_grb2 = set(data_GRB2['genes']).difference(set(string_grb2['protein2_name']))\n",
    "ap_ms_unique_rnps1 = set(data_rnps1['genes']).difference(set(string_rnps1['protein2_name']))"
   ]
  },
  {
   "cell_type": "code",
   "execution_count": 62,
   "id": "2b78092d-aac2-4271-8239-90dd0186aa8b",
   "metadata": {},
   "outputs": [],
   "source": [
    "#data_GRB2[data_GRB2['genes'].isin(ap_ms_unique_grb2)].dropna().to_csv('ppi_network_grb2_apms_unique.txt', sep='\\t', index=False)"
   ]
  },
  {
   "cell_type": "code",
   "execution_count": 63,
   "id": "5632f160-3cb2-4be6-b6c8-28d2b2c117e5",
   "metadata": {},
   "outputs": [],
   "source": [
    "#data_rnps1[data_rnps1['genes'].isin(ap_ms_unique_rnps1)].dropna().to_csv('ppi_network_rnps1_apms_unique.txt', sep='\\t', index=False)"
   ]
  },
  {
   "cell_type": "code",
   "execution_count": 64,
   "id": "dd43bd2b-2304-44c1-b79d-2d8eb7f123d6",
   "metadata": {},
   "outputs": [
    {
     "data": {
      "text/plain": [
       "<matplotlib_venn._common.VennDiagram at 0x15551af48f70>"
      ]
     },
     "execution_count": 64,
     "metadata": {},
     "output_type": "execute_result"
    },
    {
     "data": {
      "image/png": "[encoded data removed]",
      "text/plain": [
       "<Figure size 200x300 with 1 Axes>"
      ]
     },
     "metadata": {},
     "output_type": "display_data"
    }
   ],
   "source": [
    "venn2([set(data_rnps1['genes']), set(string_rnps1['protein2_name'])], ('AP-MS', 'STRING'),set_colors=('skyblue', 'grey'))\n",
    "# plt.savefig('./figures/APMS_STRING_RNPS1_comparison_venn_noRNAse.png')\n",
    "# plt.savefig('./figures/APMS_STRING_RNPS1_comparison_venn_noRNAse.svg')\n",
    "# plt.savefig('./figures/APMS_STRING_RNPS1_comparison_venn_noRNAse.jpg')"
   ]
  },
  {
   "cell_type": "code",
   "execution_count": 70,
   "id": "778b21e6-76e5-4f4b-a417-c31bbb6fc2bb",
   "metadata": {},
   "outputs": [
    {
     "data": {
      "image/png": "[encoded data removed]",
      "text/plain": [
       "<Figure size 200x300 with 1 Axes>"
      ]
     },
     "metadata": {},
     "output_type": "display_data"
    }
   ],
   "source": [
    "sns.barplot(data=pd.DataFrame([['GRB2', 'annotated', len(set(data_GRB2['genes']).intersection(set(string_grb2['protein2_name'])))],\n",
    " ['GRB2', 'unannotated', len(set(data_GRB2['genes']).difference(set(string_grb2['protein2_name'])))],\n",
    " ['RNPS1', 'annotated', len(set(data_rnps1['genes']).intersection(set(string_rnps1['protein2_name'])))],\n",
    " ['RNPS1', 'unannotated', len(set(data_rnps1['genes']).difference(set(string_rnps1['protein2_name'])))]]),\n",
    "            x=0,\n",
    "            y=2,\n",
    "            hue=1, palette=['darkslategrey', 'mediumseagreen'])\n",
    "plt.savefig('./figures/interactions_barplot_annotated_label_noRNAseonly.png')\n",
    "plt.savefig('./figures/interactions_barplot_annotated_label_noRNAseonly.svg')\n",
    "plt.savefig('./figures/interactions_barplot_annotated_label_noRNAseonly.jpg')"
   ]
  },
  {
   "cell_type": "code",
   "execution_count": null,
   "id": "78e2e5fc-ef6d-4f87-bf8c-ec695f2f1da8",
   "metadata": {},
   "outputs": [],
   "source": []
  },
  {
   "cell_type": "code",
   "execution_count": null,
   "id": "c32366f2-a61c-48b7-9a16-357e47e95e55",
   "metadata": {},
   "outputs": [],
   "source": []
  },
  {
   "cell_type": "code",
   "execution_count": null,
   "id": "3b4778f8-c886-41c1-a86d-6dee38860d83",
   "metadata": {},
   "outputs": [],
   "source": [
    "#data_rnps1.dropna().to_csv('ppi_network_rnps1.txt', sep='\\t', index=False)"
   ]
  },
  {
   "cell_type": "code",
   "execution_count": null,
   "id": "6cc57b64-663c-4cf3-b034-5e744a8ed91f",
   "metadata": {},
   "outputs": [],
   "source": [
    "#data_GRB2.dropna().to_csv('ppi_network_grb2.txt', sep='\\t', index=False)"
   ]
  },
  {
   "cell_type": "code",
   "execution_count": null,
   "id": "2785ed85-1fcb-44c0-93ed-7ad6ac599c81",
   "metadata": {},
   "outputs": [],
   "source": []
  }
 ],
 "metadata": {
  "kernelspec": {
   "display_name": "Python 3 (ipykernel)",
   "language": "python",
   "name": "python3"
  },
  "language_info": {
   "codemirror_mode": {
    "name": "ipython",
    "version": 3
   },
   "file_extension": ".py",
   "mimetype": "text/x-python",
   "name": "python",
   "nbconvert_exporter": "python",
   "pygments_lexer": "ipython3",
   "version": "3.9.15"
  }
 },
 "nbformat": 4,
 "nbformat_minor": 5
}
