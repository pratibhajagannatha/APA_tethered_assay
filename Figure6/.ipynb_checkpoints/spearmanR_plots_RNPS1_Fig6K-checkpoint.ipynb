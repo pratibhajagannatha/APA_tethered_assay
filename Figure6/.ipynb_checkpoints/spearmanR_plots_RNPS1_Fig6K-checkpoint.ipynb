{
 "cells": [
  {
   "cell_type": "code",
   "execution_count": 1,
   "id": "21b39b2d-fbc6-4b1d-8499-ff94a194c67c",
   "metadata": {},
   "outputs": [],
   "source": [
    "import os\n",
    "import pandas as pd\n",
    "import numpy as np\n",
    "import seaborn as sns\n",
    "import matplotlib.pyplot as plt\n",
    "import glob"
   ]
  },
  {
   "cell_type": "code",
   "execution_count": 2,
   "id": "d4d0b2d6-217a-4d05-8bb2-33e0f9300319",
   "metadata": {},
   "outputs": [],
   "source": [
    "tcga_files = glob.glob('TCGA*')"
   ]
  },
  {
   "cell_type": "code",
   "execution_count": 3,
   "id": "bb8ae550-a855-4b82-92ed-c1f7ae68786b",
   "metadata": {},
   "outputs": [
    {
     "data": {
      "text/plain": [
       "['TCGA-BLCA.star_tpm.tsv.gz',\n",
       " 'TCGA-BRCA.star_tpm.tsv.gz',\n",
       " 'TCGA-HNSC.star_tpm.tsv.gz',\n",
       " 'TCGA-KIRC.star_tpm.tsv.gz',\n",
       " 'TCGA-LUAD.star_tpm.tsv.gz',\n",
       " 'TCGA-LUSC.star_tpm.tsv.gz',\n",
       " 'TCGA-UCEC.star_tpm.tsv.gz']"
      ]
     },
     "execution_count": 3,
     "metadata": {},
     "output_type": "execute_result"
    }
   ],
   "source": [
    "sorted(tcga_files)[:-1]"
   ]
  },
  {
   "cell_type": "code",
   "execution_count": 4,
   "id": "4ef04c47-9a02-42b9-8bbe-6efe73253376",
   "metadata": {},
   "outputs": [],
   "source": [
    "tcga_files_dict = {}\n",
    "for p in sorted(tcga_files)[:-1]:\n",
    "    tcga_files_dict[p.split('.')[0].split('-')[1]] = p\n",
    "    "
   ]
  },
  {
   "cell_type": "code",
   "execution_count": 5,
   "id": "a73ca1af-9840-4504-a0ef-2f821b1bc56a",
   "metadata": {},
   "outputs": [
    {
     "data": {
      "text/plain": [
       "{'BLCA': 'TCGA-BLCA.star_tpm.tsv.gz',\n",
       " 'BRCA': 'TCGA-BRCA.star_tpm.tsv.gz',\n",
       " 'HNSC': 'TCGA-HNSC.star_tpm.tsv.gz',\n",
       " 'KIRC': 'TCGA-KIRC.star_tpm.tsv.gz',\n",
       " 'LUAD': 'TCGA-LUAD.star_tpm.tsv.gz',\n",
       " 'LUSC': 'TCGA-LUSC.star_tpm.tsv.gz',\n",
       " 'UCEC': 'TCGA-UCEC.star_tpm.tsv.gz'}"
      ]
     },
     "execution_count": 5,
     "metadata": {},
     "output_type": "execute_result"
    }
   ],
   "source": [
    "tcga_files_dict"
   ]
  },
  {
   "cell_type": "code",
   "execution_count": 6,
   "id": "3ace4e02-8c33-4bfb-96bd-0c9bfa3ef753",
   "metadata": {},
   "outputs": [],
   "source": [
    "genemap_df = pd.read_csv('gencode.v36.annotation.gtf.gene.probemap', sep='\\t')"
   ]
  },
  {
   "cell_type": "code",
   "execution_count": 7,
   "id": "f678fbbb-98a2-4941-9472-98c90b875341",
   "metadata": {},
   "outputs": [
    {
     "data": {
      "text/html": [
       "<div>\n",
       "<style scoped>\n",
       "    .dataframe tbody tr th:only-of-type {\n",
       "        vertical-align: middle;\n",
       "    }\n",
       "\n",
       "    .dataframe tbody tr th {\n",
       "        vertical-align: top;\n",
       "    }\n",
       "\n",
       "    .dataframe thead th {\n",
       "        text-align: right;\n",
       "    }\n",
       "</style>\n",
       "<table border=\"1\" class=\"dataframe\">\n",
       "  <thead>\n",
       "    <tr style=\"text-align: right;\">\n",
       "      <th></th>\n",
       "      <th>id</th>\n",
       "      <th>gene</th>\n",
       "      <th>chrom</th>\n",
       "      <th>chromStart</th>\n",
       "      <th>chromEnd</th>\n",
       "      <th>strand</th>\n",
       "    </tr>\n",
       "  </thead>\n",
       "  <tbody>\n",
       "    <tr>\n",
       "      <th>0</th>\n",
       "      <td>ENSG00000223972.5</td>\n",
       "      <td>DDX11L1</td>\n",
       "      <td>chr1</td>\n",
       "      <td>11869</td>\n",
       "      <td>14409</td>\n",
       "      <td>+</td>\n",
       "    </tr>\n",
       "    <tr>\n",
       "      <th>1</th>\n",
       "      <td>ENSG00000227232.5</td>\n",
       "      <td>WASH7P</td>\n",
       "      <td>chr1</td>\n",
       "      <td>14404</td>\n",
       "      <td>29570</td>\n",
       "      <td>-</td>\n",
       "    </tr>\n",
       "    <tr>\n",
       "      <th>2</th>\n",
       "      <td>ENSG00000278267.1</td>\n",
       "      <td>MIR6859-1</td>\n",
       "      <td>chr1</td>\n",
       "      <td>17369</td>\n",
       "      <td>17436</td>\n",
       "      <td>-</td>\n",
       "    </tr>\n",
       "    <tr>\n",
       "      <th>3</th>\n",
       "      <td>ENSG00000243485.5</td>\n",
       "      <td>MIR1302-2HG</td>\n",
       "      <td>chr1</td>\n",
       "      <td>29554</td>\n",
       "      <td>31109</td>\n",
       "      <td>+</td>\n",
       "    </tr>\n",
       "    <tr>\n",
       "      <th>4</th>\n",
       "      <td>ENSG00000284332.1</td>\n",
       "      <td>MIR1302-2</td>\n",
       "      <td>chr1</td>\n",
       "      <td>30366</td>\n",
       "      <td>30503</td>\n",
       "      <td>+</td>\n",
       "    </tr>\n",
       "  </tbody>\n",
       "</table>\n",
       "</div>"
      ],
      "text/plain": [
       "                  id         gene chrom  chromStart  chromEnd strand\n",
       "0  ENSG00000223972.5      DDX11L1  chr1       11869     14409      +\n",
       "1  ENSG00000227232.5       WASH7P  chr1       14404     29570      -\n",
       "2  ENSG00000278267.1    MIR6859-1  chr1       17369     17436      -\n",
       "3  ENSG00000243485.5  MIR1302-2HG  chr1       29554     31109      +\n",
       "4  ENSG00000284332.1    MIR1302-2  chr1       30366     30503      +"
      ]
     },
     "execution_count": 7,
     "metadata": {},
     "output_type": "execute_result"
    }
   ],
   "source": [
    "genemap_df.head()"
   ]
  },
  {
   "cell_type": "code",
   "execution_count": 8,
   "id": "84fec48c-bdd3-4d8f-b3b5-2d6e4cb924e2",
   "metadata": {},
   "outputs": [],
   "source": [
    "gene_id_gene_name = dict(zip(genemap_df.id, genemap_df.gene))"
   ]
  },
  {
   "cell_type": "code",
   "execution_count": 9,
   "id": "0a71b990-7678-4827-8587-12a46e48e88b",
   "metadata": {},
   "outputs": [],
   "source": [
    "cancer_df_dict = {}\n",
    "for c in tcga_files_dict:\n",
    "    cancer_df = pd.read_csv(tcga_files_dict[c], sep='\\t')\n",
    "    cancer_df['Gene_name'] = cancer_df.Ensembl_ID.map(gene_id_gene_name)\n",
    "    cancer_df = cancer_df.set_index('Gene_name')\n",
    "    cancer_df = cancer_df[[i for i in cancer_df.columns if 'TCGA' in i]]\n",
    "    cancer_df_dict[c] = cancer_df"
   ]
  },
  {
   "cell_type": "code",
   "execution_count": 10,
   "id": "454d6a78-66a4-42b6-ac69-af80045929b5",
   "metadata": {},
   "outputs": [],
   "source": [
    "dapars_apa = pd.read_csv('41467_2014_BFncomms6274_MOESM506_ESM.csv')"
   ]
  },
  {
   "cell_type": "code",
   "execution_count": 11,
   "id": "190b879a-3c05-4ac4-a09b-3680d6b56f92",
   "metadata": {},
   "outputs": [],
   "source": [
    "dapars_apa['Gene_name'] = dapars_apa.apply(lambda x: x['Event_id'].split('|')[1], axis=1)"
   ]
  },
  {
   "cell_type": "code",
   "execution_count": 12,
   "id": "268ba9ca-b4f2-41fc-903f-0ab7afaad8e3",
   "metadata": {},
   "outputs": [
    {
     "data": {
      "text/html": [
       "<div>\n",
       "<style scoped>\n",
       "    .dataframe tbody tr th:only-of-type {\n",
       "        vertical-align: middle;\n",
       "    }\n",
       "\n",
       "    .dataframe tbody tr th {\n",
       "        vertical-align: top;\n",
       "    }\n",
       "\n",
       "    .dataframe thead th {\n",
       "        text-align: right;\n",
       "    }\n",
       "</style>\n",
       "<table border=\"1\" class=\"dataframe\">\n",
       "  <thead>\n",
       "    <tr style=\"text-align: right;\">\n",
       "      <th></th>\n",
       "      <th>LUSC</th>\n",
       "      <th>UCEC</th>\n",
       "      <th>BLCA</th>\n",
       "      <th>LUAD</th>\n",
       "      <th>BRCA</th>\n",
       "      <th>HNSC</th>\n",
       "      <th>KIRC</th>\n",
       "    </tr>\n",
       "    <tr>\n",
       "      <th>Gene_name</th>\n",
       "      <th></th>\n",
       "      <th></th>\n",
       "      <th></th>\n",
       "      <th></th>\n",
       "      <th></th>\n",
       "      <th></th>\n",
       "      <th></th>\n",
       "    </tr>\n",
       "  </thead>\n",
       "  <tbody>\n",
       "    <tr>\n",
       "      <th>LMAN2</th>\n",
       "      <td>-0.251000</td>\n",
       "      <td>NaN</td>\n",
       "      <td>NaN</td>\n",
       "      <td>NaN</td>\n",
       "      <td>NaN</td>\n",
       "      <td>NaN</td>\n",
       "      <td>NaN</td>\n",
       "    </tr>\n",
       "    <tr>\n",
       "      <th>WAPAL</th>\n",
       "      <td>-0.297059</td>\n",
       "      <td>-0.396250</td>\n",
       "      <td>NaN</td>\n",
       "      <td>-0.27125</td>\n",
       "      <td>NaN</td>\n",
       "      <td>NaN</td>\n",
       "      <td>NaN</td>\n",
       "    </tr>\n",
       "    <tr>\n",
       "      <th>LOX</th>\n",
       "      <td>-0.306364</td>\n",
       "      <td>NaN</td>\n",
       "      <td>NaN</td>\n",
       "      <td>NaN</td>\n",
       "      <td>NaN</td>\n",
       "      <td>NaN</td>\n",
       "      <td>NaN</td>\n",
       "    </tr>\n",
       "    <tr>\n",
       "      <th>NDUFA6</th>\n",
       "      <td>NaN</td>\n",
       "      <td>-0.271429</td>\n",
       "      <td>-0.24</td>\n",
       "      <td>NaN</td>\n",
       "      <td>NaN</td>\n",
       "      <td>NaN</td>\n",
       "      <td>NaN</td>\n",
       "    </tr>\n",
       "    <tr>\n",
       "      <th>MFSD8</th>\n",
       "      <td>-0.276316</td>\n",
       "      <td>NaN</td>\n",
       "      <td>NaN</td>\n",
       "      <td>NaN</td>\n",
       "      <td>-0.265357</td>\n",
       "      <td>NaN</td>\n",
       "      <td>NaN</td>\n",
       "    </tr>\n",
       "  </tbody>\n",
       "</table>\n",
       "</div>"
      ],
      "text/plain": [
       "               LUSC      UCEC  BLCA     LUAD      BRCA  HNSC  KIRC\n",
       "Gene_name                                                         \n",
       "LMAN2     -0.251000       NaN   NaN      NaN       NaN   NaN   NaN\n",
       "WAPAL     -0.297059 -0.396250   NaN -0.27125       NaN   NaN   NaN\n",
       "LOX       -0.306364       NaN   NaN      NaN       NaN   NaN   NaN\n",
       "NDUFA6          NaN -0.271429 -0.24      NaN       NaN   NaN   NaN\n",
       "MFSD8     -0.276316       NaN   NaN      NaN -0.265357   NaN   NaN"
      ]
     },
     "execution_count": 12,
     "metadata": {},
     "output_type": "execute_result"
    }
   ],
   "source": [
    "dapars_apa = dapars_apa.set_index('Gene_name')\n",
    "dapars_apa = dapars_apa[[i for i in dapars_apa.columns if i != 'Event_id']]\n",
    "dapars_apa.head()"
   ]
  },
  {
   "cell_type": "code",
   "execution_count": 13,
   "id": "1433185f-e51b-4f66-a539-911d2f943921",
   "metadata": {},
   "outputs": [],
   "source": [
    "cancer_type = []\n",
    "shortening = []\n",
    "lengthening = []\n",
    "for c in dapars_apa.columns:\n",
    "    cancer_type.append(c)\n",
    "    lengthening.append(dapars_apa[dapars_apa[c] >0].shape[0])\n",
    "    shortening.append(-dapars_apa[dapars_apa[c] <0].shape[0])"
   ]
  },
  {
   "cell_type": "code",
   "execution_count": 14,
   "id": "07bc00aa-8e4d-476d-aabc-889dc567c407",
   "metadata": {},
   "outputs": [],
   "source": [
    "tcga_apa_events = pd.DataFrame([cancer_type, shortening, lengthening], index=['cancer', 'shortening', 'lengthening']).T\n"
   ]
  },
  {
   "cell_type": "code",
   "execution_count": 15,
   "id": "cc4e30ef-e670-4404-bc8f-b12c9a22fc19",
   "metadata": {},
   "outputs": [],
   "source": [
    "candidates_list = pd.read_csv('candidate_list.txt', header=None)[0].tolist()"
   ]
  },
  {
   "cell_type": "code",
   "execution_count": 16,
   "id": "ee53b4e1-acc0-42f1-ac9e-0fd9b16a0f4d",
   "metadata": {},
   "outputs": [],
   "source": [
    "salmon_path = '/tscc/nfs/home/pjaganna1/projects/apa_screen_yongsheng/apa_kd_data_graveley_redo/salmon_out'"
   ]
  },
  {
   "cell_type": "code",
   "execution_count": 17,
   "id": "a1a02842-33d6-4163-bfeb-9768b9addaf2",
   "metadata": {},
   "outputs": [],
   "source": [
    "sequenced_samples = set([i.split('/')[-1].split('-')[0] for i in glob.glob(os.path.join(salmon_path, '*.sf'))])"
   ]
  },
  {
   "cell_type": "code",
   "execution_count": 18,
   "id": "b74e9500-8c78-45bb-863c-3e50c7bc1232",
   "metadata": {},
   "outputs": [],
   "source": [
    "remove_candidates = ['GTSF1']"
   ]
  },
  {
   "cell_type": "code",
   "execution_count": 19,
   "id": "4b732740-226b-4590-b602-d2ed62683c59",
   "metadata": {},
   "outputs": [],
   "source": [
    "final_candidate_list = list((set(candidates_list).intersection(sequenced_samples)) - set(remove_candidates))"
   ]
  },
  {
   "cell_type": "code",
   "execution_count": 20,
   "id": "8e6d3a30-0442-464c-86b6-6cd9417acea6",
   "metadata": {},
   "outputs": [],
   "source": [
    "final_candidate_list = final_candidate_list + ['NUDT21', 'CPSF6']"
   ]
  },
  {
   "cell_type": "code",
   "execution_count": null,
   "id": "5356fb9f-3618-4858-9970-a868a5b68a9f",
   "metadata": {},
   "outputs": [],
   "source": []
  },
  {
   "cell_type": "code",
   "execution_count": 22,
   "id": "1a198022-82ea-4ff4-9d13-dddc260c133e",
   "metadata": {},
   "outputs": [],
   "source": [
    "exp_dict = {}\n",
    "for g in final_candidate_list:\n",
    "    exp_dict[g] = {}\n",
    "    for c in tcga_apa_events.sort_values(by='shortening', ascending=False)['cancer'].tolist():\n",
    "        exp_dict[g][c] = cancer_df_dict[c].loc[g]"
   ]
  },
  {
   "cell_type": "code",
   "execution_count": 23,
   "id": "05d7569f-850f-48eb-a2f8-f990f8933d6c",
   "metadata": {},
   "outputs": [],
   "source": [
    "tcga_apa_events_pct = tcga_apa_events.copy()\n",
    "# Make shortening values positive\n",
    "tcga_apa_events_pct[\"shortening\"] = tcga_apa_events_pct[\"shortening\"].abs()\n",
    "\n",
    "# Calculate percentages\n",
    "tcga_apa_events_pct[\"shortening_percentage\"] = (tcga_apa_events_pct[\"shortening\"] / (tcga_apa_events_pct[\"shortening\"] + tcga_apa_events_pct[\"lengthening\"])) * 100\n",
    "tcga_apa_events_pct[\"lengthening_percentage\"] = (tcga_apa_events_pct[\"lengthening\"] / (tcga_apa_events_pct[\"shortening\"] + tcga_apa_events_pct[\"lengthening\"])) * 100\n",
    "tcga_apa_events_pct = tcga_apa_events_pct.set_index('cancer')[['shortening']]"
   ]
  },
  {
   "cell_type": "code",
   "execution_count": 24,
   "id": "b1282c6b-f87e-402f-8cde-54fd669d6e75",
   "metadata": {},
   "outputs": [],
   "source": [
    "from scipy import stats"
   ]
  },
  {
   "cell_type": "code",
   "execution_count": 26,
   "id": "67544ce1-d786-4b44-9d39-9e8a360ddd90",
   "metadata": {},
   "outputs": [
    {
     "data": {
      "image/png": "[encoded data removed]",
      "text/plain": [
       "<Figure size 300x300 with 2 Axes>"
      ]
     },
     "metadata": {},
     "output_type": "display_data"
    }
   ],
   "source": [
    "spearmanr_list = []\n",
    "sns.set(font_scale=0.5)\n",
    "sns.set_style('white')\n",
    "exp_averages = {}\n",
    "for g in ['RNPS1']:\n",
    "    exp_averages[g] = {}\n",
    "    for c in cancer_df_dict:\n",
    "        exp_averages[g][c] = exp_dict[g][c].mean()\n",
    "    stat, pval = stats.spearmanr(tcga_apa_events_pct['shortening'],\n",
    "                          tcga_apa_events_pct.index.map(exp_averages[g])\n",
    "                                )\n",
    "    spearmanr_list.append([g, stat, -np.log10(pval)])\n",
    "\n",
    "    fig, axes = plt.subplots(2, 1, sharex=True, figsize=(3,3))\n",
    "    sns.violinplot(exp_dict[g], ax=axes[0])\n",
    "\n",
    "    sns.barplot(data=tcga_apa_events.sort_values(by='shortening', ascending=False), x='cancer', y='shortening', ax=axes[1])\n",
    "    sns.barplot(data=tcga_apa_events.sort_values(by='shortening', ascending=False), x='cancer', y='lengthening', ax=axes[1])\n",
    "    plt.suptitle(g + ' R={0:.2f}'.format(stat))\n",
    "    plt.show()"
   ]
  },
  {
   "cell_type": "code",
   "execution_count": null,
   "id": "584994df-e0a6-408b-ae30-159612c514bd",
   "metadata": {},
   "outputs": [],
   "source": []
  }
 ],
 "metadata": {
  "kernelspec": {
   "display_name": "Python 3 (ipykernel)",
   "language": "python",
   "name": "python3"
  },
  "language_info": {
   "codemirror_mode": {
    "name": "ipython",
    "version": 3
   },
   "file_extension": ".py",
   "mimetype": "text/x-python",
   "name": "python",
   "nbconvert_exporter": "python",
   "pygments_lexer": "ipython3",
   "version": "3.9.15"
  }
 },
 "nbformat": 4,
 "nbformat_minor": 5
}
